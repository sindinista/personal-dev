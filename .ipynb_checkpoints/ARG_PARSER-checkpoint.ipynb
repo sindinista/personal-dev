{
 "cells": [
  {
   "cell_type": "code",
   "execution_count": 14,
   "metadata": {},
   "outputs": [
    {
     "name": "stderr",
     "output_type": "stream",
     "text": [
      "usage: ipykernel_launcher.py [-h] --server SERVER --username USERNAME\n",
      "                             [--site SITE] [-p P]\n",
      "                             [--logging-level {debug,info,error}]\n",
      "                             (--pdf | --png | --csv) [--file FILE]\n",
      "                             [--filter COLUMN:VALUE]\n",
      "                             resource_id\n",
      "ipykernel_launcher.py: error: the following arguments are required: --server/-s, --username/-u, resource_id\n"
     ]
    },
    {
     "ename": "SystemExit",
     "evalue": "2",
     "output_type": "error",
     "traceback": [
      "An exception has occurred, use %tb to see the full traceback.\n",
      "\u001b[1;31mSystemExit\u001b[0m\u001b[1;31m:\u001b[0m 2\n"
     ]
    }
   ],
   "source": [
    "import argparse\n",
    "import getpass\n",
    "import logging\n",
    "import sys\n",
    "import tableauserverclient as TSC\n",
    "\n",
    "\n",
    "    parser = argparse.ArgumentParser(description='Export a view as an image, pdf, or csv')\n",
    "    parser.add_argument('--server', '-s', required=True, help='server address')\n",
    "    parser.add_argument('--username', '-u', required=True, help='username to sign into server')\n",
    "    parser.add_argument('--site', '-S', default=None)\n",
    "    parser.add_argument('-p', default=None)\n",
    "\n",
    "    parser.add_argument('--logging-level', '-l', choices=['debug', 'info', 'error'], default='error',\n",
    "                        help='desired logging level (set to error by default)')\n",
    "    group = parser.add_mutually_exclusive_group(required=True)\n",
    "    group.add_argument('--pdf', dest='type', action='store_const', const=('populate_pdf', 'PDFRequestOptions', 'pdf',\n",
    "                                                                          'pdf'))\n",
    "    group.add_argument('--png', dest='type', action='store_const', const=('populate_image', 'ImageRequestOptions',\n",
    "                                                                          'image', 'png'))\n",
    "    group.add_argument('--csv', dest='type', action='store_const', const=('populate_csv', 'CSVRequestOptions', 'csv',\n",
    "                                                                          'csv'))\n",
    "\n",
    "    parser.add_argument('--file', '-f', help='filename to store the exported data')\n",
    "    parser.add_argument('--filter', '-vf', metavar='COLUMN:VALUE',\n",
    "                        help='View filter to apply to the view')\n",
    "    parser.add_argument('resource_id', help='LUID for the view')\n",
    "\n",
    "    args = parser.parse_args()\n",
    "\n",
    "    if args.p is None:\n",
    "        password = getpass.getpass(\"Password: \")\n",
    "    else:\n",
    "        password = args.p\n",
    "\n",
    "    # Set logging level based on user input, or error by default\n",
    "    logging_level = getattr(logging, args.logging_level.upper())\n",
    "    logging.basicConfig(level=logging_level)\n"
   ]
  },
  {
   "cell_type": "code",
   "execution_count": 27,
   "metadata": {},
   "outputs": [
    {
     "name": "stdout",
     "output_type": "stream",
     "text": [
      "Namespace(file=None, filter=None, logging_level='error', p=' bob', resource_id='189', server=' host', site=None, type=('populate_pdf', 'PDFRequestOptions', 'pdf', 'pdf'), username=' rlp')\n",
      "Namespace(file=None, filter=None, logging_level='error', p=' bob', resource_id='188', server=' host', site=None, type=('populate_pdf', 'PDFRequestOptions', 'pdf', 'pdf'), username=' rlp')\n",
      "Namespace(file=None, filter=None, logging_level='error', p=' bob', resource_id='187', server=' host', site=None, type=('populate_pdf', 'PDFRequestOptions', 'pdf', 'pdf'), username=' rlp')\n",
      "Namespace(file=None, filter=None, logging_level='error', p=' bob', resource_id='190', server=' host', site=None, type=('populate_pdf', 'PDFRequestOptions', 'pdf', 'pdf'), username=' rlp')\n"
     ]
    }
   ],
   "source": [
    "import argparse\n",
    "def main(i) :\n",
    "    parser = argparse.ArgumentParser(description='Export a view as an image, pdf, or csv')\n",
    "    parser.add_argument('--server', '-s', required=True, help='server address')\n",
    "    parser.add_argument('--username', '-u', required=True, help='username to sign into server')\n",
    "    parser.add_argument('--site', '-S', default=None)\n",
    "    parser.add_argument('-p', default=None)\n",
    "\n",
    "    parser.add_argument('--logging-level', '-l', choices=['debug', 'info', 'error'], default='error',\n",
    "                        help='desired logging level (set to error by default)')\n",
    "    group = parser.add_mutually_exclusive_group(required=True)\n",
    "    group.add_argument('--pdf', dest='type', action='store_const', const=('populate_pdf', 'PDFRequestOptions', 'pdf',\n",
    "                                                                          'pdf'))\n",
    "    group.add_argument('--png', dest='type', action='store_const', const=('populate_image', 'ImageRequestOptions',\n",
    "                                                                          'image', 'png'))\n",
    "    group.add_argument('--csv', dest='type', action='store_const', const=('populate_csv', 'CSVRequestOptions', 'csv',\n",
    "                                                                          'csv'))\n",
    "\n",
    "    parser.add_argument('--file', '-f', help='filename to store the exported data')\n",
    "    parser.add_argument('--filter', '-vf', metavar='COLUMN:VALUE',\n",
    "                        help='View filter to apply to the view')\n",
    "    parser.add_argument('resource_id', help='LUID for the view')\n",
    "\n",
    "    args = parser.parse_args(args=i)\n",
    "\n",
    "    if args.p is None:\n",
    "        password = getpass.getpass(\"Password: \")\n",
    "    else:\n",
    "        password = args.p\n",
    "\n",
    "    # Set logging level based on user input, or error by default\n",
    "    logging_level = getattr(logging, args.logging_level.upper())\n",
    "    logging.basicConfig(level=logging_level)\n",
    "    print(args)\n",
    "    \n",
    "lst = []\n",
    "\n",
    "lst.append(['-s host', '-u rlp', '189','--pdf', '-p bob'])\n",
    "lst.append(['-s host', '-u rlp', '188','--pdf', '-p bob'])\n",
    "lst.append(['-s host', '-u rlp', '187','--pdf', '-p bob'])\n",
    "lst.append(['-s host', '-u rlp', '190','--pdf', '-p bob'])\n",
    "\n",
    "for i in lst :\n",
    "    main(i)"
   ]
  },
  {
   "cell_type": "code",
   "execution_count": null,
   "metadata": {},
   "outputs": [],
   "source": [
    "   tableau_auth = TSC.TableauAuth(args.username, password, args.site)\n",
    "    server = TSC.Server(args.server, use_server_version=True)\n",
    "    with server.auth.sign_in(tableau_auth):\n",
    "        views = filter(lambda x: x.id == args.resource_id,\n",
    "                       TSC.Pager(server.views.get))\n",
    "        view = views.pop()\n",
    "\n",
    "        # We have a number of different types and functions for each different export type.\n",
    "        # We encode that information above in the const=(...) parameter to the add_argument function to make\n",
    "        # the code automatically adapt for the type of export the user is doing.\n",
    "        # We unroll that information into methods we can call, or objects we can create by using getattr()\n",
    "        (populate_func_name, option_factory_name, member_name, extension) = args.type\n",
    "        populate = getattr(server.views, populate_func_name)\n",
    "        option_factory = getattr(TSC, option_factory_name)\n",
    "\n",
    "        if args.filter:\n",
    "            options = option_factory().vf(*args.filter.split(':'))\n",
    "        else:\n",
    "            options = None\n",
    "        if args.file:\n",
    "            filename = args.file\n",
    "        else:\n",
    "            filename = 'out.{}'.format(extension)\n",
    "\n",
    "        populate(view, options)\n",
    "        with file(filename, 'wb') as f:\n",
    "            if member_name == 'csv':\n",
    "                f.writelines(getattr(view, member_name))\n",
    "            else:\n",
    "                f.write(getattr(view, member_name))\n"
   ]
  }
 ],
 "metadata": {
  "kernelspec": {
   "display_name": "Python 3",
   "language": "python",
   "name": "python3"
  },
  "language_info": {
   "codemirror_mode": {
    "name": "ipython",
    "version": 3
   },
   "file_extension": ".py",
   "mimetype": "text/x-python",
   "name": "python",
   "nbconvert_exporter": "python",
   "pygments_lexer": "ipython3",
   "version": "3.7.3"
  }
 },
 "nbformat": 4,
 "nbformat_minor": 4
}
