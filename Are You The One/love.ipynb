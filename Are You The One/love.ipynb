{
 "metadata": {
  "language_info": {
   "codemirror_mode": {
    "name": "ipython",
    "version": 3
   },
   "file_extension": ".py",
   "mimetype": "text/x-python",
   "name": "python",
   "nbconvert_exporter": "python",
   "pygments_lexer": "ipython3",
   "version": "3.8.5"
  },
  "orig_nbformat": 2,
  "kernelspec": {
   "name": "python385jvsc74a57bd0a5ad702c9c315381ed960c88607c1e4d0a4ab0708f2a2473b37af57a76b83b6b",
   "display_name": "Python 3.8.5 64-bit ('base': conda)"
  }
 },
 "nbformat": 4,
 "nbformat_minor": 2,
 "cells": [
  {
   "cell_type": "code",
   "execution_count": 327,
   "metadata": {},
   "outputs": [],
   "source": [
    "import pandas as pd\n",
    "import numpy as np\n",
    "import itertools"
   ]
  },
  {
   "cell_type": "code",
   "execution_count": 328,
   "metadata": {},
   "outputs": [],
   "source": [
    "men=[\"Anthony\",\"Pratt\",\"Nathan\",\"Brandon\",\"Alex\",\"Layton\",\"Curtis\",\"John\",\"Dario\",\"Garland\"]\n",
    "women=[\"Jasmine\",\"Paris\",\"Ellie\",\"Briana\",\"Jenni\",\"Christina\",\"Tyler\",\"Jessica\",\"Alexandria\",\"Ashley\",\"Shelby\"]"
   ]
  },
  {
   "cell_type": "code",
   "execution_count": 329,
   "metadata": {},
   "outputs": [],
   "source": [
    "perfect_match = [(\"Curtis\",\"Shelby\"),(\"Pratt\",\"Paris\"),(\"John\",\"Jenni\"),(\"Alex\",\"Jasmine\"),(\"Dario\",\"Ashley\"),(\"Layton\",\"Christina\"),(\"\")]\n",
    "no_match = [(\"Brandon\",\"Jessica\"),(\"Brandon\",\"Christina\"),(\"Brandon\",\"Alexandria\"),(\"John\",\"Jasmine\"),(\"Nathan\",\"Christina\"),(\"Dario\",\"Christina\")]"
   ]
  },
  {
   "cell_type": "code",
   "execution_count": 330,
   "metadata": {},
   "outputs": [],
   "source": [
    "def remove_matched (couples_list) :\n",
    "    couples_list = [i for i in couples_list if i[0] not in [i[0] for i in perfect_match]]\n",
    "    couples_list = [i for i in couples_list if i[1] not in [i[1] for i in perfect_match]]\n",
    "    for i in perfect_match :\n",
    "        couples_list.append(i)\n",
    "    return couples_list\n",
    "\n",
    "def match_remove_matched (couples_list) :\n",
    "    couples_list = [i for i in couples_list if i[0] not in [i[0] for i in perfect_match]]\n",
    "    couples_list = [i for i in couples_list if i[1] not in [i[1] for i in perfect_match]]\n",
    "    return couples_list\n",
    "    \n",
    "def remove_no_match (couples_list) :\n",
    "    couples_list = [i for i in couples_list if i not in [i for i in no_match]]\n",
    "    return couples_list"
   ]
  },
  {
   "cell_type": "code",
   "execution_count": 331,
   "metadata": {},
   "outputs": [],
   "source": [
    "match1 = [(\"Layton\",\"Jenni\"),(\"Dario\",\"Ashley\"),(\"Pratt\",\"Paris\"),(\"Curtis\",\"Briana\"),(\"John\",\"Jasmine\"),(\"Brandon\",\"Christina\"),(\"Garland\",\"Alexandria\"),(\"Anthony\",\"Jessica\"),(\"Nathan\",\"Shelby\"),(\"Alex\",\"Ellie\")]\n",
    "match1_matches = 2\n",
    "match2 = [(\"Layton\",\"Jessica\"),(\"Dario\",\"Shelby\"),(\"Pratt\",\"Paris\"),(\"Garland\",\"Jasmine\"),(\"John\",\"Ashley\"),(\"Brandon\",\"Tyler\"),(\"Alex\",\"Christina\"),(\"Anthony\",\"Alexandria\"),(\"Nathan\",\"Jenni\"),(\"Curtis\",\"Briana\")]\n",
    "match2_matches = 2\n",
    "match3 = [(\"John\",\"Christina\"),(\"Curtis\",\"Briana\"),(\"Nathan\",\"Jessica\"),(\"Brandon\",\"Shelby\"),(\"Pratt\",\"Paris\"),(\"Garland\",\"Alexandria\"),(\"Dario\",\"Ashley\"),(\"Alex\",\"Jasmine\"),(\"Anthony\",\"Jenni\"),(\"Layton\",\"Ellie\")]\n",
    "match3_matches = 3\n",
    "match4 = [(\"Brandon\",\"Ellie\"),(\"Anthony\",\"Jenni\"),(\"Curtis\",\"Briana\"),(\"Alex\",\"Tyler\"),(\"Dario\",\"Shelby\"),(\"Nathan\",\"Alexandria\"),(\"John\",\"Christina\"),(\"Garland\",\"Jasmine\"),(\"Layton\",\"Jessica\"),(\"Pratt\",\"Paris\")]\n",
    "match4_matches = 1\n",
    "match5 = [(\"Curtis\",\"Shelby\"),(\"Pratt\",\"Paris\"),(\"Anthony\",\"Ashley\"),(\"Brandon\",\"Jasmine\"),(\"Garland\",\"Tyler\"),(\"John\",\"Jenni\"),(\"Layton\",\"Briana\"),(\"Alex\",\"Christina\"),(\"Nathan\",\"Jessica\"),(\"Dario\",\"Alexandria\")]\n",
    "match5_matches = 3\n",
    "match6 = [(\"Curtis\",\"Shelby\"),(\"Pratt\",\"Paris\"),(\"Brandon\",\"Ashley\"),(\"Nathan\",\"Jasmine\"),(\"Dario\",\"Briana\"),(\"Anthony\",\"Ellie\"),(\"Garland\",\"Tyler\"),(\"John\",\"Alexandria\"),(\"Layton\",\"Jenni\"),(\"Alex\",\"Jessica\")]\n",
    "match6_matches = 2\n",
    "match7 = [(\"Curtis\",\"Shelby\"),(\"Pratt\",\"Paris\"),(\"John\",\"Jenni\"),(\"Dario\",\"Ashley\"),(\"Alex\",\"Jasmine\"),(\"Layton\",\"Ellie\"),(\"Brandon\",\"Tyler\"),(\"Anthony\",\"Briana\"),(\"Nathan\",\"Christina\"),(\"Garland\",\"Jessica\")]\n",
    "match7_matches = 6\n",
    "match8 = [(\"Curtis\",\"Shelby\"),(\"Pratt\",\"Paris\"),(\"John\",\"Jenni\"),(\"Nathan\",\"Briana\"),(\"Alex\",\"Jasmine\"),(\"Anthony\",\"Jessica\"),(\"Brandon\",\"Tyler\"),(\"Garland\",\"Alexandria\"),(\"Layton\",\"Ellie\"),(\"Dario\",\"Ashley\")]\n",
    "match8_matches = 5\n",
    "match9 = [(\"Curtis\",\"Shelby\"),(\"Pratt\",\"Paris\"),(\"John\",\"Jenni\"),(\"Alex\",\"Jasmine\"),(\"Nathan\",\"Ellie\"),(\"Garland\",\"Jessica\"),(\"Layton\",\"Ashley\"),(\"Dario\",\"Ashley\"),(\"Brandon\",\"Briana\"),(\"Anthony\",\"Alexandria\")]\n",
    "match9_matches = 8\n",
    "match10 = [(\"Curtis\",\"Shelby\"),(\"Pratt\",\"Paris\"),(\"John\",\"Jenni\")]\n",
    "match10_matches = 3"
   ]
  },
  {
   "cell_type": "code",
   "execution_count": 332,
   "metadata": {},
   "outputs": [],
   "source": [
    "def process_match (match, match_matches) :\n",
    "    # remove perfect matches and reduce _matches by that value\n",
    "    match_perfect_matches = [i for i in match if \"\".join(i) in [\"\".join(i) for i in perfect_match]]\n",
    "    # if the remaining value is 0, add all matches to no_match\n",
    "    if len(match_perfect_matches) == match_matches :\n",
    "        match = [i for i in match if \"\".join(i) not in [\"\".join(i) for i in perfect_match]]\n",
    "        for i in match :\n",
    "            if \"\".join(i) not in [\"\".join(i) for i in no_match] :\n",
    "                no_match.append(i)\n",
    "            else :\n",
    "                continue\n",
    "        match_matches_remaining = match_matches - len(match_perfect_matches)\n",
    "    else : \n",
    "        match_matches_remaining = match_matches - len(match_perfect_matches)\n",
    "    match = remove_no_match(match_remove_matched(match))\n",
    "    return (match, match_matches_remaining)\n"
   ]
  },
  {
   "cell_type": "code",
   "execution_count": 333,
   "metadata": {},
   "outputs": [],
   "source": [
    "for n in reversed(range(1,11)) :\n",
    "    exec(\"(match{n}, match{n}_matches) = process_match(match{n}, match{n}_matches)\".format(n=n))\n",
    "for n in range(1,11) :\n",
    "    exec(\"(match{n}, match{n}_matches) = process_match(match{n}, match{n}_matches)\".format(n=n))"
   ]
  },
  {
   "cell_type": "code",
   "execution_count": 334,
   "metadata": {},
   "outputs": [],
   "source": [
    "def df_match_probability (match, match_matches) :\n",
    "    df = pd.DataFrame(data=match, columns=[\"man\",\"woman\"])\n",
    "    if match_matches == 0 :\n",
    "        df[\"probability\"] = 0\n",
    "    else :\n",
    "        df[\"probability\"] = match_matches/len(match)\n",
    "    return df"
   ]
  },
  {
   "cell_type": "code",
   "execution_count": 335,
   "metadata": {},
   "outputs": [],
   "source": [
    "for n in range(1,11) :\n",
    "    exec(\"match{n}_df = df_match_probability (match{n}, match{n}_matches)\".format(n=n))"
   ]
  },
  {
   "cell_type": "code",
   "execution_count": 336,
   "metadata": {},
   "outputs": [],
   "source": [
    "all_couples = list(product(men, women))\n",
    "remaining_couples = remove_no_match(remove_matched(all_couples))\n",
    "couples_df = pd.DataFrame(data=remaining_couples, columns=[\"man\",\"woman\"])\n",
    "couples_df[\"probability\"] = np.empty((len(couples_df), 0)).tolist()"
   ]
  },
  {
   "cell_type": "code",
   "execution_count": 337,
   "metadata": {},
   "outputs": [],
   "source": [
    "def append_probability (df) :\n",
    "    for row in df.itertuples(index=False)  :\n",
    "        for couple in couples_df.itertuples(index=False)  :\n",
    "            if row.man == couple.man :\n",
    "                if row.woman == couple.woman :\n",
    "                    couple.probability.append(row.probability)\n",
    "                else :\n",
    "                    continue\n",
    "            else :\n",
    "                continue"
   ]
  },
  {
   "cell_type": "code",
   "execution_count": 338,
   "metadata": {},
   "outputs": [],
   "source": [
    "for n in range(1,11) :\n",
    "    exec(\"append_probability(match{n}_df)\".format(n=n))"
   ]
  },
  {
   "cell_type": "code",
   "execution_count": 339,
   "metadata": {},
   "outputs": [],
   "source": [
    "def average (df_list):\n",
    "    if len(df_list[\"probability\"]) == 0 :\n",
    "        _ = 0\n",
    "    else :\n",
    "        _ = sum(df_list[\"probability\"])/ len(df_list[\"probability\"])\n",
    "    return _"
   ]
  },
  {
   "cell_type": "code",
   "execution_count": 340,
   "metadata": {},
   "outputs": [],
   "source": [
    "couples_df[\"total_probability\"] = couples_df.apply(average, axis=1)"
   ]
  },
  {
   "cell_type": "code",
   "execution_count": 341,
   "metadata": {},
   "outputs": [
    {
     "output_type": "execute_result",
     "data": {
      "text/plain": [
       "        man       woman  probability  total_probability\n",
       "0   Anthony      Briana        [0.5]              0.500\n",
       "1   Anthony   Christina           []              0.000\n",
       "2   Anthony       Tyler           []              0.000\n",
       "3   Anthony  Alexandria  [1.0, 0.75]              0.875\n",
       "4    Nathan       Ellie       [0.75]              0.750\n",
       "5    Nathan       Tyler           []              0.000\n",
       "6   Brandon      Briana       [0.75]              0.750\n",
       "7    Layton   Christina           []              0.000\n",
       "8    Layton       Tyler           []              0.000\n",
       "9    Layton  Alexandria           []              0.000\n",
       "10  Garland       Ellie           []              0.000\n",
       "11  Garland      Briana           []              0.000\n",
       "12  Garland   Christina           []              0.000\n",
       "13  Garland     Jessica  [0.5, 0.75]              0.625\n",
       "14   Curtis      Shelby           []              0.000\n",
       "15    Pratt       Paris           []              0.000\n",
       "16     John       Jenni           []              0.000\n",
       "17     Alex     Jasmine           []              0.000\n",
       "18    Dario      Ashley           []              0.000"
      ],
      "text/html": "<div>\n<style scoped>\n    .dataframe tbody tr th:only-of-type {\n        vertical-align: middle;\n    }\n\n    .dataframe tbody tr th {\n        vertical-align: top;\n    }\n\n    .dataframe thead th {\n        text-align: right;\n    }\n</style>\n<table border=\"1\" class=\"dataframe\">\n  <thead>\n    <tr style=\"text-align: right;\">\n      <th></th>\n      <th>man</th>\n      <th>woman</th>\n      <th>probability</th>\n      <th>total_probability</th>\n    </tr>\n  </thead>\n  <tbody>\n    <tr>\n      <th>0</th>\n      <td>Anthony</td>\n      <td>Briana</td>\n      <td>[0.5]</td>\n      <td>0.500</td>\n    </tr>\n    <tr>\n      <th>1</th>\n      <td>Anthony</td>\n      <td>Christina</td>\n      <td>[]</td>\n      <td>0.000</td>\n    </tr>\n    <tr>\n      <th>2</th>\n      <td>Anthony</td>\n      <td>Tyler</td>\n      <td>[]</td>\n      <td>0.000</td>\n    </tr>\n    <tr>\n      <th>3</th>\n      <td>Anthony</td>\n      <td>Alexandria</td>\n      <td>[1.0, 0.75]</td>\n      <td>0.875</td>\n    </tr>\n    <tr>\n      <th>4</th>\n      <td>Nathan</td>\n      <td>Ellie</td>\n      <td>[0.75]</td>\n      <td>0.750</td>\n    </tr>\n    <tr>\n      <th>5</th>\n      <td>Nathan</td>\n      <td>Tyler</td>\n      <td>[]</td>\n      <td>0.000</td>\n    </tr>\n    <tr>\n      <th>6</th>\n      <td>Brandon</td>\n      <td>Briana</td>\n      <td>[0.75]</td>\n      <td>0.750</td>\n    </tr>\n    <tr>\n      <th>7</th>\n      <td>Layton</td>\n      <td>Christina</td>\n      <td>[]</td>\n      <td>0.000</td>\n    </tr>\n    <tr>\n      <th>8</th>\n      <td>Layton</td>\n      <td>Tyler</td>\n      <td>[]</td>\n      <td>0.000</td>\n    </tr>\n    <tr>\n      <th>9</th>\n      <td>Layton</td>\n      <td>Alexandria</td>\n      <td>[]</td>\n      <td>0.000</td>\n    </tr>\n    <tr>\n      <th>10</th>\n      <td>Garland</td>\n      <td>Ellie</td>\n      <td>[]</td>\n      <td>0.000</td>\n    </tr>\n    <tr>\n      <th>11</th>\n      <td>Garland</td>\n      <td>Briana</td>\n      <td>[]</td>\n      <td>0.000</td>\n    </tr>\n    <tr>\n      <th>12</th>\n      <td>Garland</td>\n      <td>Christina</td>\n      <td>[]</td>\n      <td>0.000</td>\n    </tr>\n    <tr>\n      <th>13</th>\n      <td>Garland</td>\n      <td>Jessica</td>\n      <td>[0.5, 0.75]</td>\n      <td>0.625</td>\n    </tr>\n    <tr>\n      <th>14</th>\n      <td>Curtis</td>\n      <td>Shelby</td>\n      <td>[]</td>\n      <td>0.000</td>\n    </tr>\n    <tr>\n      <th>15</th>\n      <td>Pratt</td>\n      <td>Paris</td>\n      <td>[]</td>\n      <td>0.000</td>\n    </tr>\n    <tr>\n      <th>16</th>\n      <td>John</td>\n      <td>Jenni</td>\n      <td>[]</td>\n      <td>0.000</td>\n    </tr>\n    <tr>\n      <th>17</th>\n      <td>Alex</td>\n      <td>Jasmine</td>\n      <td>[]</td>\n      <td>0.000</td>\n    </tr>\n    <tr>\n      <th>18</th>\n      <td>Dario</td>\n      <td>Ashley</td>\n      <td>[]</td>\n      <td>0.000</td>\n    </tr>\n  </tbody>\n</table>\n</div>"
     },
     "metadata": {},
     "execution_count": 341
    }
   ],
   "source": [
    "couples_df"
   ]
  },
  {
   "cell_type": "code",
   "execution_count": 342,
   "metadata": {},
   "outputs": [
    {
     "output_type": "execute_result",
     "data": {
      "text/plain": [
       "        man       woman  probability  total_probability\n",
       "9    Layton  Alexandria           []              0.000\n",
       "3   Anthony  Alexandria  [1.0, 0.75]              0.875\n",
       "18    Dario      Ashley           []              0.000\n",
       "6   Brandon      Briana       [0.75]              0.750\n",
       "11  Garland      Briana           []              0.000\n",
       "0   Anthony      Briana        [0.5]              0.500\n",
       "1   Anthony   Christina           []              0.000\n",
       "7    Layton   Christina           []              0.000\n",
       "12  Garland   Christina           []              0.000\n",
       "4    Nathan       Ellie       [0.75]              0.750\n",
       "10  Garland       Ellie           []              0.000\n",
       "17     Alex     Jasmine           []              0.000\n",
       "16     John       Jenni           []              0.000\n",
       "13  Garland     Jessica  [0.5, 0.75]              0.625\n",
       "15    Pratt       Paris           []              0.000\n",
       "14   Curtis      Shelby           []              0.000\n",
       "5    Nathan       Tyler           []              0.000\n",
       "8    Layton       Tyler           []              0.000\n",
       "2   Anthony       Tyler           []              0.000"
      ],
      "text/html": "<div>\n<style scoped>\n    .dataframe tbody tr th:only-of-type {\n        vertical-align: middle;\n    }\n\n    .dataframe tbody tr th {\n        vertical-align: top;\n    }\n\n    .dataframe thead th {\n        text-align: right;\n    }\n</style>\n<table border=\"1\" class=\"dataframe\">\n  <thead>\n    <tr style=\"text-align: right;\">\n      <th></th>\n      <th>man</th>\n      <th>woman</th>\n      <th>probability</th>\n      <th>total_probability</th>\n    </tr>\n  </thead>\n  <tbody>\n    <tr>\n      <th>9</th>\n      <td>Layton</td>\n      <td>Alexandria</td>\n      <td>[]</td>\n      <td>0.000</td>\n    </tr>\n    <tr>\n      <th>3</th>\n      <td>Anthony</td>\n      <td>Alexandria</td>\n      <td>[1.0, 0.75]</td>\n      <td>0.875</td>\n    </tr>\n    <tr>\n      <th>18</th>\n      <td>Dario</td>\n      <td>Ashley</td>\n      <td>[]</td>\n      <td>0.000</td>\n    </tr>\n    <tr>\n      <th>6</th>\n      <td>Brandon</td>\n      <td>Briana</td>\n      <td>[0.75]</td>\n      <td>0.750</td>\n    </tr>\n    <tr>\n      <th>11</th>\n      <td>Garland</td>\n      <td>Briana</td>\n      <td>[]</td>\n      <td>0.000</td>\n    </tr>\n    <tr>\n      <th>0</th>\n      <td>Anthony</td>\n      <td>Briana</td>\n      <td>[0.5]</td>\n      <td>0.500</td>\n    </tr>\n    <tr>\n      <th>1</th>\n      <td>Anthony</td>\n      <td>Christina</td>\n      <td>[]</td>\n      <td>0.000</td>\n    </tr>\n    <tr>\n      <th>7</th>\n      <td>Layton</td>\n      <td>Christina</td>\n      <td>[]</td>\n      <td>0.000</td>\n    </tr>\n    <tr>\n      <th>12</th>\n      <td>Garland</td>\n      <td>Christina</td>\n      <td>[]</td>\n      <td>0.000</td>\n    </tr>\n    <tr>\n      <th>4</th>\n      <td>Nathan</td>\n      <td>Ellie</td>\n      <td>[0.75]</td>\n      <td>0.750</td>\n    </tr>\n    <tr>\n      <th>10</th>\n      <td>Garland</td>\n      <td>Ellie</td>\n      <td>[]</td>\n      <td>0.000</td>\n    </tr>\n    <tr>\n      <th>17</th>\n      <td>Alex</td>\n      <td>Jasmine</td>\n      <td>[]</td>\n      <td>0.000</td>\n    </tr>\n    <tr>\n      <th>16</th>\n      <td>John</td>\n      <td>Jenni</td>\n      <td>[]</td>\n      <td>0.000</td>\n    </tr>\n    <tr>\n      <th>13</th>\n      <td>Garland</td>\n      <td>Jessica</td>\n      <td>[0.5, 0.75]</td>\n      <td>0.625</td>\n    </tr>\n    <tr>\n      <th>15</th>\n      <td>Pratt</td>\n      <td>Paris</td>\n      <td>[]</td>\n      <td>0.000</td>\n    </tr>\n    <tr>\n      <th>14</th>\n      <td>Curtis</td>\n      <td>Shelby</td>\n      <td>[]</td>\n      <td>0.000</td>\n    </tr>\n    <tr>\n      <th>5</th>\n      <td>Nathan</td>\n      <td>Tyler</td>\n      <td>[]</td>\n      <td>0.000</td>\n    </tr>\n    <tr>\n      <th>8</th>\n      <td>Layton</td>\n      <td>Tyler</td>\n      <td>[]</td>\n      <td>0.000</td>\n    </tr>\n    <tr>\n      <th>2</th>\n      <td>Anthony</td>\n      <td>Tyler</td>\n      <td>[]</td>\n      <td>0.000</td>\n    </tr>\n  </tbody>\n</table>\n</div>"
     },
     "metadata": {},
     "execution_count": 342
    }
   ],
   "source": [
    "couples_df.sort_values(by=[\"woman\"])"
   ]
  },
  {
   "cell_type": "code",
   "execution_count": null,
   "metadata": {},
   "outputs": [],
   "source": []
  }
 ]
}