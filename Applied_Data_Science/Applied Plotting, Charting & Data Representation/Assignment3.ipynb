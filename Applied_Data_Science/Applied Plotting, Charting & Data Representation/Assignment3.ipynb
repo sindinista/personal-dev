{
 "cells": [
  {
   "cell_type": "markdown",
   "metadata": {},
   "source": [
    "# Assignment 3 - Building a Custom Visualization\n",
    "\n",
    "---\n",
    "\n",
    "In this assignment you must choose one of the options presented below and submit a visual as well as your source code for peer grading. The details of how you solve the assignment are up to you, although your assignment must use matplotlib so that your peers can evaluate your work. The options differ in challenge level, but there are no grades associated with the challenge level you chose. However, your peers will be asked to ensure you at least met a minimum quality for a given technique in order to pass. Implement the technique fully (or exceed it!) and you should be able to earn full grades for the assignment.\n",
    "\n",
    "\n",
    "&nbsp;&nbsp;&nbsp;&nbsp;&nbsp;&nbsp;Ferreira, N., Fisher, D., & Konig, A. C. (2014, April). [Sample-oriented task-driven visualizations: allowing users to make better, more confident decisions.](https://www.microsoft.com/en-us/research/wp-content/uploads/2016/02/Ferreira_Fisher_Sample_Oriented_Tasks.pdf) \n",
    "&nbsp;&nbsp;&nbsp;&nbsp;&nbsp;&nbsp;In Proceedings of the SIGCHI Conference on Human Factors in Computing Systems (pp. 571-580). ACM. ([video](https://www.youtube.com/watch?v=BI7GAs-va-Q))\n",
    "\n",
    "\n",
    "In this [paper](https://www.microsoft.com/en-us/research/wp-content/uploads/2016/02/Ferreira_Fisher_Sample_Oriented_Tasks.pdf) the authors describe the challenges users face when trying to make judgements about probabilistic data generated through samples. As an example, they look at a bar chart of four years of data (replicated below in Figure 1). Each year has a y-axis value, which is derived from a sample of a larger dataset. For instance, the first value might be the number votes in a given district or riding for 1992, with the average being around 33,000. On top of this is plotted the 95% confidence interval for the mean (see the boxplot lectures for more information, and the yerr parameter of barcharts).\n",
    "\n",
    "<br>\n",
    "<img src=\"readonly/Assignment3Fig1.png\" alt=\"Figure 1\" style=\"width: 400px;\"/>\n",
    "<h4 style=\"text-align: center;\" markdown=\"1\">  &nbsp;&nbsp;&nbsp;&nbsp;&nbsp;&nbsp;&nbsp;&nbsp;Figure 1 from (Ferreira et al, 2014).</h4>\n",
    "\n",
    "<br>\n",
    "\n",
    "A challenge that users face is that, for a given y-axis value (e.g. 42,000), it is difficult to know which x-axis values are most likely to be representative, because the confidence levels overlap and their distributions are different (the lengths of the confidence interval bars are unequal). One of the solutions the authors propose for this problem (Figure 2c) is to allow users to indicate the y-axis value of interest (e.g. 42,000) and then draw a horizontal line and color bars based on this value. So bars might be colored red if they are definitely above this value (given the confidence interval), blue if they are definitely below this value, or white if they contain this value.\n",
    "\n",
    "\n",
    "<br>\n",
    "<img src=\"readonly/Assignment3Fig2c.png\" alt=\"Figure 1\" style=\"width: 400px;\"/>\n",
    "<h4 style=\"text-align: center;\" markdown=\"1\">  Figure 2c from (Ferreira et al. 2014). Note that the colorbar legend at the bottom as well as the arrows are not required in the assignment descriptions below.</h4>\n",
    "\n",
    "<br>\n",
    "<br>\n",
    "\n",
    "**Easiest option:** Implement the bar coloring as described above - a color scale with only three colors, (e.g. blue, white, and red). Assume the user provides the y axis value of interest as a parameter or variable.\n",
    "\n",
    "\n",
    "**Harder option:** Implement the bar coloring as described in the paper, where the color of the bar is actually based on the amount of data covered (e.g. a gradient ranging from dark blue for the distribution being certainly below this y-axis, to white if the value is certainly contained, to dark red if the value is certainly not contained as the distribution is above the axis).\n",
    "\n",
    "**Even Harder option:** Add interactivity to the above, which allows the user to click on the y axis to set the value of interest. The bar colors should change with respect to what value the user has selected.\n",
    "\n",
    "**Hardest option:** Allow the user to interactively set a range of y values they are interested in, and recolor based on this (e.g. a y-axis band, see the paper for more details).\n",
    "\n",
    "---\n",
    "\n",
    "*Note: The data given for this assignment is not the same as the data used in the article and as a result the visualizations may look a little different.*"
   ]
  },
  {
   "cell_type": "code",
   "execution_count": 1,
   "metadata": {
    "collapsed": false
   },
   "outputs": [
    {
     "output_type": "execute_result",
     "data": {
      "text/plain": [
       "              0             1             2             3             4     \\\n",
       "1992  31590.584681  32957.886676  30961.122570  30888.539391  35931.561145   \n",
       "1993  42051.039052  44553.505188  41334.817472  41270.832403  44731.191473   \n",
       "1994  44588.369321  44994.471281  46964.502632  42134.938480  44073.185759   \n",
       "1995  46822.915609  47387.100230  47218.216090  48070.521813  49048.836217   \n",
       "\n",
       "              5             6             7             8             9     \\\n",
       "1992  34786.811666  32185.815753  32563.492306  33538.045135  34492.869473   \n",
       "1993  43068.458837  44061.356485  43198.076721  42803.655773  41473.137350   \n",
       "1994  43120.292307  42735.106295  45304.429672  42397.784191  43543.262691   \n",
       "1995  47649.308352  48157.004619  48161.484898  47226.837314  48116.456774   \n",
       "\n",
       "      ...          3640          3641          3642          3643  \\\n",
       "1992  ...  33399.387603  33186.507599  33716.639765  27901.228419   \n",
       "1993  ...  42124.334799  43580.321225  43746.481999  44174.756226   \n",
       "1994  ...  44715.858064  43812.351741  44138.297269  45057.507342   \n",
       "1995  ...  47380.986119  48021.736867  48059.659907  47561.289902   \n",
       "\n",
       "              3644          3645          3646          3647          3648  \\\n",
       "1992  29707.859061  31921.850086  31111.732705  31006.802335  32813.772993   \n",
       "1993  42432.401117  42196.665064  43600.198412  44367.461274  42704.554940   \n",
       "1994  42697.077972  42346.381530  43328.751132  42771.719216  43723.587617   \n",
       "1995  48242.025951  47919.372000  48914.721143  48113.861864  48253.622296   \n",
       "\n",
       "              3649  \n",
       "1992  31635.051215  \n",
       "1993  42914.428989  \n",
       "1994  42149.579990  \n",
       "1995  47807.050829  \n",
       "\n",
       "[4 rows x 3650 columns]"
      ],
      "text/html": "<div>\n<style scoped>\n    .dataframe tbody tr th:only-of-type {\n        vertical-align: middle;\n    }\n\n    .dataframe tbody tr th {\n        vertical-align: top;\n    }\n\n    .dataframe thead th {\n        text-align: right;\n    }\n</style>\n<table border=\"1\" class=\"dataframe\">\n  <thead>\n    <tr style=\"text-align: right;\">\n      <th></th>\n      <th>0</th>\n      <th>1</th>\n      <th>2</th>\n      <th>3</th>\n      <th>4</th>\n      <th>5</th>\n      <th>6</th>\n      <th>7</th>\n      <th>8</th>\n      <th>9</th>\n      <th>...</th>\n      <th>3640</th>\n      <th>3641</th>\n      <th>3642</th>\n      <th>3643</th>\n      <th>3644</th>\n      <th>3645</th>\n      <th>3646</th>\n      <th>3647</th>\n      <th>3648</th>\n      <th>3649</th>\n    </tr>\n  </thead>\n  <tbody>\n    <tr>\n      <th>1992</th>\n      <td>31590.584681</td>\n      <td>32957.886676</td>\n      <td>30961.122570</td>\n      <td>30888.539391</td>\n      <td>35931.561145</td>\n      <td>34786.811666</td>\n      <td>32185.815753</td>\n      <td>32563.492306</td>\n      <td>33538.045135</td>\n      <td>34492.869473</td>\n      <td>...</td>\n      <td>33399.387603</td>\n      <td>33186.507599</td>\n      <td>33716.639765</td>\n      <td>27901.228419</td>\n      <td>29707.859061</td>\n      <td>31921.850086</td>\n      <td>31111.732705</td>\n      <td>31006.802335</td>\n      <td>32813.772993</td>\n      <td>31635.051215</td>\n    </tr>\n    <tr>\n      <th>1993</th>\n      <td>42051.039052</td>\n      <td>44553.505188</td>\n      <td>41334.817472</td>\n      <td>41270.832403</td>\n      <td>44731.191473</td>\n      <td>43068.458837</td>\n      <td>44061.356485</td>\n      <td>43198.076721</td>\n      <td>42803.655773</td>\n      <td>41473.137350</td>\n      <td>...</td>\n      <td>42124.334799</td>\n      <td>43580.321225</td>\n      <td>43746.481999</td>\n      <td>44174.756226</td>\n      <td>42432.401117</td>\n      <td>42196.665064</td>\n      <td>43600.198412</td>\n      <td>44367.461274</td>\n      <td>42704.554940</td>\n      <td>42914.428989</td>\n    </tr>\n    <tr>\n      <th>1994</th>\n      <td>44588.369321</td>\n      <td>44994.471281</td>\n      <td>46964.502632</td>\n      <td>42134.938480</td>\n      <td>44073.185759</td>\n      <td>43120.292307</td>\n      <td>42735.106295</td>\n      <td>45304.429672</td>\n      <td>42397.784191</td>\n      <td>43543.262691</td>\n      <td>...</td>\n      <td>44715.858064</td>\n      <td>43812.351741</td>\n      <td>44138.297269</td>\n      <td>45057.507342</td>\n      <td>42697.077972</td>\n      <td>42346.381530</td>\n      <td>43328.751132</td>\n      <td>42771.719216</td>\n      <td>43723.587617</td>\n      <td>42149.579990</td>\n    </tr>\n    <tr>\n      <th>1995</th>\n      <td>46822.915609</td>\n      <td>47387.100230</td>\n      <td>47218.216090</td>\n      <td>48070.521813</td>\n      <td>49048.836217</td>\n      <td>47649.308352</td>\n      <td>48157.004619</td>\n      <td>48161.484898</td>\n      <td>47226.837314</td>\n      <td>48116.456774</td>\n      <td>...</td>\n      <td>47380.986119</td>\n      <td>48021.736867</td>\n      <td>48059.659907</td>\n      <td>47561.289902</td>\n      <td>48242.025951</td>\n      <td>47919.372000</td>\n      <td>48914.721143</td>\n      <td>48113.861864</td>\n      <td>48253.622296</td>\n      <td>47807.050829</td>\n    </tr>\n  </tbody>\n</table>\n<p>4 rows × 3650 columns</p>\n</div>"
     },
     "metadata": {},
     "execution_count": 1
    }
   ],
   "source": [
    "# Use the following data for this assignment:\n",
    "\n",
    "import pandas as pd\n",
    "import numpy as np\n",
    "\n",
    "np.random.seed(12345)\n",
    "\n",
    "# I reduced the std inputs by 100X, it made no sense to visualize a std that large\n",
    "df = pd.DataFrame([np.random.normal(32000,2000,3650), \n",
    "                   np.random.normal(43000,1000,3650), \n",
    "                   np.random.normal(43500,1400,3650), \n",
    "                   np.random.normal(48000,700,3650)], \n",
    "                  index=[1992,1993,1994,1995])\n",
    "df"
   ]
  },
  {
   "cell_type": "code",
   "execution_count": 2,
   "metadata": {
    "collapsed": false
   },
   "outputs": [],
   "source": [
    "import matplotlib as mpl\n",
    "from matplotlib import pyplot as plt\n"
   ]
  },
  {
   "cell_type": "code",
   "execution_count": 3,
   "metadata": {
    "collapsed": true
   },
   "outputs": [],
   "source": [
    "# widget used for VScode env py 3.8.5\n",
    "%matplotlib widget"
   ]
  },
  {
   "cell_type": "code",
   "execution_count": 4,
   "metadata": {
    "collapsed": false
   },
   "outputs": [
    {
     "output_type": "display_data",
     "data": {
      "text/plain": "Canvas(toolbar=Toolbar(toolitems=[('Home', 'Reset original view', 'home', 'home'), ('Back', 'Back to previous …",
      "application/vnd.jupyter.widget-view+json": {
       "version_major": 2,
       "version_minor": 0,
       "model_id": "425ea00017d74dcda40cb9c52cede3de"
      }
     },
     "metadata": {}
    }
   ],
   "source": [
    "fig1, ax1 = plt.subplots()\n",
    "#plt.figure()"
   ]
  },
  {
   "cell_type": "code",
   "execution_count": 12,
   "metadata": {},
   "outputs": [
    {
     "output_type": "execute_result",
     "data": {
      "text/plain": [
       "              mean          std        -2 std        +2 std\n",
       "1992  32013.121075  2006.309016  28000.503044  36025.739106\n",
       "1993  42988.618595   983.983562  41020.651471  44956.585719\n",
       "1994  43459.933049  1403.699252  40652.534545  46267.331554\n",
       "1995  47997.435510   697.811855  46601.811800  49393.059219"
      ],
      "text/html": "<div>\n<style scoped>\n    .dataframe tbody tr th:only-of-type {\n        vertical-align: middle;\n    }\n\n    .dataframe tbody tr th {\n        vertical-align: top;\n    }\n\n    .dataframe thead th {\n        text-align: right;\n    }\n</style>\n<table border=\"1\" class=\"dataframe\">\n  <thead>\n    <tr style=\"text-align: right;\">\n      <th></th>\n      <th>mean</th>\n      <th>std</th>\n      <th>-2 std</th>\n      <th>+2 std</th>\n    </tr>\n  </thead>\n  <tbody>\n    <tr>\n      <th>1992</th>\n      <td>32013.121075</td>\n      <td>2006.309016</td>\n      <td>28000.503044</td>\n      <td>36025.739106</td>\n    </tr>\n    <tr>\n      <th>1993</th>\n      <td>42988.618595</td>\n      <td>983.983562</td>\n      <td>41020.651471</td>\n      <td>44956.585719</td>\n    </tr>\n    <tr>\n      <th>1994</th>\n      <td>43459.933049</td>\n      <td>1403.699252</td>\n      <td>40652.534545</td>\n      <td>46267.331554</td>\n    </tr>\n    <tr>\n      <th>1995</th>\n      <td>47997.435510</td>\n      <td>697.811855</td>\n      <td>46601.811800</td>\n      <td>49393.059219</td>\n    </tr>\n  </tbody>\n</table>\n</div>"
     },
     "metadata": {},
     "execution_count": 12
    }
   ],
   "source": [
    "# dataframe of aggregates and range of two standard deviations (95% conf interval) per year\n",
    "# used to evaluated what color to turn the bar, based on y-axis interaction\n",
    "\n",
    "dfAgg = df.agg([np.mean, np.std], axis=1)\n",
    "dfAgg['-2 std'] = dfAgg['mean'] - dfAgg['std']*2\n",
    "dfAgg['+2 std'] = dfAgg['mean'] + dfAgg['std']*2\n",
    "dfAgg"
   ]
  },
  {
   "cell_type": "code",
   "execution_count": 6,
   "metadata": {
    "collapsed": true
   },
   "outputs": [],
   "source": [
    "# plot mean as a bar graph and std as and error bar as two standard deviations from mean\n",
    "ax1.cla()\n",
    "_ = ax1.set_title('Assignment 3 Figure')\n",
    "# create means and stds as np.array() instead of lists, so math can be done more easily\n",
    "means = np.array(dfAgg['mean'].tolist())\n",
    "stds = np.array(dfAgg['std'].tolist())\n",
    "_ = plt.bar(range(1,5), means, yerr=stds*2, align='center', alpha=.75, capsize=10, picker=True)\n",
    "_ = plt.xticks(ticks=range(1,5), labels=['1992','1993','1994','1995'])\n",
    "_ = plt.ylim(bottom=0, top=60000)"
   ]
  },
  {
   "cell_type": "code",
   "execution_count": 7,
   "metadata": {},
   "outputs": [
    {
     "output_type": "execute_result",
     "data": {
      "text/plain": [
       "True"
      ]
     },
     "metadata": {},
     "execution_count": 7
    }
   ],
   "source": [
    "plt.isinteractive()"
   ]
  },
  {
   "cell_type": "code",
   "execution_count": 11,
   "metadata": {},
   "outputs": [
    {
     "output_type": "execute_result",
     "data": {
      "text/plain": [
       "11"
      ]
     },
     "metadata": {},
     "execution_count": 11
    }
   ],
   "source": [
    "_ = plt.axhline(y=iy, color='g', linestyle='-')"
   ]
  },
  {
   "cell_type": "code",
   "execution_count": null,
   "metadata": {},
   "outputs": [],
   "source": [
    "def onpick(event):\n",
    "    y = event.ind\n",
    "    ax1.set_title('Selected item came from {}'.format(y))\n",
    "\n",
    "# tell mpl_connect we want to pass a 'pick_event' into onpick when the event is detected\n",
    "plt.gcf().canvas.mpl_connect('pick_event', onpick)"
   ]
  }
 ],
 "metadata": {
  "kernelspec": {
   "display_name": "Python 3",
   "language": "python",
   "name": "python3"
  },
  "language_info": {
   "codemirror_mode": {
    "name": "ipython",
    "version": 3
   },
   "file_extension": ".py",
   "mimetype": "text/x-python",
   "name": "python",
   "nbconvert_exporter": "python",
   "pygments_lexer": "ipython3",
   "version": "3.8.5-final"
  }
 },
 "nbformat": 4,
 "nbformat_minor": 2
}