{
 "cells": [
  {
   "cell_type": "markdown",
   "metadata": {},
   "source": [
    "# Assignment 2\n",
    "\n",
    "Before working on this assignment please read these instructions fully. In the submission area, you will notice that you can click the link to **Preview the Grading** for each step of the assignment. This is the criteria that will be used for peer grading. Please familiarize yourself with the criteria before beginning the assignment.\n",
    "\n",
    "An NOAA dataset has been stored in the file `data/C2A2_data/BinnedCsvs_d400/fb441e62df2d58994928907a91895ec62c2c42e6cd075c2700843b89.csv`. This is the dataset to use for this assignment. Note: The data for this assignment comes from a subset of The National Centers for Environmental Information (NCEI) [Daily Global Historical Climatology Network](https://www1.ncdc.noaa.gov/pub/data/ghcn/daily/readme.txt) (GHCN-Daily). The GHCN-Daily is comprised of daily climate records from thousands of land surface stations across the globe.\n",
    "\n",
    "Each row in the assignment datafile corresponds to a single observation.\n",
    "\n",
    "The following variables are provided to you:\n",
    "\n",
    "* **id** : station identification code\n",
    "* **date** : date in YYYY-MM-DD format (e.g. 2012-01-24 = January 24, 2012)\n",
    "* **element** : indicator of element type\n",
    "    * TMAX : Maximum temperature (tenths of degrees C)\n",
    "    * TMIN : Minimum temperature (tenths of degrees C)\n",
    "* **value** : data value for element (tenths of degrees C)\n",
    "\n",
    "For this assignment, you must:\n",
    "\n",
    "1. Read the documentation and familiarize yourself with the dataset, then write some python code which returns a line graph of the record high and record low temperatures by day of the year over the period 2005-2014. The area between the record high and record low temperatures for each day should be shaded.\n",
    "2. Overlay a scatter of the 2015 data for any points (highs and lows) for which the ten year record (2005-2014) record high or record low was broken in 2015.\n",
    "3. Watch out for leap days (i.e. February 29th), it is reasonable to remove these points from the dataset for the purpose of this visualization.\n",
    "4. Make the visual nice! Leverage principles from the first module in this course when developing your solution. Consider issues such as legends, labels, and chart junk.\n",
    "\n",
    "The data you have been given is near **Ann Arbor, Michigan, United States**, and the stations the data comes from are shown on the map below."
   ]
  },
  {
   "cell_type": "code",
   "execution_count": null,
   "metadata": {
    "collapsed": false
   },
   "outputs": [],
   "source": [
    "import matplotlib.pyplot as plt\n",
    "import mplleaflet\n",
    "import pandas as pd\n",
    "\n",
    "def leaflet_plot_stations(binsize, hashid):\n",
    "\n",
    "    df = pd.read_csv('data/C2A2_data/BinSize_d{}.csv'.format(binsize))\n",
    "\n",
    "    station_locations_by_hash = df[df['hash'] == hashid]\n",
    "\n",
    "    lons = station_locations_by_hash['LONGITUDE'].tolist()\n",
    "    lats = station_locations_by_hash['LATITUDE'].tolist()\n",
    "\n",
    "    plt.figure(figsize=(8,8))\n",
    "\n",
    "    plt.scatter(lons, lats, c='r', alpha=0.7, s=200)\n",
    "\n",
    "    return mplleaflet.display()\n",
    "\n",
    "leaflet_plot_stations(400,'fb441e62df2d58994928907a91895ec62c2c42e6cd075c2700843b89')"
   ]
  },
  {
   "cell_type": "code",
   "execution_count": 93,
   "metadata": {},
   "outputs": [],
   "source": [
    "%matplotlib widget"
   ]
  },
  {
   "cell_type": "code",
   "execution_count": 94,
   "metadata": {
    "collapsed": true
   },
   "outputs": [
    {
     "output_type": "display_data",
     "data": {
      "text/plain": "Canvas(toolbar=Toolbar(toolitems=[('Home', 'Reset original view', 'home', 'home'), ('Back', 'Back to previous …",
      "application/vnd.jupyter.widget-view+json": {
       "version_major": 2,
       "version_minor": 0,
       "model_id": "37bac7c77c3c4ffeaee4eeeb84cb120e"
      }
     },
     "metadata": {}
    }
   ],
   "source": [
    "import matplotlib.pyplot as plt\n",
    "import mplleaflet\n",
    "import pandas as pd\n",
    "import numpy as np\n",
    "import calendar\n",
    "\n",
    "def plot_assignment() :\n",
    "    # Prepare df(s) for plotting\n",
    "    df = pd.read_csv('data/C2A2_data/BinnedCsvs_d400/fb441e62df2d58994928907a91895ec62c2c42e6cd075c2700843b89.csv')\n",
    "    '''Line graph of the record high and record low temperatures by day of the year over the period 2005-2014.'''\n",
    "    # split the Date column into year, day of year, and month\n",
    "    df['Year'] = df['Date'].str[0:4]\n",
    "    df['DayOfYear'] = df['Date'].str[5:]\n",
    "    df['Month'] = df['DayOfYear'].str[:2]\n",
    "    # divide Data_Value by 10 for neater decimal\n",
    "    df['Temp'] = df['Data_Value']/10\n",
    "    # filter out day of year '02-29'\n",
    "    df = df[df['DayOfYear']!='02-29']\n",
    "\n",
    "    # split df for 2015 and 2004-2014\n",
    "    df1 = df[df['Year']!='2015'].sort_values(by='Date')\n",
    "    df2 = df[df['Year']=='2015'].sort_values(by='Date')\n",
    "\n",
    "    # generate a df or list with the max/min temp per day of the year .groupby\n",
    "    mins = df1[df1['Element'] == 'TMIN']\n",
    "    dfmin = mins.groupby(by='DayOfYear').min('Temp').reset_index()\n",
    "\n",
    "    maxs = df1[df1['Element'] == 'TMAX']\n",
    "    dfmax = maxs.groupby(by='DayOfYear').max('Temp').reset_index()\n",
    "\n",
    "    # start plot figure\n",
    "    plt.figure()\n",
    "\n",
    "    # plot the min values per date in blue circles\n",
    "    dates = dfmin['DayOfYear'].tolist()\n",
    "    minlist = dfmin['Temp'].tolist()\n",
    "\n",
    "    plt.plot(dates, minlist, '#00e4ff')\n",
    "\n",
    "    # plot the max values per date in red circles\n",
    "    dates = dfmax['DayOfYear'].tolist()\n",
    "    maxlist = dfmax['Temp'].tolist()\n",
    "\n",
    "    plt.plot(dates, maxlist, '#ff9408')\n",
    "\n",
    "    '''The area between the record high and record low temperatures for each day should be shaded.'''\n",
    "    # eg. plt.fill_between(range(len(linear_data)), linear_data, exponential_data, facecolor='red', alpha=0.11))\n",
    "    plt.fill_between(dates, minlist, maxlist, facecolor='#448ee4', alpha=0.11)\n",
    "\n",
    "    '''Overlay a scatter of the 2015 data for any points (highs and lows) for which the ten year record (2005-2014) record high or record low was broken in 2015.'''\n",
    "    # df of min/max 2015 data are with <2014 min/max\n",
    "    mins = df2[df2['Element'] == 'TMIN']\n",
    "    df2015min = mins.groupby(by='DayOfYear').min('Temp').reset_index()\n",
    "    list2015min = df2015min['Temp'].tolist()\n",
    "    maxs = df2[df2['Element'] == 'TMAX']\n",
    "    df2015max = maxs.groupby(by='DayOfYear').max('Temp').reset_index()\n",
    "    list2015max = df2015max['Temp'].tolist()\n",
    "    dates = df2015min['DayOfYear'].tolist()\n",
    "    df2015 = pd.DataFrame({'DayOfYear' : dates, 'min2015' : list2015min, 'max2015' : list2015max, 'min' : minlist, 'max' : maxlist})\n",
    "\n",
    "    record_highs = df2015[df2015['max2015'] > df2015['max']]\n",
    "    plotdates = record_highs['DayOfYear'].tolist()\n",
    "    plottemps = record_highs['max2015'].tolist()\n",
    "\n",
    "    plt.plot(plotdates, plottemps, 'rd', alpha=.5)\n",
    "\n",
    "    record_lows = df2015[df2015['min2015'] < df2015['min']]\n",
    "    plotdates = record_lows['DayOfYear'].tolist()\n",
    "    plottemps = record_lows['min2015'].tolist()\n",
    "\n",
    "    plt.plot(plotdates, plottemps, 'bd', alpha=.5)\n",
    "    # scatter plot() 2015 highs and lows depending on logic above\n",
    "    # Pretty-up the figure\n",
    "\n",
    "    plt.title('Ann Arbor, MI\\nHigh and Low Temperatures\\n(2005-2014)')\n",
    "    plt.tick_params(labelrotation=.45)\n",
    "    plt.xlabel('Day of the Year')\n",
    "    plt.ylabel('Temperature ($^\\circ$C)')\n",
    "    plt.tick_params(axis='both', which='both', bottom=False, left=False)\n",
    "    plt.grid(b=True, axis='y', alpha=.1)\n",
    "    plt.legend(['Lows','Highs','Record High (2015)', 'Record Low (2015)'])\n",
    "    plt.box(False)\n",
    "    plt.xticks([1,32,60,91,121,152,182,213,244,274,305,335], calendar.month_name[1:13], rotation=80)\n",
    "    # adjust the subplot so the text doesn't run off the image\n",
    "    plt.subplots_adjust(bottom=0.25)\n",
    "    return plt.show()\n",
    "\n",
    "plot_assignment()"
   ]
  },
  {
   "cell_type": "code",
   "execution_count": null,
   "metadata": {},
   "outputs": [],
   "source": []
  }
 ],
 "metadata": {
  "kernelspec": {
   "display_name": "Python 3",
   "language": "python",
   "name": "python3"
  },
  "language_info": {
   "codemirror_mode": {
    "name": "ipython",
    "version": 3
   },
   "file_extension": ".py",
   "mimetype": "text/x-python",
   "name": "python",
   "nbconvert_exporter": "python",
   "pygments_lexer": "ipython3",
   "version": "3.8.5-final"
  }
 },
 "nbformat": 4,
 "nbformat_minor": 1
}