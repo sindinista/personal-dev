{
 "cells": [
  {
   "cell_type": "markdown",
   "metadata": {},
   "source": [
    "---\n",
    "\n",
    "_You are currently looking at **version 1.5** of this notebook. To download notebooks and datafiles, as well as get help on Jupyter notebooks in the Coursera platform, visit the [Jupyter Notebook FAQ](https://www.coursera.org/learn/python-data-analysis/resources/0dhYG) course resource._\n",
    "\n",
    "---"
   ]
  },
  {
   "cell_type": "markdown",
   "metadata": {},
   "source": [
    "# Assignment 3 - More Pandas\n",
    "This assignment requires more individual learning then the last one did - you are encouraged to check out the [pandas documentation](http://pandas.pydata.org/pandas-docs/stable/) to find functions or methods you might not have used yet, or ask questions on [Stack Overflow](http://stackoverflow.com/) and tag them as pandas and python related. And of course, the discussion forums are open for interaction with your peers and the course staff."
   ]
  },
  {
   "cell_type": "markdown",
   "metadata": {},
   "source": [
    "### Question 1 (20%)\n",
    "Load the energy data from the file `Energy Indicators.xls`, which is a list of indicators of [energy supply and renewable electricity production](Energy%20Indicators.xls) from the [United Nations](http://unstats.un.org/unsd/environment/excel_file_tables/2013/Energy%20Indicators.xls) for the year 2013, and should be put into a DataFrame with the variable name of **energy**.\n",
    "\n",
    "Keep in mind that this is an Excel file, and not a comma separated values file. Also, make sure to exclude the footer and header information from the datafile. The first two columns are unneccessary, so you should get rid of them, and you should change the column labels so that the columns are:\n",
    "\n",
    "`['Country', 'Energy Supply', 'Energy Supply per Capita', '% Renewable']`\n",
    "\n",
    "Convert `Energy Supply` to gigajoules (there are 1,000,000 gigajoules in a petajoule). For all countries which have missing data (e.g. data with \"...\") make sure this is reflected as `np.NaN` values.\n",
    "\n",
    "Rename the following list of countries (for use in later questions):\n",
    "\n",
    "```\"Republic of Korea\": \"South Korea\",\n",
    "\"United States of America\": \"United States\",\n",
    "\"United Kingdom of Great Britain and Northern Ireland\": \"United Kingdom\",\n",
    "\"China, Hong Kong Special Administrative Region\": \"Hong Kong\"```\n",
    "\n",
    "There are also several countries with numbers and/or parenthesis in their name. Be sure to remove these, \n",
    "\n",
    "e.g. \n",
    "\n",
    "`'Bolivia (Plurinational State of)'` should be `'Bolivia'`, \n",
    "\n",
    "`'Switzerland17'` should be `'Switzerland'`.\n",
    "\n",
    "<br>\n",
    "\n",
    "Next, load the GDP data from the file `world_bank.csv`, which is a csv containing countries' GDP from 1960 to 2015 from [World Bank](http://data.worldbank.org/indicator/NY.GDP.MKTP.CD). Call this DataFrame **GDP**. \n",
    "\n",
    "Make sure to skip the header, and rename the following list of countries:\n",
    "\n",
    "```\"Korea, Rep.\": \"South Korea\", \n",
    "\"Iran, Islamic Rep.\": \"Iran\",\n",
    "\"Hong Kong SAR, China\": \"Hong Kong\"```\n",
    "\n",
    "<br>\n",
    "\n",
    "Finally, load the [Sciamgo Journal and Country Rank data for Energy Engineering and Power Technology](http://www.scimagojr.com/countryrank.php?category=2102) from the file `scimagojr-3.xlsx`, which ranks countries based on their journal contributions in the aforementioned area. Call this DataFrame **ScimEn**.\n",
    "\n",
    "Join the three datasets: GDP, Energy, and ScimEn into a new dataset (using the intersection of country names). Use only the last 10 years (2006-2015) of GDP data and only the top 15 countries by Scimagojr 'Rank' (Rank 1 through 15). \n",
    "\n",
    "The index of this DataFrame should be the name of the country, and the columns should be ['Rank', 'Documents', 'Citable documents', 'Citations', 'Self-citations',\n",
    "       'Citations per document', 'H index', 'Energy Supply',\n",
    "       'Energy Supply per Capita', '% Renewable', '2006', '2007', '2008',\n",
    "       '2009', '2010', '2011', '2012', '2013', '2014', '2015'].\n",
    "\n",
    "*This function should return a DataFrame with 20 columns and 15 entries.*"
   ]
  },
  {
   "cell_type": "code",
   "execution_count": null,
   "metadata": {
    "collapsed": false,
    "jupyter": {
     "outputs_hidden": false
    }
   },
   "outputs": [],
   "source": [
    "def answer_one():\n",
    "    import pandas as pd\n",
    "    energy = pd.read_excel('Energy Indicators.xls',\n",
    "                           sheet_name='Energy',\n",
    "                           usecols=[2,3,4,5],\n",
    "                           skiprows=17,\n",
    "                           nrows=227,\n",
    "                           names=['Country',\n",
    "                                      'Energy Supply',\n",
    "                                      'Energy Supply per Capita',\n",
    "                                      '% Redfable'],\n",
    "                           na_values='...')\n",
    "    energy['Energy Supply'] = energy['Energy Supply']*1000000\n",
    "    rename = {\"Republic of Korea\": \"South Korea\",\n",
    "                \"United States of America\": \"United States\",\n",
    "                \"United Kingdom of Great Britain and Northern Ireland\": \"United Kingdom\",\n",
    "                \"China, Hong Kong Special Administrative Region\": \"Hong Kong\",}\n",
    "    energy['Country'] = energy['Country'].str.replace(r\"\\s*\\(.*\\)\\s*\",\"\")\n",
    "    energy['Country'] = energy['Country'].str.replace(r'[0-9]+', '')\n",
    "    energy['Country'] = energy['Country'].replace(rename)\n",
    "    GPD = pd.read_csv('world_bank.csv', \n",
    "                      usecols=['Country Name','2006','2007','2008','2009','2010','2011','2012','2013','2014','2015'],\n",
    "                      skiprows=4)\n",
    "    rename = {\"Korea, Rep.\": \"South Korea\", \n",
    "                \"Iran, Islamic Rep.\": \"Iran\",\n",
    "                \"Hong Kong SAR, China\": \"Hong Kong\"}\n",
    "    GPD['Country Name'] = GPD['Country Name'].replace(rename)\n",
    "    GPD = GPD.sort_values(by=['Country Name'])\n",
    "    SciEm = pd.read_excel('scimagojr-3.xlsx',\n",
    "                           sheet_name='Sheet1')\n",
    "    df = pd.merge(SciEm, energy, how='inner', left_on='Country', right_on='Country') \n",
    "    df = pd.merge(df, GPD, how='inner', left_on='Country', right_on='Country Name') \\\n",
    "        .set_index('Country') \\\n",
    "        .drop(labels=['Country Name'], axis=1)\n",
    "    return df.head(15)"
   ]
  },
  {
   "cell_type": "code",
   "execution_count": null,
   "metadata": {},
   "outputs": [],
   "source": [
    "answer_one()"
   ]
  },
  {
   "cell_type": "markdown",
   "metadata": {},
   "source": [
    "### Question 2 (6.6%)\n",
    "The previous question joined three datasets then reduced this to just the top 15 entries. When you joined the datasets, but before you reduced this to the top 15 items, how many entries did you lose?\n",
    "\n",
    "*This function should return a single number.*"
   ]
  },
  {
   "cell_type": "code",
   "execution_count": 2,
   "metadata": {
    "collapsed": false,
    "jupyter": {
     "outputs_hidden": false
    }
   },
   "outputs": [
    {
     "data": {
      "text/html": [
       "<svg width=\"800\" height=\"300\">\n",
       "  <circle cx=\"150\" cy=\"180\" r=\"80\" fill-opacity=\"0.2\" stroke=\"black\" stroke-width=\"2\" fill=\"blue\" />\n",
       "  <circle cx=\"200\" cy=\"100\" r=\"80\" fill-opacity=\"0.2\" stroke=\"black\" stroke-width=\"2\" fill=\"red\" />\n",
       "  <circle cx=\"100\" cy=\"100\" r=\"80\" fill-opacity=\"0.2\" stroke=\"black\" stroke-width=\"2\" fill=\"green\" />\n",
       "  <line x1=\"150\" y1=\"125\" x2=\"300\" y2=\"150\" stroke=\"black\" stroke-width=\"2\" fill=\"black\" stroke-dasharray=\"5,3\"/>\n",
       "  <text  x=\"300\" y=\"165\" font-family=\"Verdana\" font-size=\"35\">Everything but this!</text>\n",
       "</svg>\n"
      ],
      "text/plain": [
       "<IPython.core.display.HTML object>"
      ]
     },
     "metadata": {},
     "output_type": "display_data"
    }
   ],
   "source": [
    "%%HTML\n",
    "<svg width=\"800\" height=\"300\">\n",
    "  <circle cx=\"150\" cy=\"180\" r=\"80\" fill-opacity=\"0.2\" stroke=\"black\" stroke-width=\"2\" fill=\"blue\" />\n",
    "  <circle cx=\"200\" cy=\"100\" r=\"80\" fill-opacity=\"0.2\" stroke=\"black\" stroke-width=\"2\" fill=\"red\" />\n",
    "  <circle cx=\"100\" cy=\"100\" r=\"80\" fill-opacity=\"0.2\" stroke=\"black\" stroke-width=\"2\" fill=\"green\" />\n",
    "  <line x1=\"150\" y1=\"125\" x2=\"300\" y2=\"150\" stroke=\"black\" stroke-width=\"2\" fill=\"black\" stroke-dasharray=\"5,3\"/>\n",
    "  <text  x=\"300\" y=\"165\" font-family=\"Verdana\" font-size=\"35\">Everything but this!</text>\n",
    "</svg>"
   ]
  },
  {
   "cell_type": "code",
   "execution_count": 3,
   "metadata": {
    "collapsed": false,
    "jupyter": {
     "outputs_hidden": false
    }
   },
   "outputs": [],
   "source": [
    "def answer_two():\n",
    "    import pandas as pd\n",
    "\n",
    "    energy = pd.read_excel('Energy Indicators.xls',\n",
    "                           sheet_name='Energy',\n",
    "                           usecols=[2,3,4,5],\n",
    "                           skiprows=17,\n",
    "                           nrows=227,\n",
    "                           names=['Country',\n",
    "                                      'Energy Supply',\n",
    "                                      'Energy Supply per Capita',\n",
    "                                      '% Redfable'],\n",
    "                           na_values='...')\n",
    "    energy['Energy Supply'] = energy['Energy Supply']*1000000\n",
    "    rename = {\"Republic of Korea\": \"South Korea\",\n",
    "                \"United States of America\": \"United States\",\n",
    "                \"United Kingdom of Great Britain and Northern Ireland\": \"United Kingdom\",\n",
    "                \"China, Hong Kong Special Administrative Region\": \"Hong Kong\",}\n",
    "    energy['Country'] = energy['Country'].str.replace(r\"\\s*\\(.*\\)\\s*\",\"\")\n",
    "    energy['Country'] = energy['Country'].str.replace(r'[0-9]+', '')\n",
    "    energy['Country'] = energy['Country'].replace(rename)\n",
    "    energyLen = len(energy)\n",
    "    GPD = pd.read_csv('world_bank.csv', \n",
    "                      usecols=['Country Name','2006','2007','2008','2009','2010','2011','2012','2013','2014','2015'],\n",
    "                      skiprows=4)\n",
    "    GPDLen = len(GPD)\n",
    "    rename = {\"Korea, Rep.\": \"South Korea\", \n",
    "                \"Iran, Islamic Rep.\": \"Iran\",\n",
    "                \"Hong Kong SAR, China\": \"Hong Kong\"}\n",
    "    GPD['Country Name'] = GPD['Country Name'].replace(rename)\n",
    "    GPD = GPD.sort_values(by=['Country Name'])\n",
    "\n",
    "    SciEm = pd.read_excel('scimagojr-3.xlsx',\n",
    "                           sheet_name='Sheet1')\n",
    "    SciEmLen=len(SciEm)\n",
    "    rank = pd.merge(SciEm, energy, how='outer', left_on='Country', right_on='Country') \n",
    "    rank = pd.merge(rank, GPD, how='outer', left_on='Country', right_on='Country Name') \\\n",
    "        .set_index('Country') \\\n",
    "        .drop(columns=['Country Name'])\n",
    "    return len(rank)-len(SciEm)"
   ]
  },
  {
   "cell_type": "markdown",
   "metadata": {},
   "source": [
    "<br>\n",
    "\n",
    "Answer the following questions in the context of only the top 15 countries by Scimagojr Rank (aka the DataFrame returned by `answer_one()`)"
   ]
  },
  {
   "cell_type": "markdown",
   "metadata": {},
   "source": [
    "### Question 3 (6.6%)\n",
    "What is the average GDP over the last 10 years for each country? (exclude missing values from this calculation.)\n",
    "\n",
    "*This function should return a Series named `avgGDP` with 15 countries and their average GDP sorted in descending order.*"
   ]
  },
  {
   "cell_type": "code",
   "execution_count": 4,
   "metadata": {
    "collapsed": false,
    "jupyter": {
     "outputs_hidden": false
    },
    "scrolled": true
   },
   "outputs": [],
   "source": [
    "def answer_three():\n",
    "    Top15 = answer_one()\n",
    "    import numpy as np\n",
    "    def avgGPD(row):\n",
    "        data = row[['2006','2007','2008','2009','2010','2011','2012','2013','2014','2015']]\n",
    "        return pd.Series({'avg': np.mean(data)})\n",
    "    avgGPD = Top15.apply(avgGPD, axis=1)\n",
    "    avgGPD = avgGPD.iloc[:,0]\n",
    "    return avgGPD"
   ]
  },
  {
   "cell_type": "markdown",
   "metadata": {},
   "source": [
    "### Question 4 (6.6%)\n",
    "By how much had the GDP changed over the 10 year span for the country with the 6th largest average GDP?\n",
    "\n",
    "*This function should return a single number.*"
   ]
  },
  {
   "cell_type": "code",
   "execution_count": 5,
   "metadata": {
    "collapsed": false,
    "jupyter": {
     "outputs_hidden": false
    },
    "scrolled": true
   },
   "outputs": [],
   "source": [
    "def answer_four():\n",
    "    Top15 = answer_one()\n",
    "    def measures(row) :\n",
    "        data = row[['2006','2007','2008','2009','2010','2011','2012','2013','2014','2015']]\n",
    "        row['avg'] = np.mean(data)\n",
    "        row['max'] = np.max(data)\n",
    "        row['min'] = np.min(data)\n",
    "        return row\n",
    "    Top15 = Top15.apply(measures, axis=1).sort_values(by='avg',ascending=False)\n",
    "    sixth = Top15.iloc[5,:]\n",
    "    diff = sixth['max'] - sixth['min']\n",
    "    return diff"
   ]
  },
  {
   "cell_type": "markdown",
   "metadata": {},
   "source": [
    "### Question 5 (6.6%)\n",
    "What is the mean `Energy Supply per Capita`?\n",
    "\n",
    "*This function should return a single number.*"
   ]
  },
  {
   "cell_type": "code",
   "execution_count": 6,
   "metadata": {
    "collapsed": false,
    "jupyter": {
     "outputs_hidden": false
    }
   },
   "outputs": [],
   "source": [
    "def answer_five():\n",
    "    import numpy as np\n",
    "    Top15 = answer_one()\n",
    "    mean = np.mean(Top15['Energy Supply per Capita'])\n",
    "    return mean"
   ]
  },
  {
   "cell_type": "markdown",
   "metadata": {},
   "source": [
    "### Question 6 (6.6%)\n",
    "What country has the maximum % Redfable and what is the percentage?\n",
    "\n",
    "*This function should return a tuple with the name of the country and the percentage.*"
   ]
  },
  {
   "cell_type": "code",
   "execution_count": 7,
   "metadata": {
    "collapsed": false,
    "jupyter": {
     "outputs_hidden": false
    }
   },
   "outputs": [],
   "source": [
    "def answer_six():\n",
    "    import numpy as np\n",
    "    Top15 = answer_one()\n",
    "    Top15 = Top15.sort_values(by='% Redfable',ascending=False)\n",
    "    return (Top15.iloc[0].name, Top15.iloc[0]['% Redfable'])"
   ]
  },
  {
   "cell_type": "markdown",
   "metadata": {},
   "source": [
    "### Question 7 (6.6%)\n",
    "Create a df column that is the ratio of Self-Citations to Total Citations. \n",
    "What is the maximum value for this df column, and what country has the highest ratio?\n",
    "\n",
    "*This function should return a tuple with the name of the country and the ratio.*"
   ]
  },
  {
   "cell_type": "code",
   "execution_count": 8,
   "metadata": {
    "collapsed": false,
    "jupyter": {
     "outputs_hidden": false
    }
   },
   "outputs": [],
   "source": [
    "def answer_seven():\n",
    "    Top15 = answer_one()\n",
    "    Top15['Ratio'] = Top15['Self-citations'] / Top15['Citations']\n",
    "    Top15 = Top15['Ratio'].sort_values(ascending=False)\n",
    "    return (Top15.index[0], Top15[0])"
   ]
  },
  {
   "cell_type": "markdown",
   "metadata": {},
   "source": [
    "### Question 8 (6.6%)\n",
    "\n",
    "Create a column that estimates the population using Energy Supply and Energy Supply per capita. \n",
    "What is the third most populous country according to this estimate?\n",
    "\n",
    "*This function should return a single string value.*"
   ]
  },
  {
   "cell_type": "code",
   "execution_count": 9,
   "metadata": {
    "collapsed": false,
    "jupyter": {
     "outputs_hidden": false
    }
   },
   "outputs": [],
   "source": [
    "def answer_eight():\n",
    "    Top15 = answer_one()\n",
    "    def population(row) :\n",
    "        row['Population'] = row['Energy Supply'] / row['Energy Supply per Capita']\n",
    "        return row\n",
    "    return Top15.apply(population, axis=1).iloc[2].name"
   ]
  },
  {
   "cell_type": "markdown",
   "metadata": {},
   "source": [
    "### Question 9 (6.6%)\n",
    "Create a column that estimates the number of citable documents per person. \n",
    "What is the correlation between the number of citable documents per capita and the energy supply per capita? Use the `.corr()` method, (Pearson's correlation).\n",
    "\n",
    "*This function should return a single number.*\n",
    "\n",
    "*(Optional: Use the built-in function `plot9()` to visualize the relationship between Energy Supply per Capita vs. Citable docs per Capita)*"
   ]
  },
  {
   "cell_type": "code",
   "execution_count": 11,
   "metadata": {
    "collapsed": false,
    "jupyter": {
     "outputs_hidden": false
    }
   },
   "outputs": [],
   "source": [
    "def answer_nine():\n",
    "    Top15 = answer_one()\n",
    "    def population(row) :\n",
    "        row['Population'] = row['Energy Supply'] / row['Energy Supply per Capita']\n",
    "        return row\n",
    "    Top15 = Top15.apply(population, axis=1)\n",
    "    def docsPP(row) :\n",
    "        row['Documents per Person'] = row['Citable documents'] / row['Population']\n",
    "        return row\n",
    "    Top15 = Top15.apply(docsPP, axis=1)    \n",
    "    return Top15.corr('pearson')['Documents per Person']['Energy Supply per Capita']"
   ]
  },
  {
   "cell_type": "code",
   "execution_count": 12,
   "metadata": {
    "collapsed": false,
    "jupyter": {
     "outputs_hidden": false
    }
   },
   "outputs": [],
   "source": [
    "def plot9():\n",
    "    import matplotlib as plt\n",
    "    %matplotlib inline\n",
    "    \n",
    "    Top15 = answer_one()\n",
    "    Top15['PopEst'] = Top15['Energy Supply'] / Top15['Energy Supply per Capita']\n",
    "    Top15['Citable docs per Capita'] = Top15['Citable documents'] / Top15['PopEst']\n",
    "    Top15.plot(x='Citable docs per Capita', y='Energy Supply per Capita', kind='scatter', xlim=[0, 0.0006])"
   ]
  },
  {
   "cell_type": "code",
   "execution_count": 13,
   "metadata": {
    "collapsed": false,
    "jupyter": {
     "outputs_hidden": false
    }
   },
   "outputs": [],
   "source": [
    "#plot9() # Be sure to comment out plot9() before submitting the assignment!"
   ]
  },
  {
   "cell_type": "markdown",
   "metadata": {},
   "source": [
    "### Question 10 (6.6%)\n",
    "Create a df column with a 1 if the country's % Redfable value is at or above the median for all countries in the top 15, and a 0 if the country's % Redfable value is below the median.\n",
    "\n",
    "*This function should return a series named `HighRedf` whose index is the country name sorted in ascending order of rank.*"
   ]
  },
  {
   "cell_type": "code",
   "execution_count": 14,
   "metadata": {
    "collapsed": false,
    "jupyter": {
     "outputs_hidden": false
    }
   },
   "outputs": [],
   "source": [
    "def answer_ten():\n",
    "    Top15 = answer_one()\n",
    "    med = Top15.median()['% Redfable']\n",
    "    def x(row) :\n",
    "        if row['% Redfable'] >= med :\n",
    "            row['HighRedf'] = '1'\n",
    "        else :\n",
    "            row['HighRedf'] = '0'\n",
    "        return row \n",
    "    Top15\n",
    "    df = Top15.apply(x, axis=1)\n",
    "    answer = df[['HighRedf']].iloc[:,0]\n",
    "    return answer"
   ]
  },
  {
   "cell_type": "markdown",
   "metadata": {},
   "source": [
    "### Question 11 (6.6%)\n",
    "Use the following dictionary to group the Countries by Continent, then create a dateframe that displays the sample size (the number of countries in each continent bin), and the sum, mean, and std deviation for the estimated population of each country.\n",
    "\n",
    "```python\n",
    "ContinentDict  = {'China':'Asia', \n",
    "                  'United States':'North America', \n",
    "                  'Japan':'Asia', \n",
    "                  'United Kingdom':'Europe', \n",
    "                  'Russian Federation':'Europe', \n",
    "                  'Canada':'North America', \n",
    "                  'Germany':'Europe', \n",
    "                  'India':'Asia',\n",
    "                  'France':'Europe', \n",
    "                  'South Korea':'Asia', \n",
    "                  'Italy':'Europe', \n",
    "                  'Spain':'Europe', \n",
    "                  'Iran':'Asia',\n",
    "                  'Australia':'Australia', \n",
    "                  'Brazil':'South America'}\n",
    "```\n",
    "\n",
    "*This function should return a DataFrame with index named Continent `['Asia', 'Australia', 'Europe', 'North America', 'South America']` and columns `['size', 'sum', 'mean', 'std']`*"
   ]
  },
  {
   "cell_type": "code",
   "execution_count": 15,
   "metadata": {
    "collapsed": false,
    "jupyter": {
     "outputs_hidden": false
    }
   },
   "outputs": [],
   "source": [
    "def answer_eleven():\n",
    "    import numpy as np\n",
    "    import pandas as pd\n",
    "    Top15 = answer_one()\n",
    "    def popEst(row) :\n",
    "        row['popEst'] = row['Energy Supply'] / row['Energy Supply per Capita']\n",
    "        return row\n",
    "    Top15 = Top15.apply(popEst, axis=1)\n",
    "    def country(row) : \n",
    "        row['C'] = row.name\n",
    "        return row\n",
    "    Top15 =  Top15.apply(country, axis=1)\n",
    "    ContinentDict = {'China':'Asia', \n",
    "                      'United States':'North America', \n",
    "                      'Japan':'Asia', \n",
    "                      'United Kingdom':'Europe', \n",
    "                      'Russian Federation':'Europe', \n",
    "                      'Canada':'North America', \n",
    "                      'Germany':'Europe', \n",
    "                      'India':'Asia',\n",
    "                      'France':'Europe', \n",
    "                      'South Korea':'Asia', \n",
    "                      'Italy':'Europe', \n",
    "                      'Spain':'Europe', \n",
    "                      'Iran':'Asia',\n",
    "                      'Australia':'Australia', \n",
    "                      'Brazil':'South America'}\n",
    "\n",
    "    # creating translate table from dictionary \n",
    "    Top15['Continent'] = Top15['C'].replace(to_replace=ContinentDict) \n",
    "    metrics = ['size', 'sum', 'mean', 'std']\n",
    "    answer = (Top15.groupby('Continent')['popEst']\n",
    "              .agg({'size': pd.Series.nunique, 'sum': np.sum, 'mean': np.average, 'std': np.std}))\n",
    "    return answer"
   ]
  },
  {
   "cell_type": "markdown",
   "metadata": {},
   "source": [
    "### Question 12 (6.6%)\n",
    "Cut % Redfable into 5 bins. Group Top15 by the Continent, as well as these df % Redfable bins. How many countries are in each of these groups?\n",
    "\n",
    "*This function should return a __Series__ with a MultiIndex of `Continent`, then the bins for `% Redfable`. Do not include groups with no countries.*"
   ]
  },
  {
   "cell_type": "code",
   "execution_count": 16,
   "metadata": {
    "collapsed": false,
    "jupyter": {
     "outputs_hidden": false
    },
    "scrolled": true
   },
   "outputs": [],
   "source": [
    "def answer_twelve():\n",
    "    import numpy as np\n",
    "    import pandas as pd\n",
    "    Top15 = answer_one()\n",
    "    def country(row) : \n",
    "        row['C'] = row.name\n",
    "        return row\n",
    "    Top15 =  Top15.apply(country, axis=1)\n",
    "    ContinentDict = {'China':'Asia', \n",
    "                      'United States':'North America', \n",
    "                      'Japan':'Asia', \n",
    "                      'United Kingdom':'Europe', \n",
    "                      'Russian Federation':'Europe', \n",
    "                      'Canada':'North America', \n",
    "                      'Germany':'Europe', \n",
    "                      'India':'Asia',\n",
    "                      'France':'Europe', \n",
    "                      'South Korea':'Asia', \n",
    "                      'Italy':'Europe', \n",
    "                      'Spain':'Europe', \n",
    "                      'Iran':'Asia',\n",
    "                      'Australia':'Australia', \n",
    "                      'Brazil':'South America'}\n",
    "    Top15['% Redfable'] = pd.cut(Top15['% Redfable'],5)\n",
    "    # creating translate table from dictionary \n",
    "    Top15['Continent'] = Top15['C'].replace(to_replace=ContinentDict) \n",
    "    answer = (Top15.groupby(['Continent','% Redfable'])['C']\n",
    "              .agg({'size': pd.Series.nunique}))\n",
    "    return answer['size']"
   ]
  },
  {
   "cell_type": "markdown",
   "metadata": {},
   "source": [
    "### Question 13 (6.6%)\n",
    "Convert the Population Estimate series to a string with thousands separator (using commas). Do not round the results.\n",
    "\n",
    "e.g. 317615384.61538464 -> 317,615,384.61538464\n",
    "\n",
    "*This function should return a Series `PopEst` whose index is the country name and whose values are the population estimate string.*"
   ]
  },
  {
   "cell_type": "code",
   "execution_count": 17,
   "metadata": {
    "collapsed": false,
    "jupyter": {
     "outputs_hidden": false
    },
    "scrolled": true
   },
   "outputs": [],
   "source": [
    "def answer_thirteen():\n",
    "    import numpy as np\n",
    "    import pandas as pd\n",
    "    Top15 = answer_one()\n",
    "    def popEst(row) :\n",
    "        x = row['Energy Supply'] / row['Energy Supply per Capita']\n",
    "        o = str(x).split('.',1)\n",
    "        x2 = str(o[1])\n",
    "        x1 = str(o[0])\n",
    "        # reverse a string\n",
    "        xR = x1[len(x1)::-1]\n",
    "        # insert a comma every third character\n",
    "        xb = ','.join([xR[i:i+3] for i in range(2, len(xR)+3, 3)])\n",
    "        xa = xb[len(xb)::-1]\n",
    "        # remove the first comma in the string, maybe a better way to avoid it\n",
    "        x_ = xa.split(',',1)[1] + '.' + x2\n",
    "        row['PopEst'] = x_\n",
    "        row['x'] = x1\n",
    "        return row\n",
    "    Top15 = Top15.apply(popEst, axis=1)\n",
    "    return Top15['PopEst']"
   ]
  },
  {
   "cell_type": "markdown",
   "metadata": {},
   "source": [
    "### Optional\n",
    "\n",
    "Use the built in function `plot_optional()` to see an example visualization."
   ]
  },
  {
   "cell_type": "code",
   "execution_count": 18,
   "metadata": {
    "collapsed": false,
    "jupyter": {
     "outputs_hidden": false
    },
    "scrolled": true
   },
   "outputs": [],
   "source": [
    "def plot_optional():\n",
    "    import matplotlib as plt\n",
    "    %matplotlib inline\n",
    "    Top15 = answer_one()\n",
    "    ax = Top15.plot(x='Rank', y='% Redfable', kind='scatter', \n",
    "                    c=['#e41a1c','#377eb8','#e41a1c','#4daf4a','#4daf4a','#377eb8','#4daf4a','#e41a1c',\n",
    "                       '#4daf4a','#e41a1c','#4daf4a','#4daf4a','#e41a1c','#dede00','#ff7f00'], \n",
    "                    xticks=range(1,16), s=6*Top15['2014']/10**10, alpha=.75, figsize=[16,6]);\n",
    "\n",
    "    for i, txt in enumerate(Top15.index):\n",
    "        ax.annotate(txt, [Top15['Rank'][i], Top15['% Redfable'][i]], ha='center')\n",
    "\n",
    "    print(\"This is an example of a visualization that can be created to help understand the data. \\\n",
    "This is a bubble chart showing % Redfable vs. Rank. The size of the bubble corresponds to the countries' \\\n",
    "2014 GDP, and the color corresponds to the continent.\")"
   ]
  },
  {
   "cell_type": "code",
   "execution_count": 19,
   "metadata": {
    "collapsed": false,
    "jupyter": {
     "outputs_hidden": false
    }
   },
   "outputs": [],
   "source": [
    "#plot_optional() # Be sure to comment out plot_optional() before submitting the assignment!"
   ]
  }
 ],
 "metadata": {
  "anaconda-cloud": {},
  "coursera": {
   "course_slug": "python-data-analysis",
   "graded_item_id": "zAr06",
   "launcher_item_id": "KSSjT",
   "part_id": "SL3fU"
  },
  "kernelspec": {
   "display_name": "Python 3",
   "language": "python",
   "name": "python3"
  },
  "language_info": {
   "codemirror_mode": {
    "name": "ipython",
    "version": 3
   },
   "file_extension": ".py",
   "mimetype": "text/x-python",
   "name": "python",
   "nbconvert_exporter": "python",
   "pygments_lexer": "ipython3",
   "version": "3.7.3"
  }
 },
 "nbformat": 4,
 "nbformat_minor": 4
}
