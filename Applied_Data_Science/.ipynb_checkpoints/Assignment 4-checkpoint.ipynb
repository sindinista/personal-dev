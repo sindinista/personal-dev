{
 "cells": [
  {
   "cell_type": "markdown",
   "metadata": {},
   "source": [
    "---\n",
    "\n",
    "_You are currently looking at **version 1.1** of this notebook. To download notebooks and datafiles, as well as get help on Jupyter notebooks in the Coursera platform, visit the [Jupyter Notebook FAQ](https://www.coursera.org/learn/python-data-analysis/resources/0dhYG) course resource._\n",
    "\n",
    "---"
   ]
  },
  {
   "cell_type": "code",
   "execution_count": 15,
   "metadata": {},
   "outputs": [],
   "source": [
    "import pandas as pd\n",
    "import numpy as np\n",
    "import re\n",
    "from scipy.stats import ttest_ind"
   ]
  },
  {
   "cell_type": "markdown",
   "metadata": {},
   "source": [
    "# Assignment 4 - Hypothesis Testing\n",
    "This assignment requires more individual learning than previous assignments - you are encouraged to check out the [pandas documentation](http://pandas.pydata.org/pandas-docs/stable/) to find functions or methods you might not have used yet, or ask questions on [Stack Overflow](http://stackoverflow.com/) and tag them as pandas and python related. And of course, the discussion forums are open for interaction with your peers and the course staff.\n",
    "\n",
    "Definitions:\n",
    "* A _quarter_ is a specific three month period, Q1 is January through March, Q2 is April through June, Q3 is July through September, Q4 is October through December.\n",
    "* A _recession_ is defined as starting with two consecutive quarters of GDP decline, and ending with two consecutive quarters of GDP growth.\n",
    "* A _recession bottom_ is the quarter within a recession which had the lowest GDP.\n",
    "* A _university town_ is a city which has a high percentage of university students compared to the total population of the city.\n",
    "\n",
    "**Hypothesis**: University towns have their mean housing prices less effected by recessions. Run a t-test to compare the ratio of the mean price of houses in university towns the quarter before the recession starts compared to the recession bottom. (`price_ratio=quarter_before_recession/recession_bottom`)\n",
    "\n",
    "The following data files are available for this assignment:\n",
    "* From the [Zillow research data site](http://www.zillow.com/research/data/) there is housing data for the United States. In particular the datafile for [all homes at a city level](http://files.zillowstatic.com/research/public/City/City_Zhvi_AllHomes.csv), ```City_Zhvi_AllHomes.csv```, has median home sale prices at a fine grained level.\n",
    "* From the Wikipedia page on college towns is a list of [university towns in the United States](https://en.wikipedia.org/wiki/List_of_college_towns#College_towns_in_the_United_States) which has been copy and pasted into the file ```university_towns.txt```.\n",
    "* From Bureau of Economic Analysis, US Department of Commerce, the [GDP over time](http://www.bea.gov/national/index.htm#gdp) of the United States in current dollars (use the chained value in 2009 dollars), in quarterly intervals, in the file ```gdplev.xls```. For this assignment, only look at GDP data from the first quarter of 2000 onward.\n",
    "\n",
    "Each function in this assignment below is worth 10%, with the exception of ```run_ttest()```, which is worth 50%."
   ]
  },
  {
   "cell_type": "code",
   "execution_count": 16,
   "metadata": {
    "collapsed": false,
    "jupyter": {
     "outputs_hidden": false
    }
   },
   "outputs": [],
   "source": [
    "# Use this dictionary to map state names to two letter acronyms\n",
    "states = {'OH': 'Ohio', 'KY': 'Kentucky', 'AS': 'American Samoa', 'NV': 'Nevada', 'WY': 'Wyoming', 'NA': 'National', 'AL': 'Alabama', 'MD': 'Maryland', 'AK': 'Alaska', 'UT': 'Utah', 'OR': 'Oregon', 'MT': 'Montana', 'IL': 'Illinois', 'TN': 'Tennessee', 'DC': 'District of Columbia', 'VT': 'Vermont', 'ID': 'Idaho', 'AR': 'Arkansas', 'ME': 'Maine', 'WA': 'Washington', 'HI': 'Hawaii', 'WI': 'Wisconsin', 'MI': 'Michigan', 'IN': 'Indiana', 'NJ': 'New Jersey', 'AZ': 'Arizona', 'GU': 'Guam', 'MS': 'Mississippi', 'PR': 'Puerto Rico', 'NC': 'North Carolina', 'TX': 'Texas', 'SD': 'South Dakota', 'MP': 'Northern Mariana Islands', 'IA': 'Iowa', 'MO': 'Missouri', 'CT': 'Connecticut', 'WV': 'West Virginia', 'SC': 'South Carolina', 'LA': 'Louisiana', 'KS': 'Kansas', 'NY': 'New York', 'NE': 'Nebraska', 'OK': 'Oklahoma', 'FL': 'Florida', 'CA': 'California', 'CO': 'Colorado', 'PA': 'Pennsylvania', 'DE': 'Delaware', 'NM': 'New Mexico', 'RI': 'Rhode Island', 'MN': 'Minnesota', 'VI': 'Virgin Islands', 'NH': 'New Hampshire', 'MA': 'Massachusetts', 'GA': 'Georgia', 'ND': 'North Dakota', 'VA': 'Virginia'}"
   ]
  },
  {
   "cell_type": "code",
   "execution_count": 17,
   "metadata": {
    "collapsed": false,
    "jupyter": {
     "outputs_hidden": false
    }
   },
   "outputs": [],
   "source": [
    "def get_list_of_university_towns():\n",
    "    '''Returns a DataFrame of towns and the states they are in from the \n",
    "    university_towns.txt list. The format of the DataFrame should be:\n",
    "    DataFrame( [ [\"Michigan\", \"Ann Arbor\"], [\"Michigan\", \"Yipsilanti\"] ], \n",
    "    columns=[\"State\", \"RegionName\"]  )\n",
    "    \n",
    "    The following cleaning needs to be done:\n",
    "\n",
    "    1. For \"State\", removing characters from \"[\" to the end.\n",
    "    2. For \"RegionName\", when applicable, removing every character from \" (\" to the end.\n",
    "    3. Depending on how you read the data, you may need to remove newline character '\\n'. '''\n",
    "    uni = (pd.read_csv('university_towns.txt',\n",
    "                  names=['UniTown']))\n",
    "    state = []\n",
    "    towns = []\n",
    "    for i in uni.itertuples() :\n",
    "        if \"[edit]\" in i[1] :\n",
    "            state.append(i[1].split('[')[0])\n",
    "        else :\n",
    "            uni.at[i, 'State'] = state[-1]\n",
    "            x = (state[-1], i[1].split(' (')[0])\n",
    "            towns.append(x)\n",
    "    df = pd.DataFrame(towns, columns=['State','RegionName'])\n",
    "    return df"
   ]
  },
  {
   "cell_type": "code",
   "execution_count": 18,
   "metadata": {
    "collapsed": false,
    "jupyter": {
     "outputs_hidden": false
    },
    "scrolled": true
   },
   "outputs": [],
   "source": [
    "def get_recession_start():\n",
    "    '''Returns the year and quarter of the recession start time as a \n",
    "    string value in a format such as 2005q3.\n",
    "    A recession is defined as starting with two consecutive quarters of GDP decline, and ending with two consecutive quarters of GDP growth.'''\n",
    "    gpd = pd.read_excel('gdplev.xls',\n",
    "                           sheet_name='Sheet1',\n",
    "                           usecols=[4,6],\n",
    "                           skiprows=218,\n",
    "                           nrows=67,\n",
    "                           names=['Quarter','GPD'])\n",
    "    gpd['GPD_last'] = gpd['GPD'].shift(1)\n",
    "    gpd.dropna(inplace=True)\n",
    "    def direction(row) :\n",
    "        if row['GPD'] > row['GPD_last'] :\n",
    "            x = 'Increase'\n",
    "            return x\n",
    "        else :\n",
    "            x = 'Decrease'\n",
    "            return x\n",
    "        row['chg'] = x\n",
    "        return row\n",
    "    gpd['chg'] = gpd.apply(direction, axis=1)\n",
    "    df = gpd[['Quarter','chg']]\n",
    "    df['consecutive'] = df['chg'].shift(1)\n",
    "    def rec_start(row) :\n",
    "        if row['chg'] == 'Decrease' and row['consecutive'] == 'Decrease' :\n",
    "            x = 'Start'\n",
    "            return x\n",
    "        elif row['chg'] == 'Increase' and row['consecutive'] == 'Increase' :\n",
    "            x = 'End'\n",
    "            return x\n",
    "        else :\n",
    "            x = None\n",
    "            return x\n",
    "        row['rec_start'] = x\n",
    "        return row\n",
    "    df['rec_start'] = df.apply(rec_start, axis=1)\n",
    "    answer = df[df['rec_start']=='Start']\n",
    "    return answer.iloc[0,0]\n",
    "#print(type(get_recession_start()))\n",
    "#print(get_recession_start())"
   ]
  },
  {
   "cell_type": "code",
   "execution_count": 19,
   "metadata": {
    "collapsed": false,
    "jupyter": {
     "outputs_hidden": false
    }
   },
   "outputs": [],
   "source": [
    "def get_recession_end():\n",
    "    '''Returns the year and quarter of the recession end time as a \n",
    "    string value in a format such as 2005q3'''\n",
    "    gpd = pd.read_excel('gdplev.xls',\n",
    "                           sheet_name='Sheet1',\n",
    "                           usecols=[4,6],\n",
    "                           skiprows=218,\n",
    "                           nrows=67,\n",
    "                           names=['Quarter','GPD'])\n",
    "    gpd['GPD_last'] = gpd['GPD'].shift(1)\n",
    "    gpd.dropna(inplace=True)\n",
    "    def direction(row) :\n",
    "        if row['GPD'] > row['GPD_last'] :\n",
    "            x = 'Increase'\n",
    "            return x\n",
    "        else :\n",
    "            x = 'Decrease'\n",
    "            return x\n",
    "        row['chg'] = x\n",
    "        return row\n",
    "    gpd['chg'] = gpd.apply(direction, axis=1)\n",
    "    df = gpd[['Quarter','chg']]\n",
    "    df['consecutive'] = df['chg'].shift(1)\n",
    "    def rec_start(row) :\n",
    "        if row['chg'] == 'Decrease' and row['consecutive'] == 'Decrease' :\n",
    "            x = 'Start'\n",
    "            return x\n",
    "        elif row['chg'] == 'Increase' and row['consecutive'] == 'Increase' :\n",
    "            x = 'End'\n",
    "            return x\n",
    "        else :\n",
    "            x = None\n",
    "            return x\n",
    "        row['rec_start'] = x\n",
    "        return row\n",
    "    df['rec_start'] = df.apply(rec_start, axis=1)\n",
    "    start_year = get_recession_start()\n",
    "    df = df[df['Quarter']>start_year]\n",
    "    df = df[df['rec_start']=='End']\n",
    "    return df.iloc[0,0]\n",
    "#print(type(get_recession_end()))\n",
    "#print(get_recession_end())"
   ]
  },
  {
   "cell_type": "code",
   "execution_count": 20,
   "metadata": {
    "collapsed": false,
    "jupyter": {
     "outputs_hidden": false
    }
   },
   "outputs": [],
   "source": [
    "def get_recession_bottom():\n",
    "    '''Returns the year and quarter of the recession bottom time as a \n",
    "    string value in a format such as 2005q3'''\n",
    "    gpd = pd.read_excel('gdplev.xls',\n",
    "                           sheet_name='Sheet1',\n",
    "                           usecols=[4,6],\n",
    "                           skiprows=218,\n",
    "                           nrows=67,\n",
    "                           names=['Quarter','GPD'])\n",
    "    start = get_recession_start()\n",
    "    end = get_recession_end()\n",
    "    df = gpd[gpd['Quarter'].between(start, end)]\n",
    "    min_ = df['GPD'].min()\n",
    "    return df[df['GPD']==min_].iloc[0,0]\n",
    "#print(type(get_recession_bottom()))\n",
    "#print(get_recession_bottom())"
   ]
  },
  {
   "cell_type": "code",
   "execution_count": 120,
   "metadata": {
    "collapsed": false,
    "jupyter": {
     "outputs_hidden": false
    },
    "scrolled": true
   },
   "outputs": [
    {
     "name": "stdout",
     "output_type": "stream",
     "text": [
      "<class 'pandas.core.series.Series'>\n",
      "(67,)\n",
      "2000q1              NaN\n",
      "2000q2              NaN\n",
      "2000q3              NaN\n",
      "2000q4              NaN\n",
      "2001q1              NaN\n",
      "2001q2              NaN\n",
      "2001q3              NaN\n",
      "2001q4              NaN\n",
      "2002q1              NaN\n",
      "2002q2              NaN\n",
      "2002q3              NaN\n",
      "2002q4              NaN\n",
      "2003q1              NaN\n",
      "2003q2              NaN\n",
      "2003q3              NaN\n",
      "2003q4              NaN\n",
      "2004q1              NaN\n",
      "2004q2              NaN\n",
      "2004q3    435650.000000\n",
      "2004q4    432133.333333\n",
      "2005q1    422666.666667\n",
      "2005q2    431800.000000\n",
      "2005q3    438766.666667\n",
      "2005q4    464500.000000\n",
      "2006q1    488133.333333\n",
      "2006q2    513700.000000\n",
      "2006q3    520033.333333\n",
      "2006q4    524700.000000\n",
      "2007q1    517233.333333\n",
      "2007q2    514666.666667\n",
      "              ...      \n",
      "2009q2    465833.333333\n",
      "2009q3    455933.333333\n",
      "2009q4    458366.666667\n",
      "2010q1    469700.000000\n",
      "2010q2    476933.333333\n",
      "2010q3    478566.666667\n",
      "2010q4    477266.666667\n",
      "2011q1    476700.000000\n",
      "2011q2    472133.333333\n",
      "2011q3    469200.000000\n",
      "2011q4    463700.000000\n",
      "2012q1    460200.000000\n",
      "2012q2    462700.000000\n",
      "2012q3    467233.333333\n",
      "2012q4    469166.666667\n",
      "2013q1    469033.333333\n",
      "2013q2    472233.333333\n",
      "2013q3    481366.666667\n",
      "2013q4    492433.333333\n",
      "2014q1    503133.333333\n",
      "2014q2    515466.666667\n",
      "2014q3    522800.000000\n",
      "2014q4    528066.666667\n",
      "2015q1    532266.666667\n",
      "2015q2    540800.000000\n",
      "2015q3    557200.000000\n",
      "2015q4    572833.333333\n",
      "2016q1    582866.666667\n",
      "2016q2    591633.333333\n",
      "2016q3    587200.000000\n",
      "Name: (NY, New York), Length: 67, dtype: float64\n"
     ]
    }
   ],
   "source": [
    "def convert_housing_data_to_quarters():\n",
    "    '''Converts the housing data to quarters and returns it as mean \n",
    "    values in a dataframe. This dataframe should be a dataframe with\n",
    "    columns for 2000q1 through 2016q3, and should have a multi-index\n",
    "    in the shape of [\"State\",\"RegionName\"].\n",
    "    \n",
    "    Note: Quarters are defined in the assignment description, they are\n",
    "    not arbitrary three month periods.\n",
    "    \n",
    "    The resulting dataframe should have 67 columns, and 10,730 rows.\n",
    "    '''\n",
    "    def col(c) :\n",
    "        if c <='03' : \n",
    "            return 'q1' \n",
    "        elif '04' <= c <= '06' :\n",
    "            return 'q2'\n",
    "        elif '07' <= c <= '09' :\n",
    "            return 'q3'\n",
    "        else :\n",
    "            return 'q4'\n",
    "    zhvi = (pd.read_csv('City_Zhvi_AllHomes.csv')\n",
    "        .set_index(['State','RegionName'])\n",
    "        .drop(labels=['RegionID','Metro','CountyName','SizeRank'], axis=1)\n",
    "       )\n",
    "    c = filter(lambda c: c.split('-')[0] >= '2000', zhvi.columns.tolist())\n",
    "    cols = []\n",
    "    for i in c : cols.append(i)\n",
    "    zhvi = (pd.DataFrame(zhvi, columns=cols)\n",
    "            .rename(columns=lambda c: c.split('-')[0] + col(c.split('-')[1])))\n",
    "#    for i in zhvi :\n",
    "#        .groupby(['State','RegionName'], level=0).mean()\n",
    "    return zhvi.iloc[0,:].groupby(level=0).mean()\n",
    "print(type(convert_housing_data_to_quarters()))\n",
    "print(convert_housing_data_to_quarters().shape)\n",
    "print(convert_housing_data_to_quarters())\n"
   ]
  },
  {
   "cell_type": "code",
   "execution_count": 99,
   "metadata": {
    "scrolled": true
   },
   "outputs": [
    {
     "ename": "TypeError",
     "evalue": "'<' not supported between instances of 'str' and 'int'",
     "output_type": "error",
     "traceback": [
      "\u001b[1;31m---------------------------------------------------------------------------\u001b[0m",
      "\u001b[1;31mTypeError\u001b[0m                                 Traceback (most recent call last)",
      "\u001b[1;32m<ipython-input-99-3e7b151ce83f>\u001b[0m in \u001b[0;36m<module>\u001b[1;34m\u001b[0m\n\u001b[0;32m     17\u001b[0m zhvi = (pd.DataFrame(zhvi, columns=cols)\n\u001b[0;32m     18\u001b[0m         .rename(columns=lambda c: c.split('-')[0] + col(c.split('-')[1])))\n\u001b[1;32m---> 19\u001b[1;33m \u001b[0mzhviQ\u001b[0m \u001b[1;33m=\u001b[0m \u001b[0mzhvi\u001b[0m\u001b[1;33m[\u001b[0m\u001b[1;36m0\u001b[0m\u001b[1;33m]\u001b[0m\u001b[1;33m.\u001b[0m\u001b[0mgroupby\u001b[0m\u001b[1;33m(\u001b[0m\u001b[1;33m[\u001b[0m\u001b[1;34m'State'\u001b[0m\u001b[1;33m,\u001b[0m\u001b[1;34m'RegionName'\u001b[0m\u001b[1;33m]\u001b[0m\u001b[1;33m)\u001b[0m\u001b[1;33m.\u001b[0m\u001b[0mmean\u001b[0m\u001b[1;33m(\u001b[0m\u001b[1;33m)\u001b[0m\u001b[1;33m\u001b[0m\u001b[1;33m\u001b[0m\u001b[0m\n\u001b[0m\u001b[0;32m     20\u001b[0m \u001b[0mzhviQ\u001b[0m\u001b[1;33m\u001b[0m\u001b[1;33m\u001b[0m\u001b[0m\n",
      "\u001b[1;32m~\\AppData\\Local\\Continuum\\anaconda3\\lib\\site-packages\\pandas\\core\\frame.py\u001b[0m in \u001b[0;36m__getitem__\u001b[1;34m(self, key)\u001b[0m\n\u001b[0;32m   2925\u001b[0m             \u001b[1;32mif\u001b[0m \u001b[0mself\u001b[0m\u001b[1;33m.\u001b[0m\u001b[0mcolumns\u001b[0m\u001b[1;33m.\u001b[0m\u001b[0mnlevels\u001b[0m \u001b[1;33m>\u001b[0m \u001b[1;36m1\u001b[0m\u001b[1;33m:\u001b[0m\u001b[1;33m\u001b[0m\u001b[1;33m\u001b[0m\u001b[0m\n\u001b[0;32m   2926\u001b[0m                 \u001b[1;32mreturn\u001b[0m \u001b[0mself\u001b[0m\u001b[1;33m.\u001b[0m\u001b[0m_getitem_multilevel\u001b[0m\u001b[1;33m(\u001b[0m\u001b[0mkey\u001b[0m\u001b[1;33m)\u001b[0m\u001b[1;33m\u001b[0m\u001b[1;33m\u001b[0m\u001b[0m\n\u001b[1;32m-> 2927\u001b[1;33m             \u001b[0mindexer\u001b[0m \u001b[1;33m=\u001b[0m \u001b[0mself\u001b[0m\u001b[1;33m.\u001b[0m\u001b[0mcolumns\u001b[0m\u001b[1;33m.\u001b[0m\u001b[0mget_loc\u001b[0m\u001b[1;33m(\u001b[0m\u001b[0mkey\u001b[0m\u001b[1;33m)\u001b[0m\u001b[1;33m\u001b[0m\u001b[1;33m\u001b[0m\u001b[0m\n\u001b[0m\u001b[0;32m   2928\u001b[0m             \u001b[1;32mif\u001b[0m \u001b[0mis_integer\u001b[0m\u001b[1;33m(\u001b[0m\u001b[0mindexer\u001b[0m\u001b[1;33m)\u001b[0m\u001b[1;33m:\u001b[0m\u001b[1;33m\u001b[0m\u001b[1;33m\u001b[0m\u001b[0m\n\u001b[0;32m   2929\u001b[0m                 \u001b[0mindexer\u001b[0m \u001b[1;33m=\u001b[0m \u001b[1;33m[\u001b[0m\u001b[0mindexer\u001b[0m\u001b[1;33m]\u001b[0m\u001b[1;33m\u001b[0m\u001b[1;33m\u001b[0m\u001b[0m\n",
      "\u001b[1;32m~\\AppData\\Local\\Continuum\\anaconda3\\lib\\site-packages\\pandas\\core\\indexes\\base.py\u001b[0m in \u001b[0;36mget_loc\u001b[1;34m(self, key, method, tolerance)\u001b[0m\n\u001b[0;32m   2655\u001b[0m                                  'backfill or nearest lookups')\n\u001b[0;32m   2656\u001b[0m             \u001b[1;32mtry\u001b[0m\u001b[1;33m:\u001b[0m\u001b[1;33m\u001b[0m\u001b[1;33m\u001b[0m\u001b[0m\n\u001b[1;32m-> 2657\u001b[1;33m                 \u001b[1;32mreturn\u001b[0m \u001b[0mself\u001b[0m\u001b[1;33m.\u001b[0m\u001b[0m_engine\u001b[0m\u001b[1;33m.\u001b[0m\u001b[0mget_loc\u001b[0m\u001b[1;33m(\u001b[0m\u001b[0mkey\u001b[0m\u001b[1;33m)\u001b[0m\u001b[1;33m\u001b[0m\u001b[1;33m\u001b[0m\u001b[0m\n\u001b[0m\u001b[0;32m   2658\u001b[0m             \u001b[1;32mexcept\u001b[0m \u001b[0mKeyError\u001b[0m\u001b[1;33m:\u001b[0m\u001b[1;33m\u001b[0m\u001b[1;33m\u001b[0m\u001b[0m\n\u001b[0;32m   2659\u001b[0m                 \u001b[1;32mreturn\u001b[0m \u001b[0mself\u001b[0m\u001b[1;33m.\u001b[0m\u001b[0m_engine\u001b[0m\u001b[1;33m.\u001b[0m\u001b[0mget_loc\u001b[0m\u001b[1;33m(\u001b[0m\u001b[0mself\u001b[0m\u001b[1;33m.\u001b[0m\u001b[0m_maybe_cast_indexer\u001b[0m\u001b[1;33m(\u001b[0m\u001b[0mkey\u001b[0m\u001b[1;33m)\u001b[0m\u001b[1;33m)\u001b[0m\u001b[1;33m\u001b[0m\u001b[1;33m\u001b[0m\u001b[0m\n",
      "\u001b[1;32mpandas/_libs/index.pyx\u001b[0m in \u001b[0;36mpandas._libs.index.IndexEngine.get_loc\u001b[1;34m()\u001b[0m\n",
      "\u001b[1;32mpandas/_libs/index.pyx\u001b[0m in \u001b[0;36mpandas._libs.index.IndexEngine.get_loc\u001b[1;34m()\u001b[0m\n",
      "\u001b[1;32mpandas/_libs/index.pyx\u001b[0m in \u001b[0;36mpandas._libs.index.IndexEngine._get_loc_duplicates\u001b[1;34m()\u001b[0m\n",
      "\u001b[1;31mTypeError\u001b[0m: '<' not supported between instances of 'str' and 'int'"
     ]
    }
   ],
   "source": [
    "def col(c) :\n",
    "    if c <='03' : \n",
    "        return 'q1' \n",
    "    elif '04' <= c <= '06' :\n",
    "        return 'q2'\n",
    "    elif '07' <= c <= '09' :\n",
    "        return 'q3'\n",
    "    else :\n",
    "        return 'q4'\n",
    "zhvi = (pd.read_csv('City_Zhvi_AllHomes.csv')\n",
    "    .set_index(['State','RegionName'])\n",
    "    .drop(labels=['RegionID','Metro','CountyName','SizeRank'], axis=1)\n",
    "    #.drop(labels=lambda c: c.split('-')[0] < '2000', axis=1)\n",
    "    #.rename(columns=lambda c: c.split('-')[0] + col(c.split('-')[1]))\n",
    "   )\n",
    "cols = filter(lambda c: c.split('-')[0] >= '2000', zhvi.columns.tolist())\n",
    "zhvi = (pd.DataFrame(zhvi, columns=cols)\n",
    "        .rename(columns=lambda c: c.split('-')[0] + col(c.split('-')[1])))\n",
    "zhviQ = zhvi[0].groupby(['State','RegionName']).mean()\n",
    "zhviQ"
   ]
  },
  {
   "cell_type": "code",
   "execution_count": 43,
   "metadata": {},
   "outputs": [
    {
     "name": "stdout",
     "output_type": "stream",
     "text": [
      "<function <lambda> at 0x00000000097EB510>\n"
     ]
    },
    {
     "data": {
      "text/plain": [
       "True"
      ]
     },
     "execution_count": 43,
     "metadata": {},
     "output_type": "execute_result"
    }
   ],
   "source": [
    "c='1999-03'\n",
    "print(lambda c: c.split('-')[0] < '2000')\n",
    "c.split('-')[0] < '2000'"
   ]
  },
  {
   "cell_type": "code",
   "execution_count": 22,
   "metadata": {
    "collapsed": false,
    "jupyter": {
     "outputs_hidden": false
    }
   },
   "outputs": [],
   "source": [
    "def run_ttest():\n",
    "    '''First creates new data showing the decline or growth of housing prices\n",
    "    between the recession start and the recession bottom. Then runs a ttest\n",
    "    comparing the university town values to the non-university towns values, \n",
    "    return whether the alternative hypothesis (that the two groups are the same)\n",
    "    is true or not as well as the p-value of the confidence. \n",
    "    \n",
    "    Return the tuple (different, p, better) where different=True if the t-test is\n",
    "    True at a p<0.01 (we reject the null hypothesis), or different=False if \n",
    "    otherwise (we cannot reject the null hypothesis). The variable p should\n",
    "    be equal to the exact p value returned from scipy.stats.ttest_ind(). The\n",
    "    value for better should be either \"university town\" or \"non-university town\"\n",
    "    depending on which has a lower mean price ratio (which is equivilent to a\n",
    "    reduced market loss).'''\n",
    "    \n",
    "    return \"ANSWER\""
   ]
  }
 ],
 "metadata": {
  "coursera": {
   "course_slug": "python-data-analysis",
   "graded_item_id": "Il9Fx",
   "launcher_item_id": "TeDW0",
   "part_id": "WGlun"
  },
  "kernelspec": {
   "display_name": "Python 3",
   "language": "python",
   "name": "python3"
  },
  "language_info": {
   "codemirror_mode": {
    "name": "ipython",
    "version": 3
   },
   "file_extension": ".py",
   "mimetype": "text/x-python",
   "name": "python",
   "nbconvert_exporter": "python",
   "pygments_lexer": "ipython3",
   "version": "3.7.3"
  }
 },
 "nbformat": 4,
 "nbformat_minor": 4
}
