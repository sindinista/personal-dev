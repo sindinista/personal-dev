{
 "cells": [
  {
   "cell_type": "markdown",
   "metadata": {},
   "source": [
    "## Categorical Data"
   ]
  },
  {
   "cell_type": "markdown",
   "metadata": {},
   "source": [
    "* Summarizing numerical data\n",
    "* Frequency table\n",
    "    \n",
    "    For numerical summarizations\n",
    "- Counts & percentages"
   ]
  },
  {
   "cell_type": "markdown",
   "metadata": {},
   "source": [
    "Nominal data can be arranged by metric\n"
   ]
  },
  {
   "cell_type": "markdown",
   "metadata": {},
   "source": [
    "# Quantitative Data"
   ]
  },
  {
   "cell_type": "markdown",
   "metadata": {},
   "source": [
    "Histogram\n",
    "\n",
    "    shape - overall appeareance, symmetric, bell shaped, skew\n",
    "    Center - mean or median\n",
    "    Spread - range, IQR, standard deviation\n",
    "    Outliers - fall far from bulk of data\n",
    "    \n",
    "Unimodal - having one mode, or peak\n",
    "Bimodal - two peaks\n",
    "\n"
   ]
  },
  {
   "cell_type": "markdown",
   "metadata": {},
   "source": [
    "Numerical Summaries\n",
    "\n",
    "    Generated as typically 5 number summary of dataset\n",
    "        -Min, Q1, Median, Q3, Max\n",
    "    IQR amount between Q1 and Q3, middle 50%\n",
    "    "
   ]
  },
  {
   "cell_type": "code",
   "execution_count": null,
   "metadata": {},
   "outputs": [],
   "source": [
    "Boxplot\n",
    "\n",
    "    "
   ]
  },
  {
   "cell_type": "markdown",
   "metadata": {},
   "source": [
    "quiz\n",
    "1d\n",
    "2b\n",
    "3c\n",
    "4a\n",
    "5 range\n",
    "6 mean\n",
    "7 50%\n",
    "8 c \n",
    "9 median c\n",
    "10 cant tell\n",
    "11 c\n",
    "12 a\n"
   ]
  }
 ],
 "metadata": {
  "kernelspec": {
   "display_name": "Python 3",
   "language": "python",
   "name": "python3"
  },
  "language_info": {
   "codemirror_mode": {
    "name": "ipython",
    "version": 3
   },
   "file_extension": ".py",
   "mimetype": "text/x-python",
   "name": "python",
   "nbconvert_exporter": "python",
   "pygments_lexer": "ipython3",
   "version": "3.7.3"
  }
 },
 "nbformat": 4,
 "nbformat_minor": 4
}
