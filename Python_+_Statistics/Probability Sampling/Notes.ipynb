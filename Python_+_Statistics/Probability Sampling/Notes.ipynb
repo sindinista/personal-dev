{
 "cells": [
  {
   "cell_type": "markdown",
   "metadata": {},
   "source": [
    "Probability Sampling\n",
    "\n",
    "N is the size of the population\n",
    "n is the sample size\n",
    "\n",
    "i.i.d idependent and identically distributed\n",
    "Simple Random Sample will generate i.i.d for a given variables, in theory\n",
    "\n",
    "Complex Sampling - anything more complicated than simple random samples\n",
    "\n",
    "Population divided into different strata, part of sample is allocated to each stratum (stratafication)\n",
    "Cluster sampling - selected groups "
   ]
  }
 ],
 "metadata": {
  "kernelspec": {
   "display_name": "Python 3",
   "language": "python",
   "name": "python3"
  },
  "language_info": {
   "codemirror_mode": {
    "name": "ipython",
    "version": 3
   },
   "file_extension": ".py",
   "mimetype": "text/x-python",
   "name": "python",
   "nbconvert_exporter": "python",
   "pygments_lexer": "ipython3",
   "version": "3.7.3"
  }
 },
 "nbformat": 4,
 "nbformat_minor": 4
}
