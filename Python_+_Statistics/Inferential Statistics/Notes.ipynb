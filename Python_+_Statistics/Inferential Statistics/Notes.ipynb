{
 "cells": [
  {
   "cell_type": "markdown",
   "metadata": {},
   "source": [
    "The ideas behind decision making and testing theories\n",
    "\n",
    "Type 1 error: reject null when null true (alpha)\n",
    "Type 2 error: Do not reject Null when Alternative is true (beta)\n",
    "\n",
    "Population mean parameter\n",
    "mu \n",
    "\n",
    "sample mean mu-hat or x-bar\n",
    "\n",
    "Sigma is the sample deviation"
   ]
  },
  {
   "cell_type": "code",
   "execution_count": 1,
   "metadata": {},
   "outputs": [
    {
     "data": {
      "text/plain": [
       "'that one'"
      ]
     },
     "execution_count": 1,
     "metadata": {},
     "output_type": "execute_result"
    }
   ],
   "source": [
    "my_dict = {'peaches':'cream', 'cat':'dog', 'this one':'that one'}\n",
    "my_dict['this one']"
   ]
  },
  {
   "cell_type": "code",
   "execution_count": 3,
   "metadata": {},
   "outputs": [
    {
     "data": {
      "text/plain": [
       "7"
      ]
     },
     "execution_count": 3,
     "metadata": {},
     "output_type": "execute_result"
    }
   ],
   "source": [
    "lst = [1,7,3,5]\n",
    "def get_element(lst):\n",
    "  new_lst = []\n",
    "  for i in lst:\n",
    "    new_lst.append(i**2)\n",
    "    return lst[1]\n",
    "get_element(lst)"
   ]
  },
  {
   "cell_type": "code",
   "execution_count": 11,
   "metadata": {},
   "outputs": [
    {
     "name": "stdout",
     "output_type": "stream",
     "text": [
      "0.06565321642986127\n",
      "593.75\n",
      "600.25\n"
     ]
    }
   ],
   "source": [
    "import math \n",
    "n = 232\n",
    "moe = 1 / math.sqrt(n)\n",
    "print(moe)\n",
    "moe = 0.04\n",
    "n = (1/moe)**2\n",
    "print(n*.95)\n",
    "Z = 1.96\n",
    "moe = .04\n",
    "n = (Z/(2*moe))**2\n",
    "print(n)"
   ]
  }
 ],
 "metadata": {
  "kernelspec": {
   "display_name": "Python 3",
   "language": "python",
   "name": "python3"
  },
  "language_info": {
   "codemirror_mode": {
    "name": "ipython",
    "version": 3
   },
   "file_extension": ".py",
   "mimetype": "text/x-python",
   "name": "python",
   "nbconvert_exporter": "python",
   "pygments_lexer": "ipython3",
   "version": "3.7.3"
  }
 },
 "nbformat": 4,
 "nbformat_minor": 4
}
