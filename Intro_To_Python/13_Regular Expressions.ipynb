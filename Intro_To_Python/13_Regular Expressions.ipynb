{
 "cells": [
  {
   "cell_type": "markdown",
   "metadata": {},
   "source": [
    "ancient notion related to study of language\n",
    "http://www.py4e.com/lectures/Py4Inf-11-Regex-Guide.pdf\n",
    "\n",
    "^\tMatches the beginning of a line\n",
    "$\tMatches the end of the line\n",
    ".\tMatches any character\n",
    "\\s\tMatches whitespace\n",
    "\\S\tMatches any non-whitespace character\n",
    "*\tRepeats a character zero or more times\n",
    "*?\tRepeats a character zero or more times (non-greedy)\n",
    "+\tRepeats a character one or more times\n",
    "+?\tRepeats a character one or more times (non-greedy)\n",
    "[aeiou]\tMatches a single character in the listed set\n",
    "[^XYZ]\tMatches a single character not in the listed set\n",
    "[a-z0-9]\tThe set of characters can include a range\n",
    "(\tIndicates where string extraction is to start\n",
    ")\tIndicates where string extraction is to end\n",
    "\n",
    "For more information about using regular expressions in Python, see https://docs.python.org/3/howto/regex.html"
   ]
  },
  {
   "cell_type": "code",
   "execution_count": null,
   "metadata": {},
   "outputs": [],
   "source": [
    "# clever 'wild card' searches\n",
    "# using re.search() like find() for position\n",
    "import re\n",
    "\n",
    "# search the beginning of the line with carrot ^ symbol\n",
    "hand = open('mbox-short.txt')\n",
    "for line in hand :\n",
    "    line = line.rstrip()\n",
    "    if re.search('^From:',line) :\n",
    "        print(line)\n",
    "\n",
    "hand = open('mbox-short.txt')\n",
    "for line in hand :\n",
    "    line = line.rstrip()\n",
    "    if re.search('^X.*:',line) :\n",
    "        print(line)\n",
    "        \n",
    "hand = open('mbox-short.txt')\n",
    "for line in hand :\n",
    "    line = line.rstrip()\n",
    "    if re.search('^X-S+:',line) :\n",
    "        print(line)"
   ]
  },
  {
   "cell_type": "code",
   "execution_count": 34,
   "metadata": {},
   "outputs": [
    {
     "name": "stdout",
     "output_type": "stream",
     "text": [
      "['2', '4', '5', '10']\n",
      "[]\n",
      "['i', 'i', 'e', 'i', 'i', 'e']\n",
      "['From:']\n",
      "['stephen.marquard@uct.ac.za', 'louis@media.berkeley.edu', 'zqian@umich.edu', 'rjlowe@iupui.edu', 'zqian@umich.edu', 'rjlowe@iupui.edu', 'cwen@iupui.edu', 'cwen@iupui.edu', 'gsilver@umich.edu', 'gsilver@umich.edu', 'zqian@umich.edu', 'gsilver@umich.edu', 'wagnermr@iupui.edu', 'zqian@umich.edu', 'antranig@caret.cam.ac.uk', 'gopal.ramasammycook@gmail.com', 'david.horwitz@uct.ac.za', 'david.horwitz@uct.ac.za', 'david.horwitz@uct.ac.za', 'david.horwitz@uct.ac.za', 'stephen.marquard@uct.ac.za', 'louis@media.berkeley.edu', 'louis@media.berkeley.edu', 'ray@media.berkeley.edu', 'cwen@iupui.edu', 'cwen@iupui.edu', 'cwen@iupui.edu']\n",
      "['stephen.marquard@uct.ac.za']\n",
      "['stephen.marquard@uct.ac.za']\n",
      "['uct.ac.za', 'media.berkeley.edu', 'umich.edu', 'iupui.edu', 'umich.edu', 'iupui.edu', 'iupui.edu', 'iupui.edu', 'umich.edu', 'umich.edu', 'umich.edu', 'umich.edu', 'iupui.edu', 'umich.edu', 'caret.cam.ac.uk', 'gmail.com', 'uct.ac.za', 'uct.ac.za', 'uct.ac.za', 'uct.ac.za', 'uct.ac.za', 'media.berkeley.edu', 'media.berkeley.edu', 'media.berkeley.edu', 'iupui.edu', 'iupui.edu', 'iupui.edu']\n"
     ]
    }
   ],
   "source": [
    "# extracting data\n",
    "# square bracket represents a single charac\n",
    "# [0-9]+ one or more digits\n",
    "x = 'my 2 is 4 time 5 divided by 10'\n",
    "y = re.findall('[0-9]+', x)\n",
    "z = re.findall('[AEIOU]', x)\n",
    "a = re.findall('[aeiou]', x)\n",
    "print(y)\n",
    "print(z)\n",
    "print(a)\n",
    "\n",
    "# greedy matching wants to grab largest result possible\n",
    "# asterisk and plus expand as far as they can\n",
    "\n",
    "# ? symbol uses non-greedy and returns shortest one\n",
    "x = 'From: Using the : char'\n",
    "y = re.findall('^F.+?:', x)\n",
    "print(y)\n",
    "\n",
    "email = list()\n",
    "hand = open('mbox-short.txt')\n",
    "for line in hand :\n",
    "    line = line.rstrip()\n",
    "    x = re.findall('^From (\\S+@\\S+)', line)\n",
    "    for i in x :\n",
    "        email.append(i)\n",
    "print(email)\n",
    "\n",
    "x = 'From stephen.marquard@uct.ac.za Sat Jan  5 09:14:16 2008'\n",
    "y = re.findall('\\S+@\\S+', x)\n",
    "print(y)\n",
    "\n",
    "y = re.findall('^From (\\S+@\\S+)', x)\n",
    "print(y)\n",
    "\n",
    "email = list()\n",
    "hand = open('mbox-short.txt')\n",
    "for line in hand :\n",
    "    line = line.rstrip()\n",
    "    x = re.findall('^From .*@([^ ]*)', line)\n",
    "    for i in x :\n",
    "        email.append(i)\n",
    "print(email)"
   ]
  },
  {
   "cell_type": "code",
   "execution_count": 37,
   "metadata": {},
   "outputs": [
    {
     "name": "stdout",
     "output_type": "stream",
     "text": [
      "Max 0.9907\n"
     ]
    }
   ],
   "source": [
    "# spam confidence\n",
    "conf = list()\n",
    "hand = open('mbox-short.txt')\n",
    "for line in hand :\n",
    "    line = line.rstrip()\n",
    "    z = re.findall('^X-DSPAM-Confidence: ([0-9.]+)', line)\n",
    "    if len(z) != 1 :\n",
    "         continue\n",
    "    num = float(z[0])\n",
    "    conf.append(num)\n",
    "print('Max', max(conf))\n",
    "    \n",
    "    \n",
    "# backslash \\ can escape to locate special reg ex characters"
   ]
  },
  {
   "cell_type": "code",
   "execution_count": 67,
   "metadata": {},
   "outputs": [
    {
     "name": "stdout",
     "output_type": "stream",
     "text": [
      "Max 445833.0\n"
     ]
    }
   ],
   "source": [
    "hand = open('regex_sum_42.txt')\n",
    "numlist = list()\n",
    "for line in hand :\n",
    "    z = re.findall('[0-9]+', line)\n",
    "    for i in z:\n",
    "        x = float(i)\n",
    "        numlist.append(x)\n",
    "print('Max', sum(numlist))"
   ]
  },
  {
   "cell_type": "code",
   "execution_count": 68,
   "metadata": {},
   "outputs": [
    {
     "name": "stdout",
     "output_type": "stream",
     "text": [
      "445833.0\n"
     ]
    }
   ],
   "source": [
    "hand = open('regex_sum_42.txt')\n",
    "total = 0\n",
    "for line in hand :\n",
    "    z = re.findall('[0-9]+', line)\n",
    "    for i in z :\n",
    "        x = float(i)\n",
    "        total = total + x\n",
    "print(total)"
   ]
  },
  {
   "cell_type": "code",
   "execution_count": 70,
   "metadata": {},
   "outputs": [
    {
     "name": "stdout",
     "output_type": "stream",
     "text": [
      "461681.0\n"
     ]
    }
   ],
   "source": [
    "hand = open('regex_sum_284644.txt')\n",
    "total = 0\n",
    "for line in hand :\n",
    "    z = re.findall('[0-9]+', line)\n",
    "    for i in z :\n",
    "        x = float(i)\n",
    "        total = total + x\n",
    "print(total)"
   ]
  },
  {
   "cell_type": "code",
   "execution_count": 69,
   "metadata": {},
   "outputs": [
    {
     "name": "stdout",
     "output_type": "stream",
     "text": [
      "3036\n",
      "7209\n",
      "4497\n",
      "6702\n",
      "8454\n",
      "7449\n",
      "3665\n",
      "7936\n",
      "9772\n",
      "7114\n",
      "956\n",
      "2564\n",
      "8003\n",
      "1704\n",
      "3816\n",
      "6662\n",
      "5858\n",
      "7777\n",
      "6482\n",
      "9634\n",
      "8805\n",
      "7123\n",
      "9703\n",
      "4676\n",
      "6373\n",
      "2834\n",
      "7221\n",
      "2981\n",
      "5415\n",
      "6872\n",
      "4806\n",
      "5460\n",
      "8533\n",
      "3538\n",
      "9663\n",
      "8001\n",
      "9795\n",
      "8752\n",
      "1117\n",
      "5349\n",
      "4509\n",
      "1004\n",
      "9258\n",
      "4183\n",
      "4034\n",
      "3342\n",
      "3482\n",
      "8567\n",
      "1052\n",
      "8135\n",
      "5561\n",
      "517\n",
      "1218\n",
      "4\n",
      "8877\n",
      "8062\n",
      "1720\n",
      "279\n",
      "2054\n",
      "801\n",
      "918\n",
      "8687\n",
      "7073\n",
      "1865\n",
      "7084\n",
      "2923\n",
      "63\n",
      "8824\n",
      "1079\n",
      "5801\n",
      "5047\n",
      "5\n",
      "2572\n",
      "5616\n",
      "171\n",
      "3062\n",
      "9552\n",
      "7655\n",
      "829\n",
      "6096\n",
      "2312\n",
      "6015\n",
      "7100\n",
      "9548\n",
      "2727\n",
      "1792\n",
      "8402\n",
      "4\n",
      "3\n",
      "42\n"
     ]
    }
   ],
   "source": [
    "hand = open('regex_sum_42.txt')\n",
    "total = 0\n",
    "for line in hand :\n",
    "    z = re.findall('[0-9]+', line)\n",
    "    for i in z :\n",
    "        print(i)"
   ]
  },
  {
   "cell_type": "code",
   "execution_count": 65,
   "metadata": {},
   "outputs": [
    {
     "data": {
      "text/plain": [
       "\"This file contains the sample data\\n\\n\\nWhy should you learn to write programs?\\n\\nWriting programs (or programming) is a very creative \\nand rewarding activity.  You can write programs for \\n3036 many reasons, ranging from making your living to solving 7209\\na difficult data analysis problem to having fun to helping\\nsomeone else solve a problem.  This book assumes that \\neveryone needs to know how to program, and that once \\nyou know how to program you will figure out what you want \\nto do with your newfound skills.  \\n\\nWe are surrounded in our daily lives with computers ranging \\nfrom laptops to cell phones.  We can think of these computers\\nas 4497 our 6702 personal 8454 assistants who can take care of many things\\n 7449 on our behalf.  The hardware in our current-day computers \\nis essentially built to continuously ask us the question, \\nWhat would you like me to do next?\\n\\nProgrammers add an operating system and a set of applications\\nto the hardware and we end up with a Personal Digital\\nAssistant that is quite helpful and capable of helping\\nus do many different things.\\n\\nOur computers are fast and have vast amounts of memory and \\ncould be very helpful to us if we only knew the language to\\nspeak to explain to the computer what we would like it to \\ndo 3665 next. 7936  9772 If we knew this language, we could tell the \\n computer to do tasks on our behalf that were repetitive.  \\nInterestingly, the kinds of things computers can do best\\nare often the kinds of things that we humans find boring\\nand mind-numbing.\\n\\nFor example, look at the first three paragraphs of this\\nchapter and tell me the most commonly used word and how\\nmany times the word is used.  While you were able to read\\nand understand the words in a few seconds, counting them\\nis almost painful because it is not the kind of problem \\nthat human minds are designed to solve.  For a computer\\nthe opposite is true, reading and understanding text \\nfrom a piece of paper is hard for a computer to do \\nbut counting the words and telling you how many times\\nthe most used word was used is very easy for the\\ncomputer:\\n7114 \\nOur personal information analysis assistant quickly \\ntold us that the word to was used sixteen times in the\\nfirst three paragraphs of this chapter.\\n\\nThis very fact that computers are good at things \\nthat humans are not is why you need to become\\nskilled at talking computer language.  Once you learn\\n956 this new language, you can delegate mundane tasks 2564\\nto 8003 your 1704 partner 3816 (the computer), leaving more time \\n for you to do the \\nthings that you are uniquely suited for.  You bring \\ncreativity, intuition, and inventiveness to this\\npartnership.  \\n\\nCreativity and motivation\\n\\nWhile this book is not intended for professional programmers, professional\\nprogramming can be a very rewarding job both financially and personally.\\nBuilding useful, elegant, and clever programs for others to use is a very\\ncreative 6662 activity. 5858  7777 Your computer or Personal Digital Assistant (PDA) \\n usually contains many different programs from many different groups of \\nprogrammers, each competing for your attention and interest.  They try \\ntheir best to meet your needs and give you a great user experience in the\\nprocess.   In some situations, when you choose a piece of software, the \\nprogrammers are directly compensated because of your choice.\\n\\nIf we think of programs as the creative output of groups of programmers,\\nperhaps the following figure is a more sensible version of our PDA:\\n\\nFor now, our primary motivation is not to make money or please end users, but\\ninstead for us to be more productive in handling the data and \\ninformation that we will encounter in our lives.\\nWhen you first start, you will be both the programmer and the end user of\\nyour programs.  As you gain skill as a programmer and\\nprogramming feels more creative to you, your thoughts may turn\\ntoward developing programs for others.\\n\\nComputer hardware architecture\\n\\nBefore we start learning the language we \\nspeak to give instructions to computers to \\ndevelop software, we need to learn a small amount about \\nhow computers are built.  \\n\\nCentral Processing Unit (or CPU) is \\nthe part of the computer that is built to be obsessed \\nwith what is next?  If your computer is rated\\nat three Gigahertz, it means that the CPU will ask What next?\\nthree billion times per second.  You are going to have to \\nlearn how to talk fast to keep up with the CPU.\\n\\nMain Memory is used to store information\\nthat the CPU needs in a hurry.  The main memory is nearly as \\nfast as the CPU.  But the information stored in the main\\nmemory vanishes when the computer is turned off.\\n\\nSecondary Memory is also used to store\\n6482 information, but it is much slower than the main memory.\\nThe advantage of the secondary memory is that it can\\nstore information even when there is no power to the\\ncomputer.  Examples of secondary memory are disk drives\\nor flash memory (typically found in USB sticks and portable\\nmusic players).\\n9634 \\nInput and Output Devices are simply our\\nscreen, keyboard, mouse, microphone, speaker, touchpad, etc.  \\nThey are all of the ways we interact with the computer.\\n\\nThese days, most computers also have a\\nNetwork Connection to retrieve information over a network.\\nWe can think of the network as a very slow place to store and\\n8805 retrieve data that might not always be up.  So in a sense, 7123\\nthe network is a slower and at times unreliable form of\\n9703 4676 6373\\n\\nWhile most of the detail of how these components work is best left \\nto computer builders, it helps to have some terminology\\nso we can talk about these different parts as we write our programs.\\n\\nAs a programmer, your job is to use and orchestrate \\neach of these resources to solve the problem that you need to solve\\nand analyze the data you get from the solution.  As a programmer you will \\nmostly be talking to the CPU and telling it what to \\ndo next.  Sometimes you will tell the CPU to use the main memory,\\nsecondary memory, network, or the input/output devices.\\n\\nYou need to be the person who answers the CPU's What next? \\nquestion.  But it would be very uncomfortable to shrink you \\ndown to five mm  tall and insert you into the computer just so you \\ncould issue a command three billion times per second.  So instead,\\nyou must write down your instructions in advance.\\nWe call these stored instructions a program and the act \\nof writing these instructions down and getting the instructions to \\nbe correct programming.\\n\\nUnderstanding programming\\n\\nIn the rest of this book, we will try to turn you into a person\\nwho is skilled in the art of programming.  In the end you will be a \\nprogrammer --- perhaps not a professional programmer, but \\nat least you will have the skills to look at a data/information\\nanalysis problem and develop a program to solve the problem.\\n2834 \\n7221 problem solving\\n\\n2981 In a sense, you need two skills to be a programmer:\\n\\nFirst, you need to know the programming language (Python) -\\n5415 you need to know the vocabulary and the grammar.  You need to be able \\nto spell the words in this new language properly and know how to construct \\nwell-formed sentences in this new language.\\n\\nSecond, you need to tell a story.  In writing a story,\\nyou combine words and sentences to convey an idea to the reader. \\nThere is a skill and art in constructing the story, and skill in\\nstory writing is improved by doing some writing and getting some\\nfeedback.  In programming, our program is the story and the \\nproblem you are trying to solve is the idea.\\n\\nitemize\\n\\nOnce you learn one programming language such as Python, you will \\nfind it much easier to learn a second programming language such\\nas JavaScript or C++.  The new programming language has very different \\nvocabulary and grammar but the problem-solving skills \\nwill be the same across all programming languages.\\n\\nYou will learn the vocabulary and sentences of Python pretty quickly.\\nIt will take longer for you to be able to write a coherent program\\nto solve a brand-new problem.  We teach programming much like we teach\\nwriting.  We start reading and explaining programs, then we write \\nsimple programs, and then we write increasingly complex programs over time.\\nAt some point you get your muse and see the patterns on your own\\nand can see more naturally how to take a problem and \\nwrite a program that solves that problem.  And once you get \\n6872 to that point, programming becomes a very pleasant and creative process.  \\n\\nWe start with the vocabulary and structure of Python programs.  Be patient\\nas the simple examples remind you of when you started reading for the first\\ntime. \\n\\nWords and sentences\\n4806 \\nUnlike human languages, the Python vocabulary is actually pretty small.\\nWe call this vocabulary the reserved words.  These are words that\\n5460 have very special meaning to Python.  When Python sees these words in 8533\\n3538 a Python program, they have one and only one meaning to Python.  Later\\nas you write programs you will make up your own words that have meaning to \\nyou called variables.   You will have great latitude in choosing\\nyour 9663 names 8001 for 9795 your variables, but you cannot use any of Python's \\n reserved 8752 words 1117 as 5349 a name for a variable.\\n \\nWhen we train a dog, we use special words like\\nsit, stay, and fetch.  When you talk to a dog and\\n4509 don't use any of the reserved words, they just look at you with a \\nquizzical look on their face until you say a reserved word.  \\nFor example, if you say, \\nI wish more people would walk to improve their overall health, \\nwhat most dogs likely hear is,\\nblah blah blah walk blah blah blah blah.\\nThat is because walk is a reserved word in dog language.  \\n\\nThe reserved words in the language where humans talk to \\nPython include the following:\\n\\nand       del       from      not       while    \\nas        elif      global    or        with     \\nassert    else      if        pass      yield    \\nbreak     except    import    print              \\nclass     exec      in        raise              \\ncontinue  finally   is        return             \\ndef       for       lambda    try\\n\\nThat is it, and unlike a dog, Python is already completely trained.\\nWhen 1004 you 9258 say 4183 try, Python will try every time you say it without\\n fail.\\n\\n4034 We will learn these reserved words and how they are used in good time, 3342\\nbut for now we will focus on the Python equivalent of speak (in \\nhuman-to-dog language).  The nice thing about telling Python to speak\\n3482 is that we can even tell it what to say by giving it a message in quotes: 8567\\n\\nAnd we have even written our first syntactically correct Python sentence.\\nOur sentence starts with the reserved word print followed\\nby a string of text of our choosing enclosed in single quotes.\\n\\nConversing with Python\\n\\n1052 Now that we have a word and a simple sentence that we know in Python, 8135\\nwe need to know how to start a conversation with Python to test \\nour new language skills.\\n\\nBefore 5561 you 517 can 1218 converse with Python, you must first install the Python\\n software on your computer and learn how to start Python on your \\ncomputer.  That is too much detail for this chapter so I suggest\\nthat you consult www.py4e.com where I have detailed\\ninstructions and screencasts of setting up and starting Python \\non Macintosh and Windows systems.  At some point, you will be in \\na terminal or command window and you will type python and \\n8877 the Python interpreter will start executing in interactive mode\\nand appear somewhat as follows:\\ninteractive mode\\n\\nThe >>> prompt is the Python interpreter's way of asking you, What\\ndo you want me to do next?  Python is ready to have a conversation with\\nyou.  All you have to know is how to speak the Python language.\\n\\nLet's say for example that you did not know even the simplest Python language\\nwords or sentences. You might want to use the standard line that astronauts \\nuse when they land on a faraway planet and try to speak with the inhabitants\\nof the planet:\\n\\nThis is not going so well.  Unless you think of something quickly,\\nthe inhabitants of the planet are likely to stab you with their spears, \\nput you on a spit, roast you over a fire, and eat you for dinner.\\n\\nAt this point, you should also realize that while Python \\nis amazingly complex and powerful and very picky about \\nthe syntax you use to communicate with it, Python is \\nnot intelligent.  You are really just having a conversation\\nwith yourself, but using proper syntax.\\n8062  1720\\nIn a sense, when you use a program written by someone else\\nthe conversation is between you and those other\\nprogrammers with Python acting as an intermediary.  Python\\nis a way for the creators of programs to express how the \\nconversation is supposed to proceed.  And\\nin just a few more chapters, you will be one of those\\nprogrammers using Python to talk to the users of your program.\\n\\n279 Before we leave our first conversation with the Python \\ninterpreter, you should probably know the proper way\\nto say good-bye when interacting with the inhabitants\\nof Planet Python:\\n\\n2054 You will notice that the error is different for the first two 801\\nincorrect attempts.   The second error is different because \\nif is a reserved word and Python saw the reserved word\\nand thought we were trying to say something but got the syntax\\nof the sentence wrong.\\n\\nTerminology: interpreter and compiler\\n\\nPython is a high-level language intended to be relatively\\nstraightforward for humans to read and write and for computers\\nto read and process.  Other high-level languages include Java, C++,\\n918 PHP, Ruby, Basic, Perl, JavaScript, and many more.  The actual hardware\\ninside the Central Processing Unit (CPU) does not understand any\\nof these high-level languages.\\n\\nThe CPU understands a language we call machine language.  Machine\\nlanguage is very simple and frankly very tiresome to write because it \\nis represented all in zeros and ones.\\n\\nMachine language seems quite simple on the surface, given that there \\nare only zeros and ones, but its syntax is even more complex\\n8687 and far more intricate than Python.  So very few programmers ever write\\nmachine language.  Instead we build various translators to allow\\nprogrammers to write in high-level languages like Python or JavaScript\\nand these translators convert the programs to machine language for actual\\nexecution by the CPU.\\n\\nSince machine language is tied to the computer hardware, machine language\\nis not portable across different types of hardware.  Programs written in \\nhigh-level languages can be moved between different computers by using a \\ndifferent interpreter on the new machine or recompiling the code to create\\na machine language version of the program for the new machine.\\n\\nThese programming language translators fall into two general categories:\\n(one) interpreters and (two) compilers.\\n7073 1865 7084\\nAn interpreter reads the source code of the program as written by the\\nprogrammer, parses the source code, and interprets the instructions on the fly.\\nPython is an interpreter and when we are running Python interactively, \\nwe can type a line of Python (a sentence) and Python processes it immediately\\nand is ready for us to type another line of Python.   \\n2923  63\\nSome of the lines of Python tell Python that you want it to remember some \\nvalue for later.   We need to pick a name for that value to be remembered and\\nwe can use that symbolic name to retrieve the value later.  We use the \\nterm variable to refer to the labels we use to refer to this stored data.\\n\\nIn this example, we ask Python to remember the value six and use the label x\\nso we can retrieve the value later.   We verify that Python has actually remembered\\nthe value using x and multiply\\nit by seven and put the newly computed value in y.  Then we ask Python to print out\\n8824 the value currently in y.\\n1079 5801 5047\\nEven though we are typing these commands into Python one line at a time, Python\\nis treating them as an ordered sequence of statements with later statements able\\nto retrieve data created in earlier statements.   We are writing our first \\nsimple paragraph with four sentences in a logical and meaningful order.\\n5 \\nIt is the nature of an interpreter to be able to have an interactive conversation\\nas shown above.  A compiler needs to be handed the entire program in a file, and then \\nit runs a process to translate the high-level source code into machine language\\n2572 and then the compiler puts the resulting machine language into a file for later\\nexecution.\\n\\nIf you have a Windows system, often these executable machine language programs have a\\nsuffix of .exe or .dll which stand for executable and dynamic link\\nlibrary respectively.  In Linux and Macintosh, there is no suffix that uniquely marks\\na file as executable.\\n\\nIf you were to open an executable file in a text editor, it would look \\ncompletely crazy and be unreadable:\\n\\nIt is not easy to read or write machine language, so it is nice that we have\\ncompilers that allow us to write in high-level\\nlanguages like Python or C.\\n\\nNow at this point in our discussion of compilers and interpreters, you should \\nbe 5616 wondering 171 a 3062 bit about the Python interpreter itself.  What language is \\n 9552 it written in?  Is it written in a compiled language?  When we type 7655\\npython, 829 what 6096 exactly 2312 is happening?\\n \\nThe Python interpreter is written in a high-level language called C.  \\nYou can look at the actual source code for the Python interpreter by\\ngoing to www.python.org and working your way to their source code.\\nSo Python is a program itself and it is compiled into machine code.\\nWhen you installed Python on your computer (or the vendor installed it),\\n6015 you copied a machine-code copy of the translated Python program onto your 7100\\nsystem.   In Windows, the executable machine code for Python itself is likely\\nin a file.\\n\\nThat is more than you really need to know to be a Python programmer, but\\nsometimes it pays to answer those little nagging questions right at \\nthe beginning.\\n\\nWriting a program\\n\\nTyping commands into the Python interpreter is a great way to experiment \\nwith Python's features, but it is not recommended for solving more complex problems.\\n\\nWhen we want to write a program, \\nwe use a text editor to write the Python instructions into a file,\\nwhich 9548 is 2727 called 1792 a script.  By\\n convention, Python scripts have names that end with .py.\\n\\nscript\\n\\nTo execute the script, you have to tell the Python interpreter \\nthe name of the file.  In a Unix or Windows command window, \\nyou would type python hello.py as follows:\\n\\nWe call the Python interpreter and tell it to read its source code from\\nthe file hello.py instead of prompting us for lines of Python code\\ninteractively.\\n\\nYou will notice that there was no need to have quit() at the end of\\nthe Python program in the file.   When Python is reading your source code\\nfrom a file, it knows to stop when it reaches the end of the file.\\n\\n8402 What is a program?\\n\\nThe definition of a program at its most basic is a sequence\\nof Python statements that have been crafted to do something.\\nEven our simple hello.py script is a program.  It is a one-line\\nprogram and is not particularly useful, but in the strictest definition,\\nit is a Python program.\\n\\nIt might be easiest to understand what a program is by thinking about a problem \\nthat a program might be built to solve, and then looking at a program\\nthat would solve that problem.\\n\\nLets say you are doing Social Computing research on Facebook posts and \\nyou are interested in the most frequently used word in a series of posts.\\nYou could print out the stream of Facebook posts and pore over the text\\nlooking for the most common word, but that would take a long time and be very \\nmistake prone.  You would be smart to write a Python program to handle the\\ntask quickly and accurately so you can spend the weekend doing something \\nfun.\\n\\nFor example, look at the following text about a clown and a car.  Look at the \\ntext and figure out the most common word and how many times it occurs.\\n\\nThen imagine that you are doing this task looking at millions of lines of \\ntext.  Frankly it would be quicker for you to learn Python and write a \\nPython program to count the words than it would be to manually \\nscan the words.\\n\\nThe even better news is that I already came up with a simple program to \\nfind the most common word in a text file.  I wrote it,\\ntested it, and now I am giving it to you to use so you can save some time.\\n\\nYou don't even need to know Python to use this program.  You will need to get through \\nChapter ten of this book to fully understand the awesome Python techniques that were\\nused to make the program.  You are the end user, you simply use the program and marvel\\nat its cleverness and how it saved you so much manual effort.\\nYou simply type the code \\ninto a file called words.py and run it or you download the source \\ncode from http://www.py4e.com/code3/ and run it.\\n\\nThis is a good example of how Python and the Python language are acting as an intermediary\\nbetween you (the end user) and me (the programmer).  Python is a way for us to exchange useful\\ninstruction sequences (i.e., programs) in a common language that can be used by anyone who \\ninstalls Python on their computer.  So neither of us are talking to Python,\\ninstead we are communicating with each other through Python.\\n\\nThe building blocks of programs\\n\\nIn the next few chapters, we will learn more about the vocabulary, sentence structure,\\nparagraph structure, and story structure of Python.  We will learn about the powerful\\ncapabilities of Python and how to compose those capabilities together to create useful\\nprograms.\\n\\nThere are some low-level conceptual patterns that we use to construct programs.  These\\nconstructs are not just for Python programs, they are part of every programming language\\nfrom machine language up to the high-level languages.\\n\\ndescription\\n\\nGet data from the outside world.  This might be \\nreading data from a file, or even some kind of sensor like \\na microphone or GPS.  In our initial programs, our input will come from the user\\ntyping data on the keyboard.\\n\\nDisplay the results of the program on a screen\\nor store them in a file or perhaps write them to a device like a\\nspeaker to play music or speak text.\\n\\nPerform statements one after\\nanother in the order they are encountered in the script.\\n\\nCheck for certain conditions and\\nthen execute or skip a sequence of statements.\\n\\nPerform some set of statements \\nrepeatedly, usually with\\nsome variation.\\n\\nWrite a set of instructions once and give them a name\\nand then reuse those instructions as needed throughout your program.\\n\\ndescription\\n\\nIt sounds almost too simple to be true, and of course it is never\\nso simple.  It is like saying that walking is simply\\nputting one foot in front of the other.  The art \\nof writing a program is composing and weaving these\\nbasic elements together many times over to produce something\\nthat is useful to its users.\\n\\nThe word counting program above directly uses all of \\nthese patterns except for one.\\n\\nWhat could possibly go wrong?\\n\\nAs we saw in our earliest conversations with Python, we must\\ncommunicate very precisely when we write Python code.  The smallest\\ndeviation or mistake will cause Python to give up looking at your\\nprogram.\\n\\nBeginning programmers often take the fact that Python leaves no\\nroom for errors as evidence that Python is mean, hateful, and cruel.\\nWhile Python seems to like everyone else, Python knows them \\npersonally and holds a grudge against them.  Because of this grudge,\\nPython takes our perfectly written programs and rejects them as \\nunfit just to torment us.\\n\\nThere is little to be gained by arguing with Python.  It is just a tool.\\nIt has no emotions and it is happy and ready to serve you whenever you\\nneed it.  Its error messages sound harsh, but they are just Python's\\ncall for help.  It has looked at what you typed, and it simply cannot\\nunderstand what you have entered.\\n\\nPython is much more like a dog, loving you unconditionally, having a few\\nkey words that it understands, looking you with a sweet look on its\\nface (>>>), and waiting for you to say something it understands.\\nWhen Python says SyntaxError: invalid syntax, it is simply wagging\\nits tail and saying, You seemed to say something but I just don't\\nunderstand what you meant, but please keep talking to me (>>>).\\n\\nAs your programs become increasingly sophisticated, you will encounter three \\ngeneral types of errors:\\n\\ndescription\\n\\nThese are the first errors you will make and the easiest\\nto fix.  A syntax error means that you have violated the grammar rules of Python.\\nPython does its best to point right at the line and character where \\nit noticed it was confused.  The only tricky bit of syntax errors is that sometimes\\nthe mistake that needs fixing is actually earlier in the program than where Python\\nnoticed it was confused.  So the line and character that Python indicates in \\na syntax error may just be a starting point for your investigation.\\n\\nA logic error is when your program has good syntax but there is a mistake \\nin the order of the statements or perhaps a mistake in how the statements relate to one another.\\nA good example of a logic error might be, take a drink from your water bottle, put it \\nin your backpack, walk to the library, and then put the top back on the bottle.\\n\\nA semantic error is when your description of the steps to take \\nis syntactically perfect and in the right order, but there is simply a mistake in \\nthe program.  The program is perfectly correct but it does not do what\\nyou intended for it to do. A simple example would\\nbe if you were giving a person directions to a restaurant and said, ...when you reach\\nthe intersection with the gas station, turn left and go one mile and the restaurant\\nis a red building on your left.  Your friend is very late and calls you to tell you that\\nthey are on a farm and walking around behind a barn, with no sign of a restaurant.  \\nThen you say did you turn left or right at the gas station? and \\nthey say, I followed your directions perfectly, I have \\nthem written down, it says turn left and go one mile at the gas station.  Then you say,\\nI am very sorry, because while my instructions were syntactically correct, they \\nsadly contained a small but undetected semantic error.. \\n\\ndescription\\n\\nAgain in all three types of errors, Python is merely trying its hardest to \\ndo exactly what you have asked.\\n\\nThe learning journey\\n\\nAs you progress through the rest of the book, don't be afraid if the concepts \\ndon't seem to fit together well the first time.  When you were learning to speak, \\nit was not a problem  for your first few years that you just made cute gurgling noises.\\nAnd it was OK if it took six months for you to move from simple vocabulary to \\nsimple sentences and took five or six more years to move from sentences to paragraphs, and a\\nfew more years to be able to write an interesting complete short story on your own.\\n\\nWe want you to learn Python much more rapidly, so we teach it all at the same time\\nover the next few chapters.  \\nBut it is like learning a new language that takes time to absorb and understand\\nbefore it feels natural.\\nThat leads to some confusion as we visit and revisit\\ntopics to try to get you to see the big picture while we are defining the tiny\\nfragments that make up that big picture.  While the book is written linearly, and\\nif you are taking a course it will progress in a linear fashion, don't hesitate\\nto be very nonlinear in how you approach the material.  Look forwards and backwards\\nand read with a light touch.  By skimming more advanced material without \\nfully understanding the details, you can get a better understanding of the why? \\nof programming.  By reviewing previous material and even redoing earlier \\nexercises, you will realize that you actually learned a lot of material even \\nif the material you are currently staring at seems a bit impenetrable.\\n\\nUsually when you are learning your first programming language, there are a few\\nwonderful Ah Hah! moments where you can look up from pounding away at some rock\\nwith a hammer and chisel and step away and see that you are indeed building \\na beautiful sculpture.\\n\\nIf something seems particularly hard, there is usually no value in staying up all \\nnight and staring at it.   Take a break, take a nap, have a snack, explain what you \\nare having a problem with to someone (or perhaps your dog), and then come back to it with\\nfresh eyes.  I assure you that once you learn the programming concepts in the book\\nyou will look back and see that it was all really easy and elegant and it simply \\ntook you a bit of time to absorb it.\\n42\\nThe end\\n\""
      ]
     },
     "execution_count": 65,
     "metadata": {},
     "output_type": "execute_result"
    }
   ],
   "source": [
    "hand = open('regex_sum_42.txt')\n",
    "#print(hand.read())\n",
    "hand.read()"
   ]
  },
  {
   "cell_type": "code",
   "execution_count": 83,
   "metadata": {},
   "outputs": [
    {
     "name": "stdout",
     "output_type": "stream",
     "text": [
      "4158.0\n"
     ]
    }
   ],
   "source": [
    "print( sum( [ float(i) for x in re.findall('[0-9]+', open('regex_sum_284644.txt').read()) ] ) )"
   ]
  },
  {
   "cell_type": "code",
   "execution_count": null,
   "metadata": {},
   "outputs": [],
   "source": []
  }
 ],
 "metadata": {
  "kernelspec": {
   "display_name": "Python 3",
   "language": "python",
   "name": "python3"
  },
  "language_info": {
   "codemirror_mode": {
    "name": "ipython",
    "version": 3
   },
   "file_extension": ".py",
   "mimetype": "text/x-python",
   "name": "python",
   "nbconvert_exporter": "python",
   "pygments_lexer": "ipython3",
   "version": "3.7.3"
  }
 },
 "nbformat": 4,
 "nbformat_minor": 4
}
