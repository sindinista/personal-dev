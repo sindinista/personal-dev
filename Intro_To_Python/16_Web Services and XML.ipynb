{
 "cells": [
  {
   "cell_type": "markdown",
   "metadata": {},
   "source": [
    "Sending data across the net\n",
    "Example:\n",
    "Python dictionary (data structure) > internet > Java HashMap\n",
    "\n",
    "Need an agreed method to send bits across the net with a \"wire format.\"\n",
    "    Send data one bit at a time (serialize)\n",
    "    Receive (deserialize)"
   ]
  },
  {
   "cell_type": "markdown",
   "metadata": {},
   "source": [
    "Extensible Markup Language XML\n",
    "\n",
    "<people>\n",
    "    <person>\n",
    "        <name>Rob</name>\n",
    "        <last>Pemby</last>\n",
    "        <ssn hide=\"yes\" />\n",
    "    </person>\n",
    "</people>\n",
    "\n",
    "Start tag\n",
    "End Tag \n",
    "Self Closing tag\n",
    "Text Context Pemby \n",
    "Attribute hide=\"yes\" Keyword/value pairs in the opening tag \n",
    "\n",
    "        \n",
    "Always has one big outter tag with everything\n",
    "White space only matter within text context, other elements are discarded\n",
    "Always use double quotes\n",
    "\n",
    "Think of XML as a Tree or Node or Path\n",
    "people/person/name Rob\n",
    "people/person/last Pemby"
   ]
  },
  {
   "cell_type": "markdown",
   "metadata": {},
   "source": [
    "XML Schema (XSD document type)\n",
    "XML validation is act of agreeing upon contract for data sent/received\n",
    "<?xml version=\"1.0\" encoding=\"utf-8\">\n",
    "<xs:complexType name=\"person\">\n",
    "    <xs:sequence>\n",
    "        <xs:element name=\"name\" type=\"xs:string\" minOccurs=\"1\" maxOccurs=\"1\"/>\n",
    "        <xs:element name=\"last\" type=\"xs:string\" use=\"required\"/>\n",
    "        <xs:element name=\"taxid\" type=\"xs:string\" minOccurs=\"0\" maxOccurs=\"99\"/>\n",
    "        <xs:element name=\"age\" type=\"xs:integer\"/>\n",
    "        <xs:element name=\"hieght\" type=\"xs:decimal\"/>\n",
    "        <xs:element name=\"dob\" type=\"xs:dateTime\"/> \"1988-05-21T06:00:10Z\" Z is UTC timezone\n",
    "        <xs:element name=\"country\" type=\"xs:string\">\n",
    "            <xs:simpleType>\n",
    "                <xs:restriction base=\"xs:string\">\n",
    "                    <xs:emuneration value=\"US\" />\n",
    "                    <xs:emuneration value=\"CA\" />\n",
    "                    <xs:emuneration value=\"MX\" />\n",
    "    </xs:sequence>\n",
    "</xs:complexType>\n",
    "\n",
    "\n",
    "Schema that won: World Wide Web Consortium W3C\n",
    "\n",
    "Add constraints\n",
    "    Number of occurences\n",
    "    \n",
    "Dates are sorted for a computer to understand\n",
    "\n",
    "    "
   ]
  },
  {
   "cell_type": "code",
   "execution_count": 16,
   "metadata": {},
   "outputs": [
    {
     "name": "stdout",
     "output_type": "stream",
     "text": [
      "<Element 'person' at 0x0000000005A6A598>\n",
      "Text of Name: Rob\n",
      "SSN Attr: yes\n"
     ]
    }
   ],
   "source": [
    "# parsing XML\n",
    "\n",
    "# triple quoted string is a multiline string\n",
    "import xml.etree.ElementTree as ET\n",
    "data = '''\n",
    "    <person>\n",
    "        <name>Rob</name>\n",
    "        <last>Pemby</last>\n",
    "        <ssn hide=\"yes\" />\n",
    "        <age>31</age>\n",
    "    </person>'''\n",
    "\n",
    "tree = ET.fromstring(data)\n",
    "print(tree)\n",
    "print('Text of Name:',tree.find('name').text)\n",
    "print('SSN Attr:',tree.find('ssn').get('hide'))"
   ]
  },
  {
   "cell_type": "code",
   "execution_count": 42,
   "metadata": {},
   "outputs": [
    {
     "name": "stdout",
     "output_type": "stream",
     "text": [
      "<Element 'people' at 0x00000000062D8EA8>\n",
      "[<Element 'user' at 0x00000000062D81D8>, <Element 'user' at 0x0000000005A539F8>]\n",
      "Count 2\n",
      "Name Rob\n",
      "Last Pemby\n",
      "Attr 1\n",
      "Element Attr yes None\n",
      "Name Erin\n",
      "Last Pemberton\n",
      "Attr 2\n",
      "Element Attr no 514-32-2299\n"
     ]
    }
   ],
   "source": [
    "#\n",
    "import xml.etree.ElementTree as ET\n",
    "xml = '''<people>\n",
    "    <person>\n",
    "        <user x=\"1\">\n",
    "            <name>Rob</name>\n",
    "            <last>Pemby</last>\n",
    "            <ssn hide=\"yes\" />\n",
    "            <age>31</age>\n",
    "        </user>    \n",
    "        <user x=\"2\">\n",
    "            <name>Erin</name>\n",
    "            <last>Pemberton</last>\n",
    "            <ssn hide=\"no\">514-32-2299</ssn>\n",
    "            <age>30</age>\n",
    "         </user>    \n",
    "    </person>\n",
    "</people>'''\n",
    "\n",
    "\n",
    "names = nametree.findall('person/user')\n",
    "print(nametree)\n",
    "print(names)\n",
    "print('Count',len(names))\n",
    "for user in names :\n",
    "    print('Name', user.find('name').text)\n",
    "    print('Last', user.find('last').text)\n",
    "    print('Attr', user.get('x'))\n",
    "    print('Element Attr', user.find('ssn').get('hide'), user.find('ssn').text)"
   ]
  },
  {
   "cell_type": "code",
   "execution_count": null,
   "metadata": {},
   "outputs": [],
   "source": [
    "for i in names :\n",
    "    print('Text of Name:',nametree.find('name').text)\n",
    "    print('SSN Attr:',tree.find('ssn').get('hide'))"
   ]
  },
  {
   "cell_type": "markdown",
   "metadata": {},
   "source": []
  },
  {
   "cell_type": "code",
   "execution_count": 55,
   "metadata": {},
   "outputs": [
    {
     "name": "stdout",
     "output_type": "stream",
     "text": [
      "2257\n"
     ]
    }
   ],
   "source": [
    "import urllib.request, urllib.parse, urllib.error\n",
    "from bs4 import BeautifulSoup\n",
    "import ssl\n",
    "import xml.etree.ElementTree as ET\n",
    "\n",
    "ctx = ssl.create_default_context()\n",
    "ctx.check_hostname = False\n",
    "ctx.vierfy_mode = ssl.CERT_NONE\n",
    "\n",
    "sample = 'http://py4e-data.dr-chuck.net/comments_42.xml'\n",
    "actual = 'http://py4e-data.dr-chuck.net/comments_284648.xml'\n",
    "url = actual\n",
    "xml = urllib.request.urlopen(url, context=ctx).read()\n",
    "\n",
    "xmltree = ET.fromstring(xml)\n",
    "counts = list()\n",
    "comment = xmltree.findall('comments/comment')\n",
    "for i in comment :\n",
    "    text = i.find('count').text\n",
    "    num = int(text)\n",
    "    counts.append(num)\n",
    "print(sum(counts))"
   ]
  }
 ],
 "metadata": {
  "kernelspec": {
   "display_name": "Python 3",
   "language": "python",
   "name": "python3"
  },
  "language_info": {
   "codemirror_mode": {
    "name": "ipython",
    "version": 3
   },
   "file_extension": ".py",
   "mimetype": "text/x-python",
   "name": "python",
   "nbconvert_exporter": "python",
   "pygments_lexer": "ipython3",
   "version": "3.7.3"
  }
 },
 "nbformat": 4,
 "nbformat_minor": 4
}
