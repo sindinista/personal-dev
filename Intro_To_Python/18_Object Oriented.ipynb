{
 "cells": [
  {
   "cell_type": "markdown",
   "metadata": {},
   "source": [
    "Definitions and Terminology\n",
    "\n",
    "Object Oriented\n",
    "\n",
    "\n",
    "Object.method()\n",
    "\n",
    "Inside and Outisde of a program\n",
    "    Abstraction to hide what goes on inside\n",
    "    \n",
    "_Program_ A containers of awesomeness\n",
    "    Orchestrating objects, cooperating\n",
    "    Self-contained Code and Data\n",
    "    Break problems into understandable pieces\n",
    "    Boundaries to ignore unneeded detail\n",
    "    \n",
    "Definitions\n",
    "Class - a template object\n",
    "    What fields it has, behaviors \"Type of dog\"\n",
    "Method or Message - A defined capability of a class \"the dog can .sit()\"\n",
    "    Verbs\n",
    "Field or attribute - A bit of data in the class \"dog's name\"\n",
    "Object or Instance - A particular instance of a class \"actual dog\""
   ]
  },
  {
   "cell_type": "code",
   "execution_count": 3,
   "metadata": {},
   "outputs": [
    {
     "name": "stdout",
     "output_type": "stream",
     "text": [
      "x is <class 'int'>\n",
      "y is <class 'list'>\n",
      "z is <class 'dict'>\n",
      "x can ['__abs__', '__add__', '__and__', '__bool__', '__ceil__', '__class__', '__delattr__', '__dir__', '__divmod__', '__doc__', '__eq__', '__float__', '__floor__', '__floordiv__', '__format__', '__ge__', '__getattribute__', '__getnewargs__', '__gt__', '__hash__', '__index__', '__init__', '__init_subclass__', '__int__', '__invert__', '__le__', '__lshift__', '__lt__', '__mod__', '__mul__', '__ne__', '__neg__', '__new__', '__or__', '__pos__', '__pow__', '__radd__', '__rand__', '__rdivmod__', '__reduce__', '__reduce_ex__', '__repr__', '__rfloordiv__', '__rlshift__', '__rmod__', '__rmul__', '__ror__', '__round__', '__rpow__', '__rrshift__', '__rshift__', '__rsub__', '__rtruediv__', '__rxor__', '__setattr__', '__sizeof__', '__str__', '__sub__', '__subclasshook__', '__truediv__', '__trunc__', '__xor__', 'bit_length', 'conjugate', 'denominator', 'from_bytes', 'imag', 'numerator', 'real', 'to_bytes']\n",
      "y can ['__add__', '__class__', '__contains__', '__delattr__', '__delitem__', '__dir__', '__doc__', '__eq__', '__format__', '__ge__', '__getattribute__', '__getitem__', '__gt__', '__hash__', '__iadd__', '__imul__', '__init__', '__init_subclass__', '__iter__', '__le__', '__len__', '__lt__', '__mul__', '__ne__', '__new__', '__reduce__', '__reduce_ex__', '__repr__', '__reversed__', '__rmul__', '__setattr__', '__setitem__', '__sizeof__', '__str__', '__subclasshook__', 'append', 'clear', 'copy', 'count', 'extend', 'index', 'insert', 'pop', 'remove', 'reverse', 'sort']\n",
      "z can ['__class__', '__contains__', '__delattr__', '__delitem__', '__dir__', '__doc__', '__eq__', '__format__', '__ge__', '__getattribute__', '__getitem__', '__gt__', '__hash__', '__init__', '__init_subclass__', '__iter__', '__le__', '__len__', '__lt__', '__ne__', '__new__', '__reduce__', '__reduce_ex__', '__repr__', '__setattr__', '__setitem__', '__sizeof__', '__str__', '__subclasshook__', 'clear', 'copy', 'fromkeys', 'get', 'items', 'keys', 'pop', 'popitem', 'setdefault', 'update', 'values']\n"
     ]
    }
   ],
   "source": [
    "x = 5\n",
    "y = []\n",
    "z = {}\n",
    "# show class\n",
    "print('x is',type(x))\n",
    "print('y is',type(y))\n",
    "print('z is',type(z))\n",
    "# show methods\n",
    "print('x can', dir(x)) \n",
    "print('y can', dir(y)) \n",
    "print('z can', dir(z)) "
   ]
  },
  {
   "cell_type": "code",
   "execution_count": 11,
   "metadata": {},
   "outputs": [
    {
     "name": "stdout",
     "output_type": "stream",
     "text": [
      "So far 1\n",
      "So far 2\n",
      "So far 3\n",
      "<class '__main__.PartyAnimal'>\n",
      "['__class__', '__delattr__', '__dict__', '__dir__', '__doc__', '__eq__', '__format__', '__ge__', '__getattribute__', '__gt__', '__hash__', '__init__', '__init_subclass__', '__le__', '__lt__', '__module__', '__ne__', '__new__', '__reduce__', '__reduce_ex__', '__repr__', '__setattr__', '__sizeof__', '__str__', '__subclasshook__', '__weakref__', 'party', 'x']\n"
     ]
    }
   ],
   "source": [
    "# first class and object\n",
    "# build a class using python\n",
    "\n",
    "class PartyAnimal : \n",
    "    x = 0    \n",
    "    def party(self) :\n",
    "        self.x = self.x + 1\n",
    "        print('So far', self.x)\n",
    "        \n",
    "# moment of construction        \n",
    "an = PartyAnimal()\n",
    "\n",
    "# invoke methods from the object/class\n",
    "an.party()\n",
    "an.party()\n",
    "an.party()\n",
    "print(type(an))\n",
    "print(dir(an))"
   ]
  },
  {
   "cell_type": "code",
   "execution_count": 14,
   "metadata": {},
   "outputs": [
    {
     "name": "stdout",
     "output_type": "stream",
     "text": [
      "Constructed\n",
      "So far 1\n",
      "So far 2\n",
      "Destructed 2\n",
      "an conatins 42\n"
     ]
    }
   ],
   "source": [
    "# object lifecycle\n",
    "# create, use, discard objects\n",
    "# destructor and constructor\n",
    "class PartyAnimal : \n",
    "    x = 0    \n",
    "    \n",
    "    def __init__(self) :\n",
    "        print('Constructed')\n",
    "        \n",
    "    def party(self) :\n",
    "        self.x = self.x + 1\n",
    "        print('So far', self.x)\n",
    "        \n",
    "    def __del__(self) :\n",
    "        print('Destructed', self.x)\n",
    "        \n",
    "an = PartyAnimal()\n",
    "an.party()\n",
    "an.party()\n",
    "an = 42\n",
    "print('an conatins', an)"
   ]
  },
  {
   "cell_type": "code",
   "execution_count": 22,
   "metadata": {},
   "outputs": [
    {
     "name": "stdout",
     "output_type": "stream",
     "text": [
      "Robbie Constructed 0\n",
      "Robbie So far 1\n",
      "Erin Constructed 0\n",
      "Erin So far 1\n",
      "Robbie So far 2\n"
     ]
    }
   ],
   "source": [
    "# many instances\n",
    "# each instance has their own set of variables\n",
    "class PartyAnimal : \n",
    "    x = 0    \n",
    "    name = ''\n",
    "    \n",
    "    def __init__(self, z) :\n",
    "        self.name = z\n",
    "        print(self.name, 'Constructed', self.x)\n",
    "        \n",
    "    def party(self) :\n",
    "        self.x = self.x + 1\n",
    "        print(self.name, 'So far', self.x)\n",
    "        \n",
    "r = PartyAnimal('Robbie')\n",
    "r.party()\n",
    "e = PartyAnimal('Erin') \n",
    "e.party()\n",
    "r.party()\n",
    "\n",
    "r = 0\n",
    "e = 0"
   ]
  },
  {
   "cell_type": "code",
   "execution_count": 25,
   "metadata": {},
   "outputs": [
    {
     "name": "stdout",
     "output_type": "stream",
     "text": [
      "Jim Constructed 0\n",
      "Jim So far 1\n",
      "Jim So far 2\n",
      "Jim points 6\n"
     ]
    }
   ],
   "source": [
    "# instance inheritance\n",
    "# make parent and child templates that are related\n",
    "# can add capabilities or expand methods from the parent class template\n",
    "\n",
    "class PartyAnimal : \n",
    "    x = 0    \n",
    "    name = ''\n",
    "    \n",
    "    def __init__(self, z) :\n",
    "        self.name = z\n",
    "        print(self.name, 'Constructed', self.x)\n",
    "        \n",
    "    def party(self) :\n",
    "        self.x = self.x + 1\n",
    "        print(self.name, 'So far', self.x)\n",
    "\n",
    "# create extension of the template class        \n",
    "class FootballFan(PartyAnimal) : \n",
    "    points = 0\n",
    "    def touchdown(self) : \n",
    "        self.points = self.points + 6\n",
    "        self.party()\n",
    "        print(self.name, 'points', self.points)\n",
    "        \n",
    "j = FootballFan('Jim')\n",
    "j.party()\n",
    "j.touchdown()"
   ]
  }
 ],
 "metadata": {
  "kernelspec": {
   "display_name": "Python 3",
   "language": "python",
   "name": "python3"
  },
  "language_info": {
   "codemirror_mode": {
    "name": "ipython",
    "version": 3
   },
   "file_extension": ".py",
   "mimetype": "text/x-python",
   "name": "python",
   "nbconvert_exporter": "python",
   "pygments_lexer": "ipython3",
   "version": "3.7.3"
  }
 },
 "nbformat": 4,
 "nbformat_minor": 4
}
