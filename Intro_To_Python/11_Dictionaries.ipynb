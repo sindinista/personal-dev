{
 "cells": [
  {
   "cell_type": "code",
   "execution_count": 1,
   "metadata": {},
   "outputs": [
    {
     "name": "stdout",
     "output_type": "stream",
     "text": [
      "{'guns': 3, 'monkeys': 12, 'name': 'Big Old'}\n",
      "12\n",
      "{'guns': 3, 'monkeys': 17, 'name': 'Big Old'}\n",
      "{'guns': 3, 'monkeys': 17, 'name': \"Robbie's\"}\n"
     ]
    }
   ],
   "source": [
    "# dictionaries are collections\n",
    "# list are collections of values that stay in order\n",
    "# dictionaries are a bag of values, each with own label or key\n",
    "# associative arrays\n",
    "bag = dict()\n",
    "bag['guns'] = 3\n",
    "bag['monkeys'] = 12\n",
    "bag['name'] = 'Big Old'\n",
    "print(bag)\n",
    "print((bag['monkeys']))\n",
    "#add monkeys\n",
    "bag['monkeys'] = bag['monkeys'] + 5\n",
    "print(bag)\n",
    "#change name\n",
    "bag['name'] = \"Robbie's\" \n",
    "print(bag)"
   ]
  },
  {
   "cell_type": "code",
   "execution_count": 2,
   "metadata": {},
   "outputs": [
    {
     "name": "stdout",
     "output_type": "stream",
     "text": [
      "{'Erin': 1, 'Robbie': 1, 'Woody': 1, 'Mitten': 2}\n"
     ]
    }
   ],
   "source": [
    "#bag of names, making a histogram\n",
    "bon = {}\n",
    "bon['Erin'] = 1\n",
    "bon['Robbie'] = 1\n",
    "bon['Woody'] = 1\n",
    "bon['Mitten'] = 1\n",
    "#add a mitten\n",
    "bon['Mitten'] = bon['Mitten'] + 1\n",
    "print(bon)"
   ]
  },
  {
   "cell_type": "code",
   "execution_count": 3,
   "metadata": {},
   "outputs": [
    {
     "name": "stdout",
     "output_type": "stream",
     "text": [
      "i is False\n",
      "{'Erin': 1, 'Robbie': 1, 'Woody': 1, 'Mitten': 2, 'Ronald': 1, 'Eileen': 1, 'Yoko': 1, 'Twyla': 1, 'Graig': 1, 'Linnie': 1, 'Isaiah': 1}\n"
     ]
    }
   ],
   "source": [
    "# dict tracebacks when the key is not in dictionary\n",
    "try:\n",
    "    a = dict()\n",
    "    print(a['i'])\n",
    "except:\n",
    "    print('i is False')\n",
    "    \n",
    "# new name added!\n",
    "names = ['Ronald','Eileen','Yoko','Twyla','Graig','Linnie','Isaiah']\n",
    "for name in names :\n",
    "    if name not in bon :\n",
    "        bon[name] = 1\n",
    "    else :\n",
    "        bon[name] = bon[name] + 1\n",
    "print(bon)"
   ]
  },
  {
   "cell_type": "code",
   "execution_count": 4,
   "metadata": {},
   "outputs": [
    {
     "name": "stdout",
     "output_type": "stream",
     "text": [
      "1\n",
      "{'Erin': 1, 'Robbie': 1, 'Woody': 1, 'Mitten': 2, 'Ronald': 1, 'Eileen': 1, 'Yoko': 1, 'Twyla': 1, 'Graig': 1, 'Linnie': 1, 'Isaiah': 1}\n",
      "1\n",
      "{'Erin': 1, 'Robbie': 1, 'Woody': 1, 'Mitten': 2, 'Ronald': 2, 'Eileen': 2, 'Yoko': 2, 'Twyla': 2, 'Graig': 2, 'Linnie': 2, 'Isaiah': 2}\n",
      "{'Erin': 1, 'Robbie': 1, 'Woody': 1, 'Mitten': 2, 'Ronald': 2, 'Eileen': 2, 'Yoko': 2, 'Twyla': 2, 'Graig': 2, 'Linnie': 2, 'Isaiah': 2, 0: 'thing'}\n"
     ]
    }
   ],
   "source": [
    "# prev example is so common, there is a function for it\n",
    "x = 0\n",
    "if name in bon :\n",
    "    x = bon[name]\n",
    "else :\n",
    "    x = 0\n",
    "print(x)    \n",
    "# no tracebacks from either but will add the key as empty\n",
    "x = bon.get(name, 0)\n",
    "print(bon)\n",
    "print(x)\n",
    "# adding names with get\n",
    "for name in names :\n",
    "    bon[name] = bon.get(name, 0) + 1\n",
    "print(bon)\n",
    "bon[0] = 'thing'\n",
    "print(bon)"
   ]
  },
  {
   "cell_type": "code",
   "execution_count": 6,
   "metadata": {},
   "outputs": [
    {
     "name": "stdin",
     "output_type": "stream",
     "text": [
      "Line of text: go to the moon to make the cake walk to rest the cat\n"
     ]
    },
    {
     "name": "stdout",
     "output_type": "stream",
     "text": [
      "Counts {'go': 1, 'to': 3, 'the': 3, 'moon': 1, 'make': 1, 'cake': 1, 'walk': 1, 'rest': 1, 'cat': 1}\n"
     ]
    }
   ],
   "source": [
    "# combine it all together to\n",
    "hist = dict()\n",
    "line = input('Line of text:')\n",
    "\n",
    "words = line.split()\n",
    "for word in words :\n",
    "    hist[word] = hist.get(word, 0) + 1\n",
    "print('Counts', hist)\n"
   ]
  },
  {
   "cell_type": "code",
   "execution_count": 8,
   "metadata": {},
   "outputs": [
    {
     "name": "stdout",
     "output_type": "stream",
     "text": [
      "go 1\n",
      "to 3\n",
      "the 3\n",
      "moon 1\n",
      "make 1\n",
      "cake 1\n",
      "walk 1\n",
      "rest 1\n",
      "cat 1\n",
      "['Erin', 'Robbie', 'Woody', 'Mitten', 'Ronald', 'Eileen', 'Yoko', 'Twyla', 'Graig', 'Linnie', 'Isaiah', 0]\n",
      "dict_keys(['Erin', 'Robbie', 'Woody', 'Mitten', 'Ronald', 'Eileen', 'Yoko', 'Twyla', 'Graig', 'Linnie', 'Isaiah', 0])\n",
      "dict_values([1, 1, 1, 2, 2, 2, 2, 2, 2, 2, 2, 'thing'])\n",
      "dict_items([('Erin', 1), ('Robbie', 1), ('Woody', 1), ('Mitten', 2), ('Ronald', 2), ('Eileen', 2), ('Yoko', 2), ('Twyla', 2), ('Graig', 2), ('Linnie', 2), ('Isaiah', 2), (0, 'thing')])\n",
      "Erin 1\n",
      "Robbie 1\n",
      "Woody 1\n",
      "Mitten 2\n",
      "Ronald 2\n",
      "Eileen 2\n",
      "Yoko 2\n",
      "Twyla 2\n",
      "Graig 2\n",
      "Linnie 2\n",
      "Isaiah 2\n",
      "0 thing\n"
     ]
    }
   ],
   "source": [
    "for key in hist :\n",
    "    print(key, hist[key])\n",
    "# print a list of the keys with methods\n",
    "print(list(bon))\n",
    "print(bon.keys())\n",
    "print(bon.values())\n",
    "# creates tuple, can loop through keys and value pairsSS\n",
    "print(bon.items())\n",
    "for k,v in bon.items() :\n",
    "    print(k, v)"
   ]
  },
  {
   "cell_type": "code",
   "execution_count": 14,
   "metadata": {},
   "outputs": [
    {
     "name": "stdin",
     "output_type": "stream",
     "text": [
      "File: mbox-short.txt\n"
     ]
    },
    {
     "name": "stdout",
     "output_type": "stream",
     "text": [
      "Jan 352\n"
     ]
    }
   ],
   "source": [
    "name = input('File:')\n",
    "handle = open(name)\n",
    "\n",
    "# make histogram\n",
    "counts = dict()\n",
    "for line in handle :\n",
    "    words = line.split()\n",
    "    for word in words :\n",
    "        counts[word] = counts.get(word, 0) + 1\n",
    "        \n",
    "bigcount = 0 \n",
    "bigword = 0\n",
    "for word,count in counts.items() :\n",
    "    if bigcount is None or count > bigcount :\n",
    "        bigword = word\n",
    "        bigcount = count\n",
    "        \n",
    "print(bigword,bigcount)"
   ]
  },
  {
   "cell_type": "code",
   "execution_count": 15,
   "metadata": {},
   "outputs": [
    {
     "name": "stdout",
     "output_type": "stream",
     "text": [
      "-1\n"
     ]
    }
   ],
   "source": [
    "stuff = dict()\n",
    "print(stuff.get('candy',-1))"
   ]
  },
  {
   "cell_type": "markdown",
   "metadata": {},
   "source": [
    "9.4 Write a program to read through the mbox-short.txt\n",
    "and figure out who has sent the greatest number of mail messages. \n",
    "The program looks for 'From ' lines and takes the second word of those lines as the person who sent the mail. \n",
    "The program creates a Python dictionary that maps the sender's mail address to a count of the number of times they appear in the file. \n",
    "After the dictionary is produced, the program reads through the dictionary using a maximum loop to find the most prolific committer.\n",
    "\n"
   ]
  },
  {
   "cell_type": "code",
   "execution_count": 28,
   "metadata": {},
   "outputs": [
    {
     "name": "stdout",
     "output_type": "stream",
     "text": [
      "cwen@iupui.edu 5\n"
     ]
    }
   ],
   "source": [
    "name = 'mbox-short.txt'\n",
    "handle = open(name)\n",
    "names = list()\n",
    "counts = dict()\n",
    "\n",
    "for line in handle :\n",
    "        if not line.startswith('From ') :\n",
    "            continue\n",
    "        w = line.split()\n",
    "        names.append(w[1])\n",
    "        \n",
    "# print(names)\n",
    "\n",
    "# make histogram\n",
    "for name in names :\n",
    "    counts[name] = counts.get(name, 0) + 1\n",
    "\n",
    "bigcount = 0 \n",
    "bigword = 0\n",
    "for word,count in counts.items() :\n",
    "    if bigcount is None or count > bigcount :\n",
    "        bigword = word\n",
    "        bigcount = count\n",
    "\n",
    "print(bigword,bigcount)"
   ]
  }
 ],
 "metadata": {
  "kernelspec": {
   "display_name": "Python 3",
   "language": "python",
   "name": "python3"
  },
  "language_info": {
   "codemirror_mode": {
    "name": "ipython",
    "version": 3
   },
   "file_extension": ".py",
   "mimetype": "text/x-python",
   "name": "python",
   "nbconvert_exporter": "python",
   "pygments_lexer": "ipython3",
   "version": "3.7.3"
  }
 },
 "nbformat": 4,
 "nbformat_minor": 4
}
