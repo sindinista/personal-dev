{
 "cells": [
  {
   "cell_type": "code",
   "execution_count": 1,
   "metadata": {},
   "outputs": [
    {
     "name": "stdout",
     "output_type": "stream",
     "text": [
      "5\n",
      "4\n",
      "3\n",
      "2\n",
      "1\n",
      "Blastoff!\n",
      "0\n"
     ]
    }
   ],
   "source": [
    "#while and if act similar, but while repeats steps\n",
    "n = 5\n",
    "while n > 0 :\n",
    "    print(n)\n",
    "    n = n - 1\n",
    "print('Blastoff!')\n",
    "print(n)"
   ]
  },
  {
   "cell_type": "code",
   "execution_count": null,
   "metadata": {},
   "outputs": [],
   "source": [
    "#iteration variable to avoid infinite loop or 0 trip loop\n",
    "#while n < 0 or while n = 4\n",
    "\n"
   ]
  },
  {
   "cell_type": "code",
   "execution_count": 5,
   "metadata": {},
   "outputs": [
    {
     "name": "stdin",
     "output_type": "stream",
     "text": [
      "> \n"
     ]
    },
    {
     "name": "stdout",
     "output_type": "stream",
     "text": [
      "\n"
     ]
    },
    {
     "name": "stdin",
     "output_type": "stream",
     "text": [
      "> \n"
     ]
    },
    {
     "name": "stdout",
     "output_type": "stream",
     "text": [
      "\n"
     ]
    },
    {
     "name": "stdin",
     "output_type": "stream",
     "text": [
      "> done\n"
     ]
    },
    {
     "name": "stdout",
     "output_type": "stream",
     "text": [
      "fin\n"
     ]
    }
   ],
   "source": [
    "#breaking out of a loop\n",
    "while True :\n",
    "    line = input('>')\n",
    "    if line == 'done' :\n",
    "        break\n",
    "    print(line)\n",
    "print('fin')    "
   ]
  },
  {
   "cell_type": "code",
   "execution_count": 8,
   "metadata": {},
   "outputs": [
    {
     "name": "stdin",
     "output_type": "stream",
     "text": [
      "> #\n",
      "> done\n"
     ]
    },
    {
     "name": "stdout",
     "output_type": "stream",
     "text": [
      "fin\n"
     ]
    }
   ],
   "source": [
    "#continue quits the current iteration, but not the loop\n",
    "while True :\n",
    "    line = input('>')\n",
    "    if line[0] == '#' :\n",
    "        continue\n",
    "    if line == 'done' :\n",
    "        break\n",
    "    print(line)\n",
    "print('fin')\n"
   ]
  },
  {
   "cell_type": "code",
   "execution_count": 11,
   "metadata": {},
   "outputs": [
    {
     "name": "stdout",
     "output_type": "stream",
     "text": [
      "5\n",
      "4\n",
      "3\n",
      "2\n",
      "1\n",
      "Blastoff\n"
     ]
    }
   ],
   "source": [
    "#definite loop\n",
    "#i for iterable variable that runs through a set per iterable\n",
    "for i in [5, 4, 3, 2, 1] :\n",
    "    print(i)\n",
    "print('Blastoff')"
   ]
  },
  {
   "cell_type": "code",
   "execution_count": 13,
   "metadata": {},
   "outputs": [
    {
     "name": "stdout",
     "output_type": "stream",
     "text": [
      "fuck the Huskies\n",
      "fuck the Dawgs\n",
      "fuck em all\n"
     ]
    }
   ],
   "source": [
    "#member of is how in works\n",
    "friends = ['Huskies','Dawgs']\n",
    "for friend in friends :\n",
    "    print('fuck the',friend)\n",
    "print('fuck em all')\n"
   ]
  },
  {
   "cell_type": "code",
   "execution_count": 15,
   "metadata": {},
   "outputs": [
    {
     "name": "stdout",
     "output_type": "stream",
     "text": [
      "Before loop\n",
      "1 1\n",
      "7 7\n",
      "7 2\n",
      "7 4\n",
      "7 6\n",
      "After loop 7\n"
     ]
    }
   ],
   "source": [
    "#making smart loops\n",
    "\n",
    "#set some vriables to initial values\n",
    "largest_so_far = -1\n",
    "print('Before loop')\n",
    "\n",
    "#for thing in the data, look for something or do something to each \n",
    "#entry separatly, updating a variable\n",
    "for num in [1, 7, 2, 4, 6] :\n",
    "    if num > largest_so_far :\n",
    "        largest_so_far = num\n",
    "    print(largest_so_far, num)\n",
    "    \n",
    "#look at the variables\n",
    "print('After loop', largest_so_far)"
   ]
  },
  {
   "cell_type": "code",
   "execution_count": 16,
   "metadata": {},
   "outputs": [
    {
     "name": "stdout",
     "output_type": "stream",
     "text": [
      "Before 0\n",
      "1 8\n",
      "2 2\n",
      "3 1\n",
      "4 6\n",
      "5 5\n",
      "After 5\n"
     ]
    }
   ],
   "source": [
    "#counting in a loop\n",
    "zork = 0\n",
    "print('Before', zork)\n",
    "for thing in [8, 2, 1, 6, 5] :\n",
    "    zork = zork + 1\n",
    "    print(zork, thing)\n",
    "print('After', zork)    "
   ]
  },
  {
   "cell_type": "code",
   "execution_count": 17,
   "metadata": {},
   "outputs": [
    {
     "name": "stdout",
     "output_type": "stream",
     "text": [
      "Before 0\n",
      "8 8\n",
      "10 2\n",
      "11 1\n",
      "17 6\n",
      "22 5\n",
      "After 22\n"
     ]
    }
   ],
   "source": [
    "#summing in a loop\n",
    "zork = 0\n",
    "print('Before', zork)\n",
    "for thing in [8, 2, 1, 6, 5] :\n",
    "    zork = zork + thing\n",
    "    print(zork, thing)\n",
    "print('After', zork)  "
   ]
  },
  {
   "cell_type": "code",
   "execution_count": 20,
   "metadata": {},
   "outputs": [
    {
     "name": "stdout",
     "output_type": "stream",
     "text": [
      "Before 0 0\n",
      "1 8 8\n",
      "2 2 10\n",
      "3 1 11\n",
      "4 6 17\n",
      "5 5 22\n",
      "After 5 22 4.4\n"
     ]
    }
   ],
   "source": [
    "#using count and sum to get average\n",
    "count = 0\n",
    "sum = 0\n",
    "print('Before', count, sum)\n",
    "for thing in [8, 2, 1, 6, 5] :\n",
    "    count = count + 1\n",
    "    sum = sum + thing\n",
    "    print(count, thing, sum)\n",
    "print('After', count, sum, sum / count) "
   ]
  },
  {
   "cell_type": "code",
   "execution_count": 22,
   "metadata": {},
   "outputs": [
    {
     "name": "stdout",
     "output_type": "stream",
     "text": [
      "Before\n",
      "Small number 1\n",
      "After\n"
     ]
    }
   ],
   "source": [
    "#filtering pattern\n",
    "print('Before')\n",
    "for value in [8, 2, 1, 6, 5] :\n",
    "        if value < 2 :\n",
    "            print('Small number', value)\n",
    "print('After')\n",
    "            "
   ]
  },
  {
   "cell_type": "code",
   "execution_count": 23,
   "metadata": {},
   "outputs": [
    {
     "name": "stdout",
     "output_type": "stream",
     "text": [
      "Before False\n",
      "False 8\n",
      "False 2\n",
      "False 1\n",
      "True 6\n",
      "True 5\n",
      "After True\n"
     ]
    }
   ],
   "source": [
    "found = False\n",
    "print('Before', found)\n",
    "for value in [8, 2, 1, 6, 5] :\n",
    "    if value == 6 :\n",
    "        found = True \n",
    "    print(found, value)\n",
    "print('After', found)"
   ]
  },
  {
   "cell_type": "code",
   "execution_count": 27,
   "metadata": {},
   "outputs": [
    {
     "name": "stdout",
     "output_type": "stream",
     "text": [
      "Before loop\n",
      "1 1\n",
      "1 7\n",
      "1 2\n",
      "1 4\n",
      "1 6\n",
      "After loop 1\n"
     ]
    }
   ],
   "source": [
    "#set some vriables to initial values\n",
    "smallest_so_far = None\n",
    "print('Before loop')\n",
    "\n",
    "#for thing in the data, look for something or do something to each \n",
    "#entry separatly, updating a variable\n",
    "for num in [1, 7, 2, 4, 6] :\n",
    "    #is returns boolean variable\n",
    "    if smallest_so_far is None :\n",
    "        smallest_so_far = num\n",
    "    elif num < smallest_so_far :\n",
    "        smallest_so_far = num\n",
    "    print(smallest_so_far, num)\n",
    "    \n",
    "#look at the variables\n",
    "print('After loop', smallest_so_far)"
   ]
  },
  {
   "cell_type": "markdown",
   "metadata": {},
   "source": [
    "5.2 Write a program that repeatedly prompts a user for integer numbers\n",
    "until the user enters 'done'. \n",
    "Once 'done' is entered, print out the largest and smallest of the numbers. \n",
    "If the user enters anything other than a valid number catch it with a try/except and put out an appropriate message and ignore the number. Enter 7, 2, bob, 10, and 4 and match the output below."
   ]
  },
  {
   "cell_type": "code",
   "execution_count": 46,
   "metadata": {},
   "outputs": [
    {
     "name": "stdin",
     "output_type": "stream",
     "text": [
      "Enter a number:  7\n",
      "Enter a number:  2\n",
      "Enter a number:  bob\n"
     ]
    },
    {
     "name": "stdout",
     "output_type": "stream",
     "text": [
      "Invalid input\n"
     ]
    },
    {
     "name": "stdin",
     "output_type": "stream",
     "text": [
      "Enter a number:  10\n",
      "Enter a number:  done\n"
     ]
    },
    {
     "name": "stdout",
     "output_type": "stream",
     "text": [
      "Maximum is 10\n",
      "Minimum is 2\n"
     ]
    }
   ],
   "source": [
    "largest = None\n",
    "smallest = None\n",
    "numint = 0\n",
    "num = None\n",
    "run = True\n",
    "\n",
    "while True:\n",
    "    num = input(\"Enter a number: \")\n",
    "    if num == \"done\" : break   \n",
    "    try:\n",
    "        numint = int(num)\n",
    "    except:\n",
    "        print('Invalid input')\n",
    "    if smallest is None :\n",
    "        smallest = numint\n",
    "    elif numint < smallest :\n",
    "        smallest = numint\n",
    "    if largest is None :\n",
    "        largest = numint\n",
    "    elif numint > largest :\n",
    "        largest = numint   \n",
    "\n",
    "print(\"Maximum is\", largest)\n",
    "print(\"Minimum is\", smallest)"
   ]
  },
  {
   "cell_type": "code",
   "execution_count": null,
   "metadata": {},
   "outputs": [],
   "source": []
  }
 ],
 "metadata": {
  "kernelspec": {
   "display_name": "Python 3",
   "language": "python",
   "name": "python3"
  },
  "language_info": {
   "codemirror_mode": {
    "name": "ipython",
    "version": 3
   },
   "file_extension": ".py",
   "mimetype": "text/x-python",
   "name": "python",
   "nbconvert_exporter": "python",
   "pygments_lexer": "ipython3",
   "version": "3.7.3"
  }
 },
 "nbformat": 4,
 "nbformat_minor": 4
}
