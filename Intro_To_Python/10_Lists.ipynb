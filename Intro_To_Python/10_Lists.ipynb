{
 "cells": [
  {
   "cell_type": "markdown",
   "metadata": {},
   "source": [
    "Collection variables \n",
    "Algorithms\n",
    "    set of rules or steps to solve problem\n",
    "Data Structures\n",
    "    a particular way of organizing data in memory\n",
    "    \n",
    "Lists are constants surrounded by [] separated by \n",
    "    can be list in list [,[,],]\n",
    "    can be empty"
   ]
  },
  {
   "cell_type": "code",
   "execution_count": 5,
   "metadata": {},
   "outputs": [
    {
     "name": "stdout",
     "output_type": "stream",
     "text": [
      "doh!\n",
      "Kurt\n",
      "Tyler\n",
      "Matt\n",
      "Ryan\n"
     ]
    }
   ],
   "source": [
    "#list are constants \n",
    "#string is immutable\n",
    "Friends = ['Kurt','Tyler','Matt','Dave']\n",
    "try:\n",
    "    fruit = 'Banana'\n",
    "    fruit[0] = 'R'\n",
    "except:\n",
    "    print('doh!')\n",
    "#index operator can edit part of a list\n",
    "Friends[3] = 'Ryan'\n",
    "#definite loops are pals \n",
    "for i in Friends :\n",
    "    print(i)  \n"
   ]
  },
  {
   "cell_type": "code",
   "execution_count": 6,
   "metadata": {},
   "outputs": [
    {
     "name": "stdout",
     "output_type": "stream",
     "text": [
      "4\n",
      "4\n"
     ]
    }
   ],
   "source": [
    "#len of string is the number of character, number of iterations for list\n",
    "Wife = 'Erin'\n",
    "print(len(Wife))\n",
    "print(len(Friends))"
   ]
  },
  {
   "cell_type": "code",
   "execution_count": 26,
   "metadata": {},
   "outputs": [
    {
     "name": "stdout",
     "output_type": "stream",
     "text": [
      "4\n",
      "range(0, 4)\n",
      "range(0, 4)\n"
     ]
    },
    {
     "data": {
      "text/plain": [
       "4"
      ]
     },
     "execution_count": 26,
     "metadata": {},
     "output_type": "execute_result"
    }
   ],
   "source": [
    "#range len function returns a list of index integers [0, 1, 2, 3]\n",
    "print(len(Wife))\n",
    "print(range(len(Friends)))\n",
    "print(range(len(Wife)))\n",
    "len(Wife)"
   ]
  },
  {
   "cell_type": "code",
   "execution_count": 15,
   "metadata": {},
   "outputs": [
    {
     "name": "stdout",
     "output_type": "stream",
     "text": [
      "Go Kurt\n",
      "Go Tyler\n",
      "Go Matt\n",
      "Go Ryan\n",
      "Stop Kurt\n",
      "Stop Tyler\n",
      "Stop Matt\n",
      "Stop Ryan\n"
     ]
    }
   ],
   "source": [
    "for i in Friends :\n",
    "    print('Go', i)\n",
    "for i in range(len(Friends)) :\n",
    "    friend = Friends[i]\n",
    "    print('Stop',friend)"
   ]
  },
  {
   "cell_type": "code",
   "execution_count": 30,
   "metadata": {},
   "outputs": [
    {
     "name": "stdout",
     "output_type": "stream",
     "text": [
      "[1, 2, 3, 4, 5, 6]\n",
      "[1, 2, 3]\n",
      "[1]\n"
     ]
    }
   ],
   "source": [
    "#concatenate and slice no problem\n",
    "a = [1, 2, 3]\n",
    "b = [4, 5, 6]\n",
    "c = a + b\n",
    "print(c)\n",
    "print(a)\n",
    "print(a[0:1])"
   ]
  },
  {
   "cell_type": "code",
   "execution_count": 32,
   "metadata": {},
   "outputs": [
    {
     "data": {
      "text/plain": [
       "['__add__',\n",
       " '__class__',\n",
       " '__contains__',\n",
       " '__delattr__',\n",
       " '__delitem__',\n",
       " '__dir__',\n",
       " '__doc__',\n",
       " '__eq__',\n",
       " '__format__',\n",
       " '__ge__',\n",
       " '__getattribute__',\n",
       " '__getitem__',\n",
       " '__gt__',\n",
       " '__hash__',\n",
       " '__iadd__',\n",
       " '__imul__',\n",
       " '__init__',\n",
       " '__init_subclass__',\n",
       " '__iter__',\n",
       " '__le__',\n",
       " '__len__',\n",
       " '__lt__',\n",
       " '__mul__',\n",
       " '__ne__',\n",
       " '__new__',\n",
       " '__reduce__',\n",
       " '__reduce_ex__',\n",
       " '__repr__',\n",
       " '__reversed__',\n",
       " '__rmul__',\n",
       " '__setattr__',\n",
       " '__setitem__',\n",
       " '__sizeof__',\n",
       " '__str__',\n",
       " '__subclasshook__',\n",
       " 'append',\n",
       " 'clear',\n",
       " 'copy',\n",
       " 'count',\n",
       " 'extend',\n",
       " 'index',\n",
       " 'insert',\n",
       " 'pop',\n",
       " 'remove',\n",
       " 'reverse',\n",
       " 'sort']"
      ]
     },
     "execution_count": 32,
     "metadata": {},
     "output_type": "execute_result"
    }
   ],
   "source": [
    "x = list()\n",
    "dir(x)\n"
   ]
  },
  {
   "cell_type": "code",
   "execution_count": 49,
   "metadata": {},
   "outputs": [
    {
     "name": "stdout",
     "output_type": "stream",
     "text": [
      "['book', 10]\n",
      "['Dave', 'Kurt', 'Matt', 'Ryan', 'Tyler']\n"
     ]
    }
   ],
   "source": [
    "#list constructors changes the list\n",
    "stuff = list()\n",
    "stuff.append('book')\n",
    "stuff.append(10)\n",
    "Friends.append('Dave')\n",
    "print(stuff)\n",
    "\n",
    "#lists have order\n",
    "Friends.sort()\n",
    "print(Friends)"
   ]
  },
  {
   "cell_type": "code",
   "execution_count": 39,
   "metadata": {},
   "outputs": [
    {
     "name": "stdout",
     "output_type": "stream",
     "text": [
      "True\n",
      "True\n"
     ]
    }
   ],
   "source": []
  },
  {
   "cell_type": "code",
   "execution_count": 51,
   "metadata": {},
   "outputs": [
    {
     "name": "stdout",
     "output_type": "stream",
     "text": [
      "True\n",
      "True\n",
      "Max Tyler\n",
      "Min Dave\n",
      "Sum 6\n",
      "Average 2.0\n"
     ]
    }
   ],
   "source": [
    "#built in functions\n",
    "print(1 in a)\n",
    "print(7 not in b)\n",
    "\n",
    "print('Max',max(Friends))\n",
    "print('Min',min(Friends))\n",
    "print('Sum',sum(a))\n",
    "print('Average',sum(a)/len(a)) "
   ]
  },
  {
   "cell_type": "code",
   "execution_count": 52,
   "metadata": {},
   "outputs": [
    {
     "name": "stdin",
     "output_type": "stream",
     "text": [
      "Number: 5\n",
      "Number: 6\n",
      "Number: 7\n",
      "Number: 8\n",
      "Number: 6\n",
      "Number: done\n"
     ]
    },
    {
     "name": "stdout",
     "output_type": "stream",
     "text": [
      "Average: 5\n"
     ]
    }
   ],
   "source": [
    "#manual constructed loop\n",
    "\n",
    "total = 0\n",
    "count = 0\n",
    "while True :\n",
    "    inp = input('Number:')\n",
    "    if inp == 'done' : break\n",
    "    value = float(inp)\n",
    "    total = total + value\n",
    "    count = count + 1\n",
    "average = total = count\n",
    "print('Average:',average)"
   ]
  },
  {
   "cell_type": "code",
   "execution_count": 54,
   "metadata": {},
   "outputs": [
    {
     "name": "stdin",
     "output_type": "stream",
     "text": [
      "Number: 5\n",
      "Number: 6\n",
      "Number: 7\n",
      "Number: 6\n",
      "Number: 8\n",
      "Number: done\n"
     ]
    },
    {
     "name": "stdout",
     "output_type": "stream",
     "text": [
      "Average: 6.4\n"
     ]
    }
   ],
   "source": [
    "numlist= list()\n",
    "while True :\n",
    "    inp = input('Number:')\n",
    "    if inp == 'done' : break\n",
    "    value = float(inp)\n",
    "    numlist.append(value)\n",
    "average = sum(numlist) / len(numlist)\n",
    "print('Average:',average)"
   ]
  },
  {
   "cell_type": "code",
   "execution_count": 58,
   "metadata": {},
   "outputs": [
    {
     "name": "stdout",
     "output_type": "stream",
     "text": [
      "['With', 'three', 'words']\n",
      "3\n",
      "With\n",
      "With\n",
      "three\n",
      "words\n"
     ]
    }
   ],
   "source": [
    "#list and strings\n",
    "#split then for loop\n",
    "abc = 'With three words'\n",
    "stuff = abc.split()\n",
    "print(stuff)\n",
    "print(len(stuff))\n",
    "print(stuff[0])\n",
    "for w in stuff :\n",
    "    print(w)"
   ]
  },
  {
   "cell_type": "code",
   "execution_count": 60,
   "metadata": {},
   "outputs": [
    {
     "name": "stdout",
     "output_type": "stream",
     "text": [
      "['first', 'second', 'third']\n"
     ]
    }
   ],
   "source": [
    "#multiple spaces are treated like, unless you specify\n",
    "line = 'first;second;third'\n",
    "thing = line.split(';')\n",
    "print(thing)"
   ]
  },
  {
   "cell_type": "code",
   "execution_count": null,
   "metadata": {},
   "outputs": [],
   "source": [
    "handle = open('mbox-short.txt')\n",
    "for line in handle :\n",
    "    line = line.rstrip()\n",
    "    if not line.startswith('From ') : continue\n",
    "    words = line.split()\n",
    "    print(words[2])\n",
    "\n"
   ]
  },
  {
   "cell_type": "markdown",
   "metadata": {},
   "source": [
    "8.4 Open the file romeo.txt and read it line by line.\n",
    "For each line, split the line into a list of words using the split() method. \n",
    "The program should build a list of words. \n",
    "For each word on each line check to see if the word is already in the list\n",
    "and if not append it to the list. \n",
    "When the program completes, sort and print the resulting words in alphabetical order."
   ]
  },
  {
   "cell_type": "code",
   "execution_count": 65,
   "metadata": {},
   "outputs": [
    {
     "name": "stdout",
     "output_type": "stream",
     "text": [
      "['Arise', 'But', 'It', 'Juliet', 'Who', 'already', 'and', 'breaks', 'east', 'envious', 'fair', 'grief', 'is', 'kill', 'light', 'moon', 'pale', 'sick', 'soft', 'sun', 'the', 'through', 'what', 'window', 'with', 'yonder']\n"
     ]
    }
   ],
   "source": [
    "fname = 'romeo.txt'\n",
    "fh = open(fname)\n",
    "bag_of_words = list()\n",
    "for l in fh:\n",
    "    w = l.split()\n",
    "    for i in w :\n",
    "        if i not in bag_of_words :\n",
    "            bag_of_words.append(i)\n",
    "bag_of_words.sort()            \n",
    "print(bag_of_words)\n",
    "    #    line = line.rstrip()\n"
   ]
  },
  {
   "cell_type": "markdown",
   "metadata": {},
   "source": [
    "8.5 Open the file mbox-short.txt and read it line by line. \n",
    "When you find a line that starts with 'From ' like the following line:\n",
    "From stephen.marquard@uct.ac.za Sat Jan  5 09:14:16 2008\n",
    "You will parse the From line using split() and print out the second word in the line (i.e. the entire address of the person who sent the message). Then print out a count at the end.\n",
    "Hint: make sure not to include the lines that start with 'From:'."
   ]
  },
  {
   "cell_type": "code",
   "execution_count": 66,
   "metadata": {},
   "outputs": [
    {
     "name": "stdout",
     "output_type": "stream",
     "text": [
      "stephen.marquard@uct.ac.za\n",
      "louis@media.berkeley.edu\n",
      "zqian@umich.edu\n",
      "rjlowe@iupui.edu\n",
      "zqian@umich.edu\n",
      "rjlowe@iupui.edu\n",
      "cwen@iupui.edu\n",
      "cwen@iupui.edu\n",
      "gsilver@umich.edu\n",
      "gsilver@umich.edu\n",
      "zqian@umich.edu\n",
      "gsilver@umich.edu\n",
      "wagnermr@iupui.edu\n",
      "zqian@umich.edu\n",
      "antranig@caret.cam.ac.uk\n",
      "gopal.ramasammycook@gmail.com\n",
      "david.horwitz@uct.ac.za\n",
      "david.horwitz@uct.ac.za\n",
      "david.horwitz@uct.ac.za\n",
      "david.horwitz@uct.ac.za\n",
      "stephen.marquard@uct.ac.za\n",
      "louis@media.berkeley.edu\n",
      "louis@media.berkeley.edu\n",
      "ray@media.berkeley.edu\n",
      "cwen@iupui.edu\n",
      "cwen@iupui.edu\n",
      "cwen@iupui.edu\n",
      "There were 27 lines in the file with From as the first word\n"
     ]
    }
   ],
   "source": [
    "fname = 'mbox-short.txt'\n",
    "fh = open(fname)\n",
    "count = 0\n",
    "\n",
    "for line in fh :\n",
    "        if not line.startswith('From ') :\n",
    "            continue\n",
    "        w = line.split()\n",
    "        print(w[1])\n",
    "        count = count + 1\n",
    "print(\"There were\", count, \"lines in the file with From as the first word\")"
   ]
  }
 ],
 "metadata": {
  "kernelspec": {
   "display_name": "Python 3",
   "language": "python",
   "name": "python3"
  },
  "language_info": {
   "codemirror_mode": {
    "name": "ipython",
    "version": 3
   },
   "file_extension": ".py",
   "mimetype": "text/x-python",
   "name": "python",
   "nbconvert_exporter": "python",
   "pygments_lexer": "ipython3",
   "version": "3.7.3"
  }
 },
 "nbformat": 4,
 "nbformat_minor": 4
}
