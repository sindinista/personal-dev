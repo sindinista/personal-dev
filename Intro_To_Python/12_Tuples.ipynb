{
 "cells": [
  {
   "cell_type": "code",
   "execution_count": 2,
   "metadata": {},
   "outputs": [
    {
     "name": "stdout",
     "output_type": "stream",
     "text": [
      "Smith\n",
      "tuples are immutable and you cannot change order\n"
     ]
    }
   ],
   "source": [
    "#  2 tuple has two things 3 tuple has three things\n",
    "x = ('John','Wayne','Smith')\n",
    "print(x[2])\n",
    "\n",
    "# tuples are immutable\n",
    "try:\n",
    "    x[2] = 'Gary'\n",
    "except:\n",
    "    print('tuples are immutable and you cannot change order')\n",
    "\n",
    "# allows to be stored and more efficient"
   ]
  },
  {
   "cell_type": "code",
   "execution_count": 17,
   "metadata": {},
   "outputs": [
    {
     "name": "stdout",
     "output_type": "stream",
     "text": [
      "uncle\n",
      "4\n",
      "True\n",
      "dict_items([('a', 10), ('b', 1), ('d', 5), ('c', 42)])\n",
      "[('a', 10), ('b', 1), ('c', 42), ('d', 5)]\n",
      "a 10\n",
      "b 1\n",
      "c 42\n",
      "d 5\n",
      "[(42, 'c'), (10, 'a'), (5, 'd'), (1, 'b')]\n"
     ]
    }
   ],
   "source": [
    "# tuples and assignment\n",
    "(x, y) = ('uncle',4)\n",
    "print(x)\n",
    "print(y)\n",
    "\n",
    "# comparing tuples depends on item pair values\n",
    "print((0, 1, 3) < (5, 4, 3))\n",
    "\n",
    "# sorting listing of tuples\n",
    "d = {'a':10,'b':1,'d':5,'c':42}\n",
    "print(d.items())\n",
    "print(sorted(d.items()))\n",
    "\n",
    "# loop through dictionary by key order value\n",
    "for k, v in sorted(d.items()) :\n",
    "    print(k,v)\n",
    "\n",
    "tmp = list()\n",
    "for k, v in sorted(d.items()) :\n",
    "    tmp.append((v, k))\n",
    "tmp = sorted(tmp, reverse=True)\n",
    "print(tmp)"
   ]
  },
  {
   "cell_type": "code",
   "execution_count": 26,
   "metadata": {},
   "outputs": [
    {
     "name": "stdout",
     "output_type": "stream",
     "text": [
      "3 the\n",
      "3 is\n",
      "3 and\n",
      "2 sun\n",
      "1 yonder\n",
      "1 with\n",
      "1 window\n",
      "1 what\n",
      "1 through\n",
      "1 soft\n",
      "[(3, 'the'), (3, 'is'), (3, 'and'), (2, 'sun'), (1, 'yonder'), (1, 'with'), (1, 'window'), (1, 'what'), (1, 'through'), (1, 'soft'), (1, 'sick'), (1, 'pale'), (1, 'moon'), (1, 'light'), (1, 'kill'), (1, 'grief'), (1, 'fair'), (1, 'envious'), (1, 'east'), (1, 'breaks'), (1, 'already'), (1, 'Who'), (1, 'Juliet'), (1, 'It'), (1, 'But'), (1, 'Arise')]\n"
     ]
    }
   ],
   "source": [
    "# 10 most common words\n",
    "name = 'romeo.txt'\n",
    "handle = open(name)\n",
    "\n",
    "# make histogram\n",
    "counts = dict()\n",
    "for line in handle :\n",
    "    words = line.split()\n",
    "    for word in words :\n",
    "        counts[word] = counts.get(word, 0) + 1\n",
    "        \n",
    "# make a reversed tuple of the histogram and append to a list\n",
    "tmp = list()\n",
    "for k, v in counts.items() :\n",
    "    r = (v, k)\n",
    "    tmp.append(r)\n",
    "    \n",
    "tmp = sorted(tmp, reverse=True)\n",
    "for v, k in tmp[:10] :\n",
    "    print(v, k)\n",
    "    \n",
    "# list comprehension\n",
    "# creates a list of tuples that are key value reversed, then sorts \n",
    "print( sorted( [ (v, k) for k, v in counts.items()], reverse=True))\n"
   ]
  },
  {
   "cell_type": "code",
   "execution_count": 36,
   "metadata": {},
   "outputs": [
    {
     "name": "stdout",
     "output_type": "stream",
     "text": [
      "error\n",
      "['__add__', '__class__', '__contains__', '__delattr__', '__dir__', '__doc__', '__eq__', '__format__', '__ge__', '__getattribute__', '__getitem__', '__getnewargs__', '__gt__', '__hash__', '__init__', '__init_subclass__', '__iter__', '__le__', '__len__', '__lt__', '__mul__', '__ne__', '__new__', '__reduce__', '__reduce_ex__', '__repr__', '__rmul__', '__setattr__', '__sizeof__', '__str__', '__subclasshook__', 'count', 'index']\n",
      "['__add__', '__class__', '__contains__', '__delattr__', '__delitem__', '__dir__', '__doc__', '__eq__', '__format__', '__ge__', '__getattribute__', '__getitem__', '__gt__', '__hash__', '__iadd__', '__imul__', '__init__', '__init_subclass__', '__iter__', '__le__', '__len__', '__lt__', '__mul__', '__ne__', '__new__', '__reduce__', '__reduce_ex__', '__repr__', '__reversed__', '__rmul__', '__setattr__', '__setitem__', '__sizeof__', '__str__', '__subclasshook__', 'append', 'clear', 'copy', 'count', 'extend', 'index', 'insert', 'pop', 'remove', 'reverse', 'sort']\n",
      "dict_items([('But', 1), ('soft', 1), ('what', 1), ('light', 1), ('through', 1), ('yonder', 1), ('window', 1), ('breaks', 1), ('It', 1), ('is', 3), ('the', 3), ('east', 1), ('and', 3), ('Juliet', 1), ('sun', 2), ('Arise', 1), ('fair', 1), ('kill', 1), ('envious', 1), ('moon', 1), ('Who', 1), ('already', 1), ('sick', 1), ('pale', 1), ('with', 1), ('grief', 1)])\n",
      "2\n"
     ]
    }
   ],
   "source": [
    "# quiz\n",
    "try:\n",
    "    a = (1, 3, 2)\n",
    "    a.sort()\n",
    "except:\n",
    "    print('error')\n",
    "b = [1, 2, 3]\n",
    "print(dir(a))\n",
    "print(dir(b))\n",
    "y = counts.items()\n",
    "print(y)\n",
    "\n",
    "tmp = list()\n",
    "print(a[2])"
   ]
  },
  {
   "cell_type": "markdown",
   "metadata": {},
   "source": [
    "10.2 Write a program to read through the mbox-short.txt and figure out the distribution by hour of the day for each of the messages. You can pull the hour out from the 'From ' line by finding the time and then splitting the string a second time using a colon.\n",
    "From stephen.marquard@uct.ac.za Sat Jan  5 09:14:16 2008\n",
    "Once you have accumulated the counts for each hour, print out the counts, sorted by hour as shown below."
   ]
  },
  {
   "cell_type": "code",
   "execution_count": 77,
   "metadata": {},
   "outputs": [
    {
     "name": "stdout",
     "output_type": "stream",
     "text": [
      "04 3\n",
      "06 1\n",
      "07 1\n",
      "09 2\n",
      "10 3\n",
      "11 6\n",
      "14 1\n",
      "15 2\n",
      "16 4\n",
      "17 2\n",
      "18 1\n",
      "19 1\n"
     ]
    }
   ],
   "source": [
    "name = 'mbox-short.txt'\n",
    "handle = open(name)\n",
    "hour = list()\n",
    "time = list()\n",
    "counts = dict()\n",
    "\n",
    "# find the from line, split string value twice and append to list\n",
    "for line in handle :\n",
    "        if not line.startswith('From ') :\n",
    "            continue\n",
    "        x = line.split()\n",
    "        y = (x[5])\n",
    "        z = y.split(':')\n",
    "        hour.append(z[0])\n",
    "\n",
    "# make histogram \n",
    "counts = dict()\n",
    "for i in hour :\n",
    "    counts[i] = counts.get(i, 0) + 1\n",
    "        \n",
    "w = sorted( [ (k, v) for k, v in counts.items()])\n",
    "for i in w :\n",
    "    print(i[0], i[1])"
   ]
  }
 ],
 "metadata": {
  "kernelspec": {
   "display_name": "Python 3",
   "language": "python",
   "name": "python3"
  },
  "language_info": {
   "codemirror_mode": {
    "name": "ipython",
    "version": 3
   },
   "file_extension": ".py",
   "mimetype": "text/x-python",
   "name": "python",
   "nbconvert_exporter": "python",
   "pygments_lexer": "ipython3",
   "version": "3.7.3"
  }
 },
 "nbformat": 4,
 "nbformat_minor": 4
}
